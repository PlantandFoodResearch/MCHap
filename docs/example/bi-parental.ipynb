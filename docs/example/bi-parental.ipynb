{
 "cells": [
  {
   "cell_type": "markdown",
   "id": "8bbf4feb-901d-4c5d-bcde-00d6d3be5f8e",
   "metadata": {},
   "source": [
    "# Micro-haplotype assembly in an autopolyploid bi-parental cross\n",
    "\n",
    "*(Last updated for MCHap version 0.9.3)*\n",
    "\n",
    "This notebook demonstrates micro-haplotype assembly and genotype re-calling in a small bi-parental cross.\n",
    "It introduces the following topics:\n",
    "\n",
    "- **De novo haplotype assembly with `mchap assemble`**\n",
    "  - Input files\n",
    "  - Basic assembly\n",
    "  - Reporting posterior allele frequencies\n",
    "  - Adjusting the threshold for reporting alleles\n",
    "- **Re-calling genotypes with `mchap call`** (two-step approach)\n",
    "  - Basic re-calling\n",
    "  - Specifying prior allele frequencies\n",
    "  - Two-step approach with a pooled assembly\n",
    "\n",
    "**Software requirements:**\n",
    "\n",
    "This notebook uses the [bash-kernel](https://github.com/takluyver/bash_kernel) for Jupyter which can be installed with `pip install bash_kernel`.\n",
    "Alternatively, the code from this notebook may be run in a unix-like bash environment.\n",
    "\n",
    "In addition to using the MCHap software, these examples also require the `bgzip` and `tabix` tools which are part of [`htslib`](https://github.com/samtools/htslib).\n",
    "\n",
    "**Data sources:**\n",
    "\n",
    "The bi-parental population used within this notebook is a small subset of the population published by:\n",
    "J Tahir, C Brendolise, S Hoyte, M Lucas, S Thomson, K Hoeata, C McKenzie, A Wotton, K Funnell, E Morgan, D Hedderley, D Chagné, P M Bourke, J McCallum, S E Gardiner,* and L Gea \n",
    "“QTL Mapping for Resistance to Cankers Induced by Pseudomonas syringae pv. actinidiae (Psa) in a Tetraploid Actinidia chinensis Kiwifruit Population” \n",
    "Pathogens 2020, 9, 967; doi:10.3390/pathogens9110967\n",
    "\n",
    "- Raw sequences: [10.5281/zenodo.4285665](https://zenodo.org/record/4285666) and [10.5281/zenodo.4287636](https://zenodo.org/record/4287637)\n",
    "- Reference genome: DOI [10.5281/zenodo.5717386](https://zenodo.org/record/5717387) (chromosome 1 only)\n"
   ]
  },
  {
   "cell_type": "markdown",
   "id": "6917e307-5ed1-4fd5-8fbe-3df393e24c5c",
   "metadata": {},
   "source": [
    "## De novo haplotype assembly with `mchap assemble`\n",
    "\n",
    "*For more background information on* `mchap assemble` *see the online [documentation](https://github.com/PlantandFoodResearch/MCHap/blob/master/docs/assemble.rst).*"
   ]
  },
  {
   "cell_type": "markdown",
   "id": "ef434b09-0305-49b2-9ec1-6190a604fa76",
   "metadata": {},
   "source": [
    "### Input files\n",
    "\n",
    "The required input files have been organised by file type:\n",
    "\n",
    "- `input/bam` BAM alignment files for the parents and progeny samples\n",
    "- `input/bed` Target loci for haplotype assembly\n",
    "- `input/vcf` VCF file of \"basis\" SNVs\n",
    "- `input/fasta`: Reference genome"
   ]
  },
  {
   "cell_type": "markdown",
   "id": "7a3a629d-6067-4375-bea0-d81a9f80de3d",
   "metadata": {},
   "source": [
    "In this example we use one BAM file per sample:"
   ]
  },
  {
   "cell_type": "code",
   "execution_count": 1,
   "id": "3dda15df-9fa3-4b38-9b0c-c16df023dd99",
   "metadata": {},
   "outputs": [
    {
     "name": "stdout",
     "output_type": "stream",
     "text": [
      "\u001b[0m\u001b[01;32mparent1.loci.bam\u001b[0m         \u001b[01;32mprogeny006.loci.bam.bai\u001b[0m  \u001b[01;32mprogeny014.loci.bam\u001b[0m\n",
      "\u001b[01;32mparent1.loci.bam.bai\u001b[0m     \u001b[01;32mprogeny007.loci.bam\u001b[0m      \u001b[01;32mprogeny014.loci.bam.bai\u001b[0m\n",
      "\u001b[01;32mparent2.loci.bam\u001b[0m         \u001b[01;32mprogeny007.loci.bam.bai\u001b[0m  \u001b[01;32mprogeny015.loci.bam\u001b[0m\n",
      "\u001b[01;32mparent2.loci.bam.bai\u001b[0m     \u001b[01;32mprogeny008.loci.bam\u001b[0m      \u001b[01;32mprogeny015.loci.bam.bai\u001b[0m\n",
      "\u001b[01;32mprogeny001.loci.bam\u001b[0m      \u001b[01;32mprogeny008.loci.bam.bai\u001b[0m  \u001b[01;32mprogeny016.loci.bam\u001b[0m\n",
      "\u001b[01;32mprogeny001.loci.bam.bai\u001b[0m  \u001b[01;32mprogeny009.loci.bam\u001b[0m      \u001b[01;32mprogeny016.loci.bam.bai\u001b[0m\n",
      "\u001b[01;32mprogeny002.loci.bam\u001b[0m      \u001b[01;32mprogeny009.loci.bam.bai\u001b[0m  \u001b[01;32mprogeny017.loci.bam\u001b[0m\n",
      "\u001b[01;32mprogeny002.loci.bam.bai\u001b[0m  \u001b[01;32mprogeny010.loci.bam\u001b[0m      \u001b[01;32mprogeny017.loci.bam.bai\u001b[0m\n",
      "\u001b[01;32mprogeny003.loci.bam\u001b[0m      \u001b[01;32mprogeny010.loci.bam.bai\u001b[0m  \u001b[01;32mprogeny018.loci.bam\u001b[0m\n",
      "\u001b[01;32mprogeny003.loci.bam.bai\u001b[0m  \u001b[01;32mprogeny011.loci.bam\u001b[0m      \u001b[01;32mprogeny018.loci.bam.bai\u001b[0m\n",
      "\u001b[01;32mprogeny004.loci.bam\u001b[0m      \u001b[01;32mprogeny011.loci.bam.bai\u001b[0m  \u001b[01;32mprogeny019.loci.bam\u001b[0m\n",
      "\u001b[01;32mprogeny004.loci.bam.bai\u001b[0m  \u001b[01;32mprogeny012.loci.bam\u001b[0m      \u001b[01;32mprogeny019.loci.bam.bai\u001b[0m\n",
      "\u001b[01;32mprogeny005.loci.bam\u001b[0m      \u001b[01;32mprogeny012.loci.bam.bai\u001b[0m  \u001b[01;32mprogeny020.loci.bam\u001b[0m\n",
      "\u001b[01;32mprogeny005.loci.bam.bai\u001b[0m  \u001b[01;32mprogeny013.loci.bam\u001b[0m      \u001b[01;32mprogeny020.loci.bam.bai\u001b[0m\n",
      "\u001b[01;32mprogeny006.loci.bam\u001b[0m      \u001b[01;32mprogeny013.loci.bam.bai\u001b[0m\n"
     ]
    }
   ],
   "source": [
    "ls input/bam"
   ]
  },
  {
   "cell_type": "markdown",
   "id": "872b7113-9697-4b89-9d9b-ff2b17bdd6aa",
   "metadata": {},
   "source": [
    "The BED file specifies the genomic coordinates of assembly targets. The fourth column (loci ID) of the BED file is optional but, if present, the loci IDs will be included in the output VCF file:"
   ]
  },
  {
   "cell_type": "code",
   "execution_count": 2,
   "id": "fc629f55-2f57-4e07-a456-928456149250",
   "metadata": {},
   "outputs": [
    {
     "name": "stdout",
     "output_type": "stream",
     "text": [
      "chr1\t17590\t17709\tlocus001\n",
      "chr1\t89897\t90016\tlocus002\n",
      "chr1\t107231\t107350\tlocus003\n",
      "chr1\t267278\t267397\tlocus004\n",
      "chr1\t272035\t272154\tlocus005\n",
      "chr1\t377108\t377223\tlocus006\n",
      "chr1\t403018\t403137\tlocus007\n",
      "chr1\t463972\t464091\tlocus008\n",
      "chr1\t530671\t530790\tlocus009\n",
      "chr1\t532849\t532968\tlocus010\n",
      "chr1\t538202\t538321\tlocus011\n",
      "chr1\t568848\t568967\tlocus012\n",
      "chr1\t585411\t585530\tlocus013\n",
      "chr1\t596680\t596799\tlocus014\n",
      "chr1\t603851\t603970\tlocus015\n",
      "chr1\t684808\t684927\tlocus016\n",
      "chr1\t695531\t695650\tlocus017\n",
      "chr1\t717620\t717739\tlocus018\n",
      "chr1\t809104\t809223\tlocus019\n",
      "chr1\t1027533\t1027652\tlocus020\n"
     ]
    }
   ],
   "source": [
    "cat input/bed/targets20.bed"
   ]
  },
  {
   "cell_type": "markdown",
   "id": "95dbe279-1007-4c82-a5f9-8a994921f1c4",
   "metadata": {},
   "source": [
    "Note that the examples in this notebook only require a subset of these loci as defined in:"
   ]
  },
  {
   "cell_type": "code",
   "execution_count": 3,
   "id": "e0990cdb-39a8-4c2c-bd6f-ff5056f6243f",
   "metadata": {},
   "outputs": [
    {
     "name": "stdout",
     "output_type": "stream",
     "text": [
      "chr1\t17590\t17709\tlocus001\n",
      "chr1\t568848\t568967\tlocus012\n",
      "chr1\t684808\t684927\tlocus016\n",
      "chr1\t809104\t809223\tlocus019\n"
     ]
    }
   ],
   "source": [
    "cat input/bed/targets4.bed"
   ]
  },
  {
   "cell_type": "markdown",
   "id": "c86c9d66-930d-4d91-8fca-4bd38574312a",
   "metadata": {},
   "source": [
    "The input VCF file is used to specify basis SNVs for haplotype alleles. These may be multi-allelic SNVs. Any sample data within this VCF file will be ignored:"
   ]
  },
  {
   "cell_type": "code",
   "execution_count": 4,
   "id": "918688f5-4b2c-4933-873f-6907ce3751e1",
   "metadata": {},
   "outputs": [
    {
     "name": "stdout",
     "output_type": "stream",
     "text": [
      "##fileformat=VCFv4.3\n",
      "##fileDate=20221212\n",
      "##source=NotPretty\n",
      "##reference=chr1.fa\n",
      "##contig=<ID=chr1,length=21898217,assembly=Red5v2,species=\"Actinidia chinensis\">\n",
      "##phasing=partial\n",
      "#CHROM\tPOS\tID\tREF\tALT\tQUAL\tFILTER\tINFO\n",
      "chr1\t17495\t.\tA\tC\t.\t.\t.\n",
      "chr1\t17507\t.\tT\tC\t.\t.\t.\n",
      "chr1\t17528\t.\tT\tA\t.\t.\t.\n",
      "chr1\t17564\t.\tA\tG\t.\t.\t.\n",
      "chr1\t17576\t.\tT\tC\t.\t.\t.\n",
      "chr1\t17587\t.\tC\tT\t.\t.\t.\n",
      "chr1\t17591\t.\tG\tA\t.\t.\t.\n",
      "chr1\t17602\t.\tG\tA\t.\t.\t.\n",
      "chr1\t17612\t.\tA\tG\t.\t.\t.\n",
      "chr1\t17616\t.\tA\tG\t.\t.\t.\n",
      "chr1\t17624\t.\tC\tT\t.\t.\t.\n",
      "chr1\t17625\t.\tG\tC\t.\t.\t.\n",
      "chr1\t17629\t.\tG\tT\t.\t.\t.\n"
     ]
    }
   ],
   "source": [
    "head -n 20 input/vcf/snvs.vcf"
   ]
  },
  {
   "cell_type": "markdown",
   "id": "ee86267b-e05f-47e1-878e-56ab416eb3c9",
   "metadata": {
    "tags": []
   },
   "source": [
    "### Basic assembly\n",
    "\n",
    "A simple `mchap assemble` command:"
   ]
  },
  {
   "cell_type": "code",
   "execution_count": 5,
   "id": "f9abbbf8-f143-482c-a26b-65fa92f9cc10",
   "metadata": {},
   "outputs": [],
   "source": [
    "mchap assemble \\\n",
    "        --bam input/bam/*.bam \\\n",
    "        --targets input/bed/targets4.bed \\\n",
    "        --variants input/vcf/snvs.vcf.gz \\\n",
    "        --reference input/fasta/chr1.fa.gz \\\n",
    "        --ploidy 4 \\\n",
    "        --inbreeding 0.01 \\\n",
    "        | bgzip > assemble.vcf.gz\n",
    "tabix -p vcf assemble.vcf.gz"
   ]
  },
  {
   "cell_type": "markdown",
   "id": "05f4350d-9ca9-4949-a787-a9022aad6558",
   "metadata": {},
   "source": [
    "Notes:\n",
    "- The `--bam` argument may be file with a list of BAM paths ([documentation](https://github.com/PlantandFoodResearch/MCHap/blob/master/docs/assemble.rst#analyzing-many-samples))\n",
    "- The `--ploidy` and `--inbreeding` values can be specified per sample using a simple tabular file ([documentation](https://github.com/PlantandFoodResearch/MCHap/blob/master/docs/assemble.rst#sample-parameters))\n",
    "- The `--inbreeding` argument will default to `0` which may be unrealistic and it's often better to guess a \"sensible\" value ([documentation](https://github.com/PlantandFoodResearch/MCHap/blob/master/docs/assemble.rst#sample-parameters))\n",
    "- The output of `mchap assemble` is piped into `bgzip` and the resulting compressed VCF file is saved as `assemble.vcf.gz`\n",
    "- The `tabix` tool is then used to index the compressed VCF file"
   ]
  },
  {
   "cell_type": "markdown",
   "id": "30af9ce0-fb91-44ed-a52f-437c66dcd98b",
   "metadata": {},
   "source": [
    "Look at the VCF header information:"
   ]
  },
  {
   "cell_type": "code",
   "execution_count": 6,
   "id": "364bad0c-ff38-491d-bd6d-86d8e723ada1",
   "metadata": {},
   "outputs": [
    {
     "name": "stdout",
     "output_type": "stream",
     "text": [
      "\u001b[01;31m\u001b[K#\u001b[m\u001b[K#fileformat=VCFv4.3\n",
      "\u001b[01;31m\u001b[K#\u001b[m\u001b[K#fileDate=20240315\n",
      "\u001b[01;31m\u001b[K#\u001b[m\u001b[K#source=mchap v0.9.3\n",
      "\u001b[01;31m\u001b[K#\u001b[m\u001b[K#phasing=None\n",
      "\u001b[01;31m\u001b[K#\u001b[m\u001b[K#commandline=\"/home/cfltxm/Software/miniconda3/envs/mchap/bin/mchap assemble --bam input/bam/parent1.loci.bam input/bam/parent2.loci.bam input/bam/progeny001.loci.bam input/bam/progeny002.loci.bam input/bam/progeny003.loci.bam input/bam/progeny004.loci.bam input/bam/progeny005.loci.bam input/bam/progeny006.loci.bam input/bam/progeny007.loci.bam input/bam/progeny008.loci.bam input/bam/progeny009.loci.bam input/bam/progeny010.loci.bam input/bam/progeny011.loci.bam input/bam/progeny012.loci.bam input/bam/progeny013.loci.bam input/bam/progeny014.loci.bam input/bam/progeny015.loci.bam input/bam/progeny016.loci.bam input/bam/progeny017.loci.bam input/bam/progeny018.loci.bam input/bam/progeny019.loci.bam input/bam/progeny020.loci.bam --targets input/bed/targets4.bed --variants input/vcf/snvs.vcf.gz --reference input/fasta/chr1.fa.gz --ploidy 4 --inbreeding 0.01\"\n",
      "\u001b[01;31m\u001b[K#\u001b[m\u001b[K#randomseed=42\n",
      "\u001b[01;31m\u001b[K#\u001b[m\u001b[K#contig=<ID=chr1,length=21898217>\n",
      "\u001b[01;31m\u001b[K#\u001b[m\u001b[K#FILTER=<ID=PASS,Description=\"All filters passed\">\n",
      "\u001b[01;31m\u001b[K#\u001b[m\u001b[K#FILTER=<ID=NOA,Description=\"No observed alleles at locus\">\n",
      "\u001b[01;31m\u001b[K#\u001b[m\u001b[K#FILTER=<ID=AF0,Description=\"All alleles have prior allele frequency of zero\">\n",
      "\u001b[01;31m\u001b[K#\u001b[m\u001b[K#INFO=<ID=AN,Number=1,Type=Integer,Description=\"Total number of alleles in called genotypes\">\n",
      "\u001b[01;31m\u001b[K#\u001b[m\u001b[K#INFO=<ID=AC,Number=A,Type=Integer,Description=\"Allele count in genotypes, for each ALT allele, in the same order as listed\">\n",
      "\u001b[01;31m\u001b[K#\u001b[m\u001b[K#INFO=<ID=REFMASKED,Number=0,Type=Flag,Description=\"Reference allele is masked\">\n",
      "\u001b[01;31m\u001b[K#\u001b[m\u001b[K#INFO=<ID=NS,Number=1,Type=Integer,Description=\"Number of samples with data\">\n",
      "\u001b[01;31m\u001b[K#\u001b[m\u001b[K#INFO=<ID=DP,Number=1,Type=Integer,Description=\"Combined depth across samples\">\n",
      "\u001b[01;31m\u001b[K#\u001b[m\u001b[K#INFO=<ID=RCOUNT,Number=1,Type=Integer,Description=\"Total number of observed reads across all samples\">\n",
      "\u001b[01;31m\u001b[K#\u001b[m\u001b[K#INFO=<ID=END,Number=1,Type=Integer,Description=\"End position on CHROM\">\n",
      "\u001b[01;31m\u001b[K#\u001b[m\u001b[K#INFO=<ID=NVAR,Number=1,Type=Integer,Description=\"Number of input variants within assembly locus\">\n",
      "\u001b[01;31m\u001b[K#\u001b[m\u001b[K#INFO=<ID=SNVPOS,Number=.,Type=Integer,Description=\"Relative (1-based) positions of SNVs within haplotypes\">\n",
      "\u001b[01;31m\u001b[K#\u001b[m\u001b[K#FORMAT=<ID=GT,Number=1,Type=String,Description=\"Genotype\">\n",
      "\u001b[01;31m\u001b[K#\u001b[m\u001b[K#FORMAT=<ID=GQ,Number=1,Type=Integer,Description=\"Genotype quality\">\n",
      "\u001b[01;31m\u001b[K#\u001b[m\u001b[K#FORMAT=<ID=PHQ,Number=1,Type=Integer,Description=\"Phenotype quality\">\n",
      "\u001b[01;31m\u001b[K#\u001b[m\u001b[K#FORMAT=<ID=DP,Number=1,Type=Integer,Description=\"Read depth\">\n",
      "\u001b[01;31m\u001b[K#\u001b[m\u001b[K#FORMAT=<ID=RCOUNT,Number=1,Type=Integer,Description=\"Total count of read pairs within haplotype interval\">\n",
      "\u001b[01;31m\u001b[K#\u001b[m\u001b[K#FORMAT=<ID=RCALLS,Number=1,Type=Integer,Description=\"Total count of read base calls matching a known variant\">\n",
      "\u001b[01;31m\u001b[K#\u001b[m\u001b[K#FORMAT=<ID=MEC,Number=1,Type=Integer,Description=\"Minimum error correction\">\n",
      "\u001b[01;31m\u001b[K#\u001b[m\u001b[K#FORMAT=<ID=MECP,Number=1,Type=Float,Description=\"Minimum error correction proportion\">\n",
      "\u001b[01;31m\u001b[K#\u001b[m\u001b[K#FORMAT=<ID=GPM,Number=1,Type=Float,Description=\"Genotype posterior mode probability\">\n",
      "\u001b[01;31m\u001b[K#\u001b[m\u001b[K#FORMAT=<ID=PHPM,Number=1,Type=Float,Description=\"Phenotype posterior mode probability\">\n",
      "\u001b[01;31m\u001b[K#\u001b[m\u001b[K#FORMAT=<ID=MCI,Number=1,Type=Integer,Description=\"Replicate Markov-chain incongruence, 0 = none, 1 = incongruence, 2 = putative CNV\">\n",
      "\u001b[01;31m\u001b[K#\u001b[m\u001b[KCHROM\tPOS\tID\tREF\tALT\tQUAL\tFILTER\tINFO\tFORMAT\tparent1\tparent2\tprogeny001\tprogeny002\tprogeny003\tprogeny004\tprogeny005\tprogeny006\tprogeny007\tprogeny008\tprogeny009\tprogeny010\tprogeny011\tprogeny012\tprogeny013\tprogeny014\tprogeny015\tprogeny016\tprogeny017\tprogeny018\tprogeny019\tprogeny020\n"
     ]
    }
   ],
   "source": [
    "zcat assemble.vcf.gz | grep \"^#\""
   ]
  },
  {
   "cell_type": "markdown",
   "id": "d1a303b1-74d6-4565-b20e-7a91068414d2",
   "metadata": {},
   "source": [
    "Look at `locus001`:"
   ]
  },
  {
   "cell_type": "code",
   "execution_count": 7,
   "id": "0bc2a7d8-e364-4571-86f4-5c39d345dd07",
   "metadata": {},
   "outputs": [
    {
     "name": "stdout",
     "output_type": "stream",
     "text": [
      "chr1\t17591\t\u001b[01;31m\u001b[Klocus001\u001b[m\u001b[K\tGTTATTGGACAGTGACGATGGAGTGATTGCTGGCGCAGGCCGCCAGCACCACCACCACCAAGTCGACATGTCCGACATTTATGGGGTGGTGCCACAAAACCTGCTCACAAATGGTACAC\tATTATTGGACAATGACGATGGGGTGGTTGCTGGCCCAGTCCGCCAGCACCACCACCACCAAGTCAACATGTCGGACATTTATGGGGTGGTGCCACGAAACCTGATCACAAATGGCGCAC,GTTATTGGACAGTGACGATGGAGTGATTGCTGGTGCAGGCCGCCAGCACCACCACCACCAAGTCGACATGTCCGACATTTATGGGGTGGTGCCACAAAACCTGCTCACAAATGGCACAC,ATTATTGGACAATGACGATGGGGTGGTTGCTGGCCCAGTCCGCCAGCACCACCACCACCAAGTCAACATGTCGGACATTTATGGGGTGGTGCCACGAAACCTGATCACAAATGGTGCAC\t.\tPASS\tAN=88;AC=22,12,0;NS=22;DP=619;RCOUNT=847;END=17709;NVAR=13;SNVPOS=1,12,22,26,34,35,39,65,73,96,104,115,116\tGT:GQ:PHQ:DP:RCOUNT:RCALLS:MEC:MECP:GPM:PHPM:MCI\t0/0/1/2:28:28:30:43:383:2:0.005:0.998:0.998:0\t0/0/0/1:3:3:22:28:280:2:0.007:0.48:0.48:0\t0/0/1/2:60:60:31:41:401:1:0.002:1:1:0\t0/0/1/2:6:6:14:26:176:0:0:0.752:0.761:0\t0/0/1/2:17:18:25:31:320:0:0:0.982:0.983:0\t0/0/1/2:60:60:31:46:408:0:0:1:1:0\t0/0/0/1:28:28:22:33:291:0:0:0.998:0.998:0\t0/0/1/2:27:60:21:26:272:1:0.004:0.998:1:0\t0/0/1/2:3:3:38:50:497:1:0.002:0.502:0.502:0\t0/0/0/1:60:60:33:46:424:1:0.002:1:1:0\t0/0/0/1:9:9:28:41:358:4:0.011:0.864:0.867:0\t0/0/0/1:16:17:19:27:251:0:0:0.976:0.98:0\t0/0/1/2:25:25:27:35:347:0:0:0.996:0.996:0\t0/0/0/1:25:25:30:37:387:3:0.008:0.996:0.996:0\t0/0/0/1:60:60:39:58:511:0:0:1:1:0\t0/0/1/2:60:60:27:38:346:0:0:1:1:0\t0/0/1/2:33:60:25:34:326:1:0.003:1:1:0\t0/0/0/1:26:26:26:35:341:0:0:0.998:0.998:0\t0/0/1/2:20:20:34:45:441:0:0:0.991:0.991:0\t0/0/1/2:60:60:37:50:483:0:0:1:1:0\t0/0/0/1:10:10:30:39:386:3:0.008:0.91:0.91:0\t0/0/0/1:60:60:30:38:390:0:0:1:1:0\n"
     ]
    }
   ],
   "source": [
    "zcat assemble.vcf.gz | grep \"locus001\""
   ]
  },
  {
   "cell_type": "markdown",
   "id": "2617abc0-0284-4fcc-b41d-11f01c00e7fa",
   "metadata": {},
   "source": [
    "It looks like `locus001` assembled fairly well given that all progeny genotypes seem to contain some combination of parental alleles (the first two genotypes, `0/0/1/2` and `0/0/0/1` are the parents.\n",
    "\n",
    "Note that allele `3` was reported but not called in any samples.\n",
    "This is because MCHap reports all haplotype-alleles that have a probability of occurring in any sample which is above a certain threshold.\n",
    "We will see how to adjust this threshold bellow."
   ]
  },
  {
   "cell_type": "markdown",
   "id": "4c4c73d5-b9a8-42aa-ad8c-34b961a4eb85",
   "metadata": {},
   "source": [
    "Next we'll look at `locus012`:"
   ]
  },
  {
   "cell_type": "code",
   "execution_count": 8,
   "id": "d97c4389-c808-4f14-aec2-aac122414279",
   "metadata": {},
   "outputs": [
    {
     "name": "stdout",
     "output_type": "stream",
     "text": [
      "chr1\t568849\t\u001b[01;31m\u001b[Klocus012\u001b[m\u001b[K\tTTGATAGATTGGAAATGAGAGGGGTGAAGGTGCATATTCTCAACATAACACAGCTCTCAGAGTATCGAAAAGACGGTCACCCCTCGATTTATAGAAGGCAATGGGTGGCTTTAACAGAA\tTTGATAGGTTGGAAATGAGAGGGGTGAAGGTGCATATTCTCAACATAACACAGCTCTCAGAGTATCGAAAAGACGGTCACCCCTCGATTTATAGAAGGCAATGGGTGGCTTTAACAGAA,TTGATAGATTGGAAATGAGAGGGGTGAAGGTGCATATTCTCAACATAACACAGCTCTCAGAGTATCGAAAAGACGGTCACCCCTCCATTTACAGAAGGCAATGGGTGGCTTTAACAGAA,TTGATGGATTGGAAATGAGAGGTGTGAAGGTGCATACTCTCAACATAACACAGTTCTCCGAGTATCGAAAAGACGGTCACCCCTCAATTTACAGAAGGCAATGGGTGGCTTTACCAGAA,TTGATAGATTGGAAATGAGAGGGGTGAATGTGCATATTCTCAACATAACACAGCTCTCAGAGTATCGAAAAGACGGTCACCCCTCGATTTACAGAAGGCAATGGGTGGCTTTAACAGAA,TTGATAGGTTGGAAATGAGAGGGGTGAAGGTGCATATTCTCAACATAACACAGCTCTCAGAGTATCGAAAAGACGGTCACCCCTCCATTTACAGAAGGCAATGGGTGGCTTTAACAGAA,TTGATAGATTGGAAATGAGAGGGGTGAAGGTGCATATTGTCAACATAACACAGCTCTCAGAGTATCGAAAAGACGGTCACCCCTCCATTTACAGAAGGCAATGGGTGGCTTTAACAGAA,TTGATGGATTGGAAATGAGAGGTGTGAAGGTGCATACTCTCAACATAACACAGTTCTCCGAGTATCGAAAAGACGGTCACCCCTCGATTTATAGAAGGCAATGGGTGGCTTTAACAGAA,TTGATAGATTGGAAATGAGAGGGGTGAATGTGCATATTCTCAACATAACACAACTTTCAGAGTATCGAAAAGACGGTCACCCCTCGATTTACAGAAGGCAATGGGTGGCTTTAACAGAA,TTGATGGATTGGAAATGAGAGGTGTGAAGGTGCATACTCTCAACATAACACAACTTTCAGAGTATCGAAAAGACGGTCACCCCTCAATTTACAGAAGGCAATGGGTGGCTTTACCAGAA,TTGATGGATTGGAAATGAGAGGTGTGAAGGTGCATACTCTCAACATAACACAGTTCTCCGAGTATCGAAAAGACGGTCACCCCTCAATTTACAGAAGGCAATGGGTGGCTTTAACAGAA,TTGATGGATTGGAAATGAGAGGTGTGAAGGTGCATACTCTCAACATAACACAACTTTCAGAGTATCGAAAAGACGGTCACCCCTCGATTTATAGAAGGCAATGGGTGGCTTTAACAGAA,TTGATGGATTGGAAATGAGAGGTGTGAAGGTGCATACTCTCAACATAACACAGTTCTCAGAGTATCGAAAAGACGGTCACCCCTCGATTTACAGAAGGCAATGGGTGGCTTTAACAGAA,TTGATGGATTGGAAATGAGAGGTGTGAAGGTGCATACTCTCAACATAACACAACTTTCAGAGTATCGAAAAGACGGTCACCCCTCAATTTACAGAAGGCAATGGGTGGCTTTAACAGAA,TTGATAGGTTGGAAATGAGAGGGGTGAAGGTGCATATTCTCAACATAACACAACTTTCAGAGTATCGAAAAGACGGTCACCCCTCCATTTACAGAAGGCAATGGGTGGCTTTAACAGAA,TTGATAGGTTGGAAATGAGAGGGGTGAAGGTGCATACTCTCAACATAACACAACTTTCAGAGTATCGAAAAGACGGTCACCCCTCCATTTACAGAAGGCAATGGGTGGCTTTAACAGAA,TTGATGGATTGGAAATGAGAGGTGTGAAGGTGCATACTCTCAACATAACACAGTTCTCAGAGTATCGAAAAGACGGTCACCCCTCGATTTATAGAAGGCAATGGGTGGCTTTAACAGAA\t.\tPASS\tAN=84;AC=24,12,10,9,8,5,4,3,3,1,3,1,0,1,0,0;REFMASKED;NS=22;DP=1596;RCOUNT=2447;END=568967;NVAR=13;SNVPOS=6,8,23,29,37,39,53,54,56,59,86,92,114\tGT:GQ:PHQ:DP:RCOUNT:RCALLS:MEC:MECP:GPM:PHPM:MCI\t1/4/6/9:60:60:83:131:1077:32:0.03:1:1:0\t1/2/5/7:7:7:127:189:1643:18:0.011:0.818:0.818:0\t1/3/5/.:0:0:95:141:1238:0:0:0.088:0.088:0\t1/2/4/5:3:3:69:101:896:40:0.045:0.5:0.5:2\t1/2/14/.:0:0:57:88:733:6:0.008:0.08:0.08:0\t1/4/5/12:3:3:62:110:806:14:0.017:0.503:0.503:0\t1/1/2/7:2:2:62:85:806:4:0.005:0.333:0.333:0\t1/2/3/6:28:28:36:51:469:0:0:0.998:0.998:0\t1/3/5/.:0:0:87:130:1123:0:0:0.044:0.044:0\t1/2/4/9:3:3:76:117:984:23:0.023:0.5:0.5:2\t1/2/3/4:7:7:57:100:739:14:0.019:0.792:0.792:0\t1/3/4/5:60:60:70:98:908:4:0.004:1:1:0\t1/3/6/11:0:0:64:94:830:0:0:0.102:0.102:0\t1/5/7/8:11:11:90:150:1165:17:0.015:0.916:0.916:0\t1/2/3/4:23:23:56:84:732:14:0.019:0.995:0.995:0\t1/2/3/.:0:0:61:98:785:0:0:0.106:0.106:0\t1/2/6/9:3:3:66:103:851:29:0.034:0.5:0.5:2\t1/2/8/10:3:3:58:91:754:23:0.031:0.498:0.498:2\t1/3/5/8:60:60:116:180:1502:19:0.013:1:1:0\t1/1/7/11:1:1:81:116:1050:8:0.008:0.212:0.212:0\t1/3/4/6:22:22:55:84:710:30:0.042:0.994:0.994:0\t1/2/4/11:2:2:68:106:883:28:0.032:0.413:0.413:2\n"
     ]
    }
   ],
   "source": [
    "zcat assemble.vcf.gz | grep \"locus012\""
   ]
  },
  {
   "cell_type": "markdown",
   "id": "b3a6a457-3c90-4ac6-b64e-420351286f84",
   "metadata": {},
   "source": [
    "It looks like `locus012` assembled poorly, the symptoms of a poor assembly include:\n",
    "\n",
    "- Many alleles (13 called, 16 reported)\n",
    "- Highly heterozygous genotypes\n",
    "- Some genotypes have unknown alleles (e.g., `1/2/14/.`) resulting from genotype calls with un-reported alleles\n",
    "- Progeny containing alleles that are not present in their parents\n",
    "- Low `GQ` and `PHQ` scores (also `GPM` and `PHPM`)\n",
    "- Several `MCI` values of `2` indicating incongruence between MCMC replicates (putative CNV))\n",
    "\n",
    "There are two main reasons of bad assemblies:\n",
    "\n",
    "- Low read depth relative to ploidy, or few reads connecting basis SNVs.\n",
    "- More alleles present than should be possible given the ploidy (as indicated by an `MCI` of `2`).\n",
    "\n",
    "There may be several causes of excess alleles:\n",
    "\n",
    "- Incorrect  ploidy\n",
    "- Sample contamination\n",
    "- Of target reads\n",
    "- Copy number variation\n",
    "\n",
    "Note that the reference allele was not found as indicated by the `REFMASKED` tag"
   ]
  },
  {
   "cell_type": "markdown",
   "id": "d95d0056-d67a-408c-a2fb-ed9a5a01641b",
   "metadata": {},
   "source": [
    "Finally we'll look at `locus19` in which all samples have a read depth of zero:"
   ]
  },
  {
   "cell_type": "code",
   "execution_count": 9,
   "id": "075653b7-041e-4fb9-84c7-471470e2b2d1",
   "metadata": {},
   "outputs": [
    {
     "name": "stdout",
     "output_type": "stream",
     "text": [
      "chr1\t809105\t\u001b[01;31m\u001b[Klocus019\u001b[m\u001b[K\tGGGTGTGAAAATTGGGCTATTAGTTCTATTTATTATGGGTGCTAGCTGGACTTGTGATGCCAGAGAAGTAATGACCACCAGTCTCTCTAGTGGAGAAACCATGATCTCTGATGTTTCAG\t.\t.\tNOA\tAN=0;AC=.;REFMASKED;NS=0;DP=0;RCOUNT=0;END=809223;NVAR=12;SNVPOS=8,9,10,19,44,48,52,62,70,77,85,104\tGT:GQ:PHQ:DP:RCOUNT:RCALLS:MEC:MECP:GPM:PHPM:MCI\t./././.:0:0:0:0:0:0:.:0.002:0.002:0\t./././.:0:0:0:0:0:0:.:0.002:0.002:0\t./././.:0:0:0:0:0:0:.:0.002:0.002:0\t./././.:0:0:0:0:0:0:.:0.002:0.002:0\t./././.:0:0:0:0:0:0:.:0.002:0.002:0\t./././.:0:0:0:0:0:0:.:0.002:0.002:0\t./././.:0:0:0:0:0:0:.:0.002:0.002:0\t./././.:0:0:0:0:0:0:.:0.002:0.002:0\t./././.:0:0:0:0:0:0:.:0.002:0.002:0\t./././.:0:0:0:0:0:0:.:0.002:0.002:0\t./././.:0:0:0:0:0:0:.:0.002:0.002:0\t./././.:0:0:0:0:0:0:.:0.002:0.002:0\t./././.:0:0:0:0:0:0:.:0.002:0.002:0\t./././.:0:0:0:0:0:0:.:0.002:0.002:0\t./././.:0:0:0:0:0:0:.:0.002:0.002:0\t./././.:0:0:0:0:0:0:.:0.002:0.002:0\t./././.:0:0:0:0:0:0:.:0.002:0.002:0\t./././.:0:0:0:0:0:0:.:0.002:0.002:0\t./././.:0:0:0:0:0:0:.:0.002:0.002:0\t./././.:0:0:0:0:0:0:.:0.002:0.002:0\t./././.:0:0:0:0:0:0:.:0.002:0.002:0\t./././.:0:0:0:0:0:0:.:0.002:0.002:0\n"
     ]
    }
   ],
   "source": [
    "zcat assemble.vcf.gz | grep \"locus019\""
   ]
  },
  {
   "cell_type": "markdown",
   "id": "7080cfb9-974f-4ab6-a971-a36613a96ca0",
   "metadata": {},
   "source": [
    "Note that genotype calling at this locus has not been \"skipped\",\n",
    "but rather the called alleles did not meet the threshold for reporting.\n",
    "This includes the reference allele hence the `REFMASKED` tag."
   ]
  },
  {
   "cell_type": "markdown",
   "id": "7e4709bc-5fcc-49a7-892f-c3d4db8859a1",
   "metadata": {},
   "source": [
    "### Reporting posterior allele frequencies\n",
    "\n",
    "We can get MCHap to report posterior allele frequencies using `--report AFP`:"
   ]
  },
  {
   "cell_type": "code",
   "execution_count": 10,
   "id": "bc8daebd-a606-4401-90cd-84c389492a70",
   "metadata": {},
   "outputs": [],
   "source": [
    "mchap assemble \\\n",
    "        --bam input/bam/*.bam \\\n",
    "        --targets input/bed/targets4.bed \\\n",
    "        --variants input/vcf/snvs.vcf.gz \\\n",
    "        --reference input/fasta/chr1.fa.gz \\\n",
    "        --ploidy 4 \\\n",
    "        --inbreeding 0.01 \\\n",
    "        --report AFP \\\n",
    "        | bgzip > assemble.AFP.vcf.gz\n",
    "tabix -p vcf assemble.AFP.vcf.gz"
   ]
  },
  {
   "cell_type": "markdown",
   "id": "45bd7e0d-08ad-4c62-9bcd-aea609e19451",
   "metadata": {},
   "source": [
    "The `--report` argument can be used to add optional fields:\n",
    "\n",
    "- `AFP` posterior allele frequencies (multiply by ploidy to get the posterior mean dosage)\n",
    "- `GP` genotype posterior distribution\n",
    "- `GL` genotype log-likelihoods\n",
    "\n",
    "Note that the posterior distributions will be **truncated** to the *reported haplotype alleles*\n",
    "\n",
    "(see the [documentation](https://github.com/PlantandFoodResearch/MCHap/blob/master/docs/assemble.rst#output-parameters) for more detail)"
   ]
  },
  {
   "cell_type": "markdown",
   "id": "657e532c-b3b5-4cf7-8c3e-7e007404d699",
   "metadata": {},
   "source": [
    "`AFP` will be reported for every sample. The population mean `AFP` will also be reported in the `INFO` column:"
   ]
  },
  {
   "cell_type": "code",
   "execution_count": 11,
   "id": "95007c4d-4bbe-4b1f-98db-6a0575d8320b",
   "metadata": {},
   "outputs": [
    {
     "name": "stdout",
     "output_type": "stream",
     "text": [
      "chr1\t17591\t\u001b[01;31m\u001b[Klocus001\u001b[m\u001b[K\tGTTATTGGACAGTGACGATGGAGTGATTGCTGGCGCAGGCCGCCAGCACCACCACCACCAAGTCGACATGTCCGACATTTATGGGGTGGTGCCACAAAACCTGCTCACAAATGGTACAC\tATTATTGGACAATGACGATGGGGTGGTTGCTGGCCCAGTCCGCCAGCACCACCACCACCAAGTCAACATGTCGGACATTTATGGGGTGGTGCCACGAAACCTGATCACAAATGGCGCAC,GTTATTGGACAGTGACGATGGAGTGATTGCTGGTGCAGGCCGCCAGCACCACCACCACCAAGTCGACATGTCCGACATTTATGGGGTGGTGCCACAAAACCTGCTCACAAATGGCACAC,ATTATTGGACAATGACGATGGGGTGGTTGCTGGCCCAGTCCGCCAGCACCACCACCACCAAGTCAACATGTCGGACATTTATGGGGTGGTGCCACGAAACCTGATCACAAATGGTGCAC\t.\tPASS\tAN=88;AC=22,12,0;NS=22;DP=619;RCOUNT=847;END=17709;NVAR=13;SNVPOS=1,12,22,26,34,35,39,65,73,96,104,115,116;AFP=0.602,0.244,0.137,0.006\tGT:GQ:PHQ:DP:RCOUNT:RCALLS:MEC:MECP:GPM:PHPM:MCI:AFP\t0/0/1/2:28:28:30:43:383:2:0.005:0.998:0.998:0:0.5,0.25,0.25,0\t0/0/0/1:3:3:22:28:280:2:0.007:0.48:0.48:0:0.62,0.25,0,0\t0/0/1/2:60:60:31:41:401:1:0.002:1:1:0:0.5,0.25,0.25,0\t0/0/1/2:6:6:14:26:176:0:0:0.752:0.761:0:0.438,0.251,0.252,0\t0/0/1/2:17:18:25:31:320:0:0:0.982:0.983:0:0.5,0.25,0.246,0\t0/0/1/2:60:60:31:46:408:0:0:1:1:0:0.5,0.25,0.25,0\t0/0/0/1:28:28:22:33:291:0:0:0.998:0.998:0:0.75,0.25,0,0\t0/0/1/2:27:60:21:26:272:1:0.004:0.998:1:0:0.5,0.25,0.25,0\t0/0/1/2:3:3:38:50:497:1:0.002:0.502:0.502:0:0.5,0.126,0.25,0.124\t0/0/0/1:60:60:33:46:424:1:0.002:1:1:0:0.75,0.25,0,0\t0/0/0/1:9:9:28:41:358:4:0.011:0.864:0.867:0:0.716,0.251,0,0\t0/0/0/1:16:17:19:27:251:0:0:0.976:0.98:0:0.744,0.251,0,0\t0/0/1/2:25:25:27:35:347:0:0:0.996:0.996:0:0.5,0.249,0.25,0\t0/0/0/1:25:25:30:37:387:3:0.008:0.996:0.996:0:0.75,0.249,0,0.001\t0/0/0/1:60:60:39:58:511:0:0:1:1:0:0.75,0.25,0,0\t0/0/1/2:60:60:27:38:346:0:0:1:1:0:0.5,0.25,0.25,0\t0/0/1/2:33:60:25:34:326:1:0.003:1:1:0:0.5,0.25,0.25,0\t0/0/0/1:26:26:26:35:341:0:0:0.998:0.998:0:0.75,0.249,0,0\t0/0/1/2:20:20:34:45:441:0:0:0.991:0.991:0:0.5,0.25,0.248,0\t0/0/1/2:60:60:37:50:483:0:0:1:1:0:0.5,0.25,0.25,0\t0/0/0/1:10:10:30:39:386:3:0.008:0.91:0.91:0:0.73,0.247,0.019,0\t0/0/0/1:60:60:30:38:390:0:0:1:1:0:0.75,0.25,0,0\n"
     ]
    }
   ],
   "source": [
    "zcat assemble.AFP.vcf.gz | grep \"locus001\""
   ]
  },
  {
   "cell_type": "code",
   "execution_count": 12,
   "id": "481dfa17-2ad3-44e7-8a2a-8bcf35b45db9",
   "metadata": {},
   "outputs": [
    {
     "name": "stdout",
     "output_type": "stream",
     "text": [
      "chr1\t568849\t\u001b[01;31m\u001b[Klocus012\u001b[m\u001b[K\tTTGATAGATTGGAAATGAGAGGGGTGAAGGTGCATATTCTCAACATAACACAGCTCTCAGAGTATCGAAAAGACGGTCACCCCTCGATTTATAGAAGGCAATGGGTGGCTTTAACAGAA\tTTGATAGGTTGGAAATGAGAGGGGTGAAGGTGCATATTCTCAACATAACACAGCTCTCAGAGTATCGAAAAGACGGTCACCCCTCGATTTATAGAAGGCAATGGGTGGCTTTAACAGAA,TTGATAGATTGGAAATGAGAGGGGTGAAGGTGCATATTCTCAACATAACACAGCTCTCAGAGTATCGAAAAGACGGTCACCCCTCCATTTACAGAAGGCAATGGGTGGCTTTAACAGAA,TTGATGGATTGGAAATGAGAGGTGTGAAGGTGCATACTCTCAACATAACACAGTTCTCCGAGTATCGAAAAGACGGTCACCCCTCAATTTACAGAAGGCAATGGGTGGCTTTACCAGAA,TTGATAGATTGGAAATGAGAGGGGTGAATGTGCATATTCTCAACATAACACAGCTCTCAGAGTATCGAAAAGACGGTCACCCCTCGATTTACAGAAGGCAATGGGTGGCTTTAACAGAA,TTGATAGGTTGGAAATGAGAGGGGTGAAGGTGCATATTCTCAACATAACACAGCTCTCAGAGTATCGAAAAGACGGTCACCCCTCCATTTACAGAAGGCAATGGGTGGCTTTAACAGAA,TTGATAGATTGGAAATGAGAGGGGTGAAGGTGCATATTGTCAACATAACACAGCTCTCAGAGTATCGAAAAGACGGTCACCCCTCCATTTACAGAAGGCAATGGGTGGCTTTAACAGAA,TTGATGGATTGGAAATGAGAGGTGTGAAGGTGCATACTCTCAACATAACACAGTTCTCCGAGTATCGAAAAGACGGTCACCCCTCGATTTATAGAAGGCAATGGGTGGCTTTAACAGAA,TTGATAGATTGGAAATGAGAGGGGTGAATGTGCATATTCTCAACATAACACAACTTTCAGAGTATCGAAAAGACGGTCACCCCTCGATTTACAGAAGGCAATGGGTGGCTTTAACAGAA,TTGATGGATTGGAAATGAGAGGTGTGAAGGTGCATACTCTCAACATAACACAACTTTCAGAGTATCGAAAAGACGGTCACCCCTCAATTTACAGAAGGCAATGGGTGGCTTTACCAGAA,TTGATGGATTGGAAATGAGAGGTGTGAAGGTGCATACTCTCAACATAACACAGTTCTCCGAGTATCGAAAAGACGGTCACCCCTCAATTTACAGAAGGCAATGGGTGGCTTTAACAGAA,TTGATGGATTGGAAATGAGAGGTGTGAAGGTGCATACTCTCAACATAACACAACTTTCAGAGTATCGAAAAGACGGTCACCCCTCGATTTATAGAAGGCAATGGGTGGCTTTAACAGAA,TTGATGGATTGGAAATGAGAGGTGTGAAGGTGCATACTCTCAACATAACACAGTTCTCAGAGTATCGAAAAGACGGTCACCCCTCGATTTACAGAAGGCAATGGGTGGCTTTAACAGAA,TTGATGGATTGGAAATGAGAGGTGTGAAGGTGCATACTCTCAACATAACACAACTTTCAGAGTATCGAAAAGACGGTCACCCCTCAATTTACAGAAGGCAATGGGTGGCTTTAACAGAA,TTGATAGGTTGGAAATGAGAGGGGTGAAGGTGCATATTCTCAACATAACACAACTTTCAGAGTATCGAAAAGACGGTCACCCCTCCATTTACAGAAGGCAATGGGTGGCTTTAACAGAA,TTGATAGGTTGGAAATGAGAGGGGTGAAGGTGCATACTCTCAACATAACACAACTTTCAGAGTATCGAAAAGACGGTCACCCCTCCATTTACAGAAGGCAATGGGTGGCTTTAACAGAA,TTGATGGATTGGAAATGAGAGGTGTGAAGGTGCATACTCTCAACATAACACAGTTCTCAGAGTATCGAAAAGACGGTCACCCCTCGATTTATAGAAGGCAATGGGTGGCTTTAACAGAA\t.\tPASS\tAN=84;AC=24,12,10,9,8,5,4,3,3,1,3,1,0,1,0,0;REFMASKED;NS=22;DP=1596;RCOUNT=2447;END=568967;NVAR=13;SNVPOS=6,8,23,29,37,39,53,54,56,59,86,92,114;AFP=0,0.273,0.134,0.121,0.102,0.091,0.051,0.039,0.034,0.029,0.013,0.009,0.006,0.006,0.005,0.005,0.003\tGT:GQ:PHQ:DP:RCOUNT:RCALLS:MEC:MECP:GPM:PHPM:MCI:AFP\t1/4/6/9:60:60:83:131:1077:32:0.03:1:1:0:0,0.25,0,0,0.25,0,0.25,0,0,0.25,0,0,0,0,0,0,0\t1/2/5/7:7:7:127:189:1643:18:0.011:0.818:0.818:0:0,0.25,0.25,0,0,0.25,0,0.204,0,0,0.005,0,0,0,0,0,0\t1/3/5/.:0:0:95:141:1238:0:0:0.088:0.088:0:0,0.25,0,0.25,0,0.25,0,0,0,0,0,0.001,0,0,0,0,0\t1/2/4/5:3:3:69:101:896:40:0.045:0.5:0.5:2:0,0.25,0.25,0,0.25,0.125,0,0,0,0,0.124,0,0,0,0,0,0\t1/2/14/.:0:0:57:88:733:6:0.008:0.08:0.08:0:0,0.25,0.25,0.041,0,0,0,0,0,0,0,0,0,0,0.101,0.099,0\t1/4/5/12:3:3:62:110:806:14:0.017:0.503:0.503:0:0,0.25,0,0,0.25,0.25,0,0,0,0,0,0,0.126,0,0,0,0.075\t1/1/2/7:2:2:62:85:806:4:0.005:0.333:0.333:0:0,0.5,0.25,0,0,0,0,0.083,0,0,0.034,0,0,0,0,0,0\t1/2/3/6:28:28:36:51:469:0:0:0.998:0.998:0:0,0.25,0.25,0.25,0,0,0.25,0,0,0,0,0,0,0,0,0,0\t1/3/5/.:0:0:87:130:1123:0:0:0.044:0.044:0:0,0.25,0,0.249,0,0.25,0,0,0,0.002,0,0.005,0,0.001,0.001,0.001,0\t1/2/4/9:3:3:76:117:984:23:0.023:0.5:0.5:2:0,0.25,0.25,0.124,0.125,0,0,0,0.12,0.125,0,0,0,0,0,0,0\t1/2/3/4:7:7:57:100:739:14:0.019:0.792:0.792:0:0,0.25,0.198,0.25,0.25,0,0,0,0,0,0,0,0,0,0,0,0\t1/3/4/5:60:60:70:98:908:4:0.004:1:1:0:0,0.25,0,0.25,0.25,0.25,0,0,0,0,0,0,0,0,0,0,0\t1/3/6/11:0:0:64:94:830:0:0:0.102:0.102:0:0,0.25,0,0.25,0,0,0.25,0,0,0.003,0,0.026,0,0.002,0.005,0.003,0\t1/5/7/8:11:11:90:150:1165:17:0.015:0.916:0.916:0:0,0.25,0,0,0,0.25,0,0.229,0.25,0,0.001,0,0,0,0,0,0\t1/2/3/4:23:23:56:84:732:14:0.019:0.995:0.995:0:0,0.25,0.25,0.249,0.25,0,0,0,0,0,0,0,0,0,0,0,0\t1/2/3/.:0:0:61:98:785:0:0:0.106:0.106:0:0,0.25,0.25,0.249,0,0,0,0,0,0,0,0.001,0,0,0.002,0.001,0\t1/2/6/9:3:3:66:103:851:29:0.034:0.5:0.5:2:0,0.25,0.25,0,0,0.125,0.125,0,0,0.25,0,0,0,0,0,0,0\t1/2/8/10:3:3:58:91:754:23:0.031:0.498:0.498:2:0,0.25,0.25,0,0.125,0,0,0,0.125,0,0.125,0,0,0.123,0,0,0\t1/3/5/8:60:60:116:180:1502:19:0.013:1:1:0:0,0.25,0,0.25,0,0.25,0,0,0.25,0,0,0,0,0,0,0,0\t1/1/7/11:1:1:81:116:1050:8:0.008:0.212:0.212:0:0,0.5,0,0,0,0,0,0.25,0,0,0,0.053,0,0,0,0,0\t1/3/4/6:22:22:55:84:710:30:0.042:0.994:0.994:0:0,0.25,0,0.248,0.25,0,0.25,0,0,0,0,0,0,0,0,0,0\t1/2/4/11:2:2:68:106:883:28:0.032:0.413:0.413:2:0,0.25,0.25,0,0.25,0,0,0.102,0,0,0.002,0.103,0,0.001,0,0,0\n"
     ]
    }
   ],
   "source": [
    "zcat assemble.AFP.vcf.gz | grep \"locus012\""
   ]
  },
  {
   "cell_type": "markdown",
   "id": "29c66aae-94c5-4a6a-9010-fec108185f32",
   "metadata": {},
   "source": [
    "Note how the `AFP` field can substantially increase the size of the output VCF.\n",
    "This is an even bigger issue for the `GP` and `GL` fields!"
   ]
  },
  {
   "cell_type": "markdown",
   "id": "f046a498-bcfe-4615-966d-6258070e3685",
   "metadata": {},
   "source": [
    "### Adjusting the threshold for reporting alleles\n",
    "\n",
    "The `--haplotype-posterior-threshold` argument is used to adjust the number of haplotype alleles reported:"
   ]
  },
  {
   "cell_type": "code",
   "execution_count": 13,
   "id": "a4cdf430-5a23-43a2-8f4d-c32b10018a64",
   "metadata": {},
   "outputs": [],
   "source": [
    "mchap assemble \\\n",
    "        --bam input/bam/*.bam \\\n",
    "        --targets input/bed/targets4.bed \\\n",
    "        --variants input/vcf/snvs.vcf.gz \\\n",
    "        --reference input/fasta/chr1.fa.gz \\\n",
    "        --ploidy 4 \\\n",
    "        --inbreeding 0.01 \\\n",
    "        --report AFP \\\n",
    "        --haplotype-posterior-threshold 0 \\\n",
    "        | bgzip > assemble.AFP.full.vcf.gz\n",
    "tabix -p vcf assemble.AFP.full.vcf.gz"
   ]
  },
  {
   "cell_type": "markdown",
   "id": "e0206427-386b-4a40-bf3a-39cbbe8e3cc4",
   "metadata": {},
   "source": [
    "Notes on the `--haplotype-posterior-threshold` value:\n",
    "\n",
    "- This must be a value between `0` and `1` (default is `0.2`)\n",
    "- Haplotype-alleles will be reported if their probability of occurring  in any sample is greater than this value\n",
    "- A low value increases the number of haplotype-alleles reported\n",
    "- A high value decreases the number of haplotype-alleles reported\n",
    "- Reporting more alleles results in a more detailed posterior distribution\n",
    "\n",
    "(see the [documentation](https://github.com/PlantandFoodResearch/MCHap/blob/master/docs/assemble.rst#output-parameters) for more detail)"
   ]
  },
  {
   "cell_type": "markdown",
   "id": "e6d5bf34-c712-4ea4-912e-03c1c9002fa1",
   "metadata": {},
   "source": [
    "We can see how many \"noise\" haplotypes are reported when this value is zero, even at a well assembled locus:"
   ]
  },
  {
   "cell_type": "code",
   "execution_count": 14,
   "id": "fb4915d3-7afb-4829-8463-39f3530da76f",
   "metadata": {},
   "outputs": [
    {
     "name": "stdout",
     "output_type": "stream",
     "text": [
      "chr1\t17591\t\u001b[01;31m\u001b[Klocus001\u001b[m\u001b[K\tGTTATTGGACAGTGACGATGGAGTGATTGCTGGCGCAGGCCGCCAGCACCACCACCACCAAGTCGACATGTCCGACATTTATGGGGTGGTGCCACAAAACCTGCTCACAAATGGTACAC\tATTATTGGACAATGACGATGGGGTGGTTGCTGGCCCAGTCCGCCAGCACCACCACCACCAAGTCAACATGTCGGACATTTATGGGGTGGTGCCACGAAACCTGATCACAAATGGCGCAC,GTTATTGGACAGTGACGATGGAGTGATTGCTGGTGCAGGCCGCCAGCACCACCACCACCAAGTCGACATGTCCGACATTTATGGGGTGGTGCCACAAAACCTGCTCACAAATGGCACAC,ATTATTGGACAATGACGATGGGGTGGTTGCTGGCCCAGTCCGCCAGCACCACCACCACCAAGTCAACATGTCGGACATTTATGGGGTGGTGCCACGAAACCTGATCACAAATGGTGCAC,GTTATTGGACAGTGACGATGGGGTGATTGCTGGCGCAGGCCGCCAGCACCACCACCACCAAGTCGACATGTCCGACATTTATGGGGTGGTGCCACGAAACCTGCTCACAAATGGTACAC,GTTATTGGACAGTGACGATGGAGTGGTTGCTGGCGCAGGCCGCCAGCACCACCACCACCAAGTCGACATGTCCGACATTTATGGGGTGGTGCCACGAAACCTGATCACAAATGGTGCAC,GTTATTGGACAGTGACGATGGGGTGGTTGCTGGCGCAGGCCGCCAGCACCACCACCACCAAGTCGACATGTCCGACATTTATGGGGTGGTGCCACGAAACCTGATCACAAATGGTGCAC,ATTATTGGACAGTGACGATGGGGTGATTGCTGGCGCAGGCCGCCAGCACCACCACCACCAAGTCGACATGTCCGACATTTATGGGGTGGTGCCACGAAACCTGCTCACAAATGGTACAC,GTTATTGGACAGTGACGATGGAGTGATTGCTGGTGCAGGCCGCCAGCACCACCACCACCAAGTCGACATGTCCGACATTTATGGGGTGGTGCCACAAAACCTGCTCACAAATGGTACAC,ATTATTGGACAGTGACGATGGAGTGATTGCTGGCGCAGTCCGCCAGCACCACCACCACCAAGTCGACATGTCCGACATTTATGGGGTGGTGCCACGAAACCTGATCACAAATGGTGCAC,GTTATTGGACAATGACGATGGGGTGGTTGCTGGTCCAGGCCGCCAGCACCACCACCACCAAGTCAACATGTCGGACATTTATGGGGTGGTGCCACGAAACCTGATCACAAATGGTGCAC,GTTATTGGACAGTGACGATGGGGTGGTTGCTGGCGCAGGCCGCCAGCACCACCACCACCAAGTCGACATGTCCGACATTTATGGGGTGGTGCCACGAAACCTGCTCACAAATGGTACAC,GTTATTGGACAGTGACGATGGAGTGGTTGCTGGTGCAGTCCGCCAGCACCACCACCACCAAGTCAACATGTCCGACATTTATGGGGTGGTGCCACGAAACCTGATCACAAATGGTGCAC,ATTATTGGACAATGACGATGGGGTGATTGCTGGCCCAGGCCGCCAGCACCACCACCACCAAGTCGACATGTCGGACATTTATGGGGTGGTGCCACGAAACCTGATCACAAATGGTGCAC,ATTATTGGACAGTGACGATGGGGTGATTGCTGGCCCAGGCCGCCAGCACCACCACCACCAAGTCAACATGTCCGACATTTATGGGGTGGTGCCACGAAACCTGATCACAAATGGTGCAC,GTTATTGGACAATGACGATGGAGTGGTTGCTGGTGCAGTCCGCCAGCACCACCACCACCAAGTCGACATGTCGGACATTTATGGGGTGGTGCCACGAAACCTGATCACAAATGGTGCAC,ATTATTGGACAATGACGATGGGGTGGTTGCTGGCGCAGGCCGCCAGCACCACCACCACCAAGTCGACATGTCCGACATTTATGGGGTGGTGCCACGAAACCTGATCACAAATGGTGCAC,GTTATTGGACAGTGACGATGGAGTGATTGCTGGTCCAGTCCGCCAGCACCACCACCACCAAGTCAACATGTCGGACATTTATGGGGTGGTGCCACGAAACCTGATCACAAATGGTGCAC,ATTATTGGACAATGACGATGGAGTGGTTGCTGGCCCAGTCCGCCAGCACCACCACCACCAAGTCGACATGTCCGACATTTATGGGGTGGTGCCACGAAACCTGATCACAAATGGTGCAC,GTTATTGGACAGTGACGATGGGGTGATTGCTGGTGCAGGCCGCCAGCACCACCACCACCAAGTCAACATGTCGGACATTTATGGGGTGGTGCCACGAAACCTGATCACAAATGGTGCAC,ATTATTGGACAGTGACGATGGAGTGATTGCTGGCCCAGTCCGCCAGCACCACCACCACCAAGTCGACATGTCGGACATTTATGGGGTGGTGCCACGAAACCTGATCACAAATGGTGCAC,GTTATTGGACAGTGACGATGGAGTGATTGCTGGCGCAGGCCGCCAGCACCACCACCACCAAGTCGACATGTCCGACATTTATGGGGTGGTGCCACAAAACCTGCTCACAAATGGCACAC,GTTATTGGACAGTGACGATGGAGTGGTTGCTGGTCCAGGCCGCCAGCACCACCACCACCAAGTCGACATGTCCGACATTTATGGGGTGGTGCCACAAAACCTGCTCACAAATGGTACAC,GTTATTGGACAATGACGATGGGGTGGTTGCTGGTGCAGGCCGCCAGCACCACCACCACCAAGTCAACATGTCCGACATTTATGGGGTGGTGCCACGAAACCTGATCACAAATGGTGCAC,GTTATTGGACAGTGACGATGGGGTGGTTGCTGGTGCAGTCCGCCAGCACCACCACCACCAAGTCAACATGTCGGACATTTATGGGGTGGTGCCACGAAACCTGATCACAAATGGTGCAC,ATTATTGGACAGTGACGATGGGGTGATTGCTGGTCCAGGCCGCCAGCACCACCACCACCAAGTCGACATGTCCGACATTTATGGGGTGGTGCCACGAAACCTGATCACAAATGGTGCAC,ATTATTGGACAATGACGATGGGGTGGTTGCTGGTGCAGGCCGCCAGCACCACCACCACCAAGTCGACATGTCCGACATTTATGGGGTGGTGCCACGAAACCTGATCACAAATGGTGCAC,GTTATTGGACAGTGACGATGGAGTGGTTGCTGGCGCAGGCCGCCAGCACCACCACCACCAAGTCGACATGTCCGACATTTATGGGGTGGTGCCACAAAACCTGCTCACAAATGGTACAC,ATTATTGGACAATGACGATGGAGTGATTGCTGGCCCAGGCCGCCAGCACCACCACCACCAAGTCGACATGTCCGACATTTATGGGGTGGTGCCACGAAACCTGATCACAAATGGTGCAC,GTTATTGGACAGTGACGATGGAGTGGTTGCTGGTGCAGTCCGCCAGCACCACCACCACCAAGTCAACATGTCGGACATTTATGGGGTGGTGCCACGAAACCTGATCACAAATGGTGCAC,GTTATTGGACAATGACGATGGAGTGGTTGCTGGCGCAGTCCGCCAGCACCACCACCACCAAGTCAACATGTCGGACATTTATGGGGTGGTGCCACGAAACCTGATCACAAATGGTGCAC,ATTATTGGACAATGACGATGGGGTGATTGCTGGCCCAGGCCGCCAGCACCACCACCACCAAGTCGACATGTCCGACATTTATGGGGTGGTGCCACGAAACCTGATCACAAATGGTGCAC,GTTATTGGACAGTGACGATGGAGTGATTGCTGGCCCAGTCCGCCAGCACCACCACCACCAAGTCAACATGTCGGACATTTATGGGGTGGTGCCACGAAACCTGATCACAAATGGTGCAC,GTTATTGGACAGTGACGATGGGGTGATTGCTGGCCCAGTCCGCCAGCACCACCACCACCAAGTCGACATGTCCGACATTTATGGGGTGGTGCCACAAAACCTGCTCACAAATGGTACAC,GTTATTGGACAGTGACGATGGAGTGATTGCTGGCGCAGGCCGCCAGCACCACCACCACCAAGTCGACATGTCGGACATTTATGGGGTGGTGCCACAAAACCTGCTCACAAATGGTACAC,GTTATTGGACAGTGACGATGGGGTGATTGCTGGTCCAGGCCGCCAGCACCACCACCACCAAGTCGACATGTCCGACATTTATGGGGTGGTGCCACAAAACCTGCTCACAAATGGTACAC,GTTATTGGACAGTGACGATGGGGTGGTTGCTGGCCCAGTCCGCCAGCACCACCACCACCAAGTCGACATGTCCGACATTTATGGGGTGGTGCCACAAAACCTGCTCACAAATGGTACAC,GTTATTGGACAGTGACGATGGGGTGATTGCTGGCGCAGTCCGCCAGCACCACCACCACCAAGTCGACATGTCCGACATTTATGGGGTGGTGCCACAAAACCTGCTCACAAATGGTACAC,GTTATTGGACAATGACGATGGAGTGATTGCTGGCCCAGTCCGCCAGCACCACCACCACCAAGTCAACATGTCGGACATTTATGGGGTGGTGCCACGAAACCTGATCACAAATGGTGCAC,GTTATTGGACAATGACGATGGGGTGATTGCTGGTCCAGTCCGCCAGCACCACCACCACCAAGTCGACATGTCGGACATTTATGGGGTGGTGCCACAAAACCTGCTCACAAATGGTACAC,GTTATTGGACAATGACGATGGGGTGGTTGCTGGCCCAGTCCGCCAGCACCACCACCACCAAGTCAACATGTCGGACATTTATGGGGTGGTGCCACGAAACCTGATCACAAATGGTGCAC,GTTATTGGACAATGACGATGGGGTGGTTGCTGGTGCAGGCCGCCAGCACCACCACCACCAAGTCGACATGTCCGACATTTATGGGGTGGTGCCACGAAACCTGATCACAAATGGTGCAC,ATTATTGGACAGTGACGATGGAGTGGTTGCTGGCGCAGGCCGCCAGCACCACCACCACCAAGTCGACATGTCGGACATTTATGGGGTGGTGCCACAAAACCTGCTCACAAATGGTACAC,ATTATTGGACAGTGACGATGGAGTGATTGCTGGTGCAGGCCGCCAGCACCACCACCACCAAGTCGACATGTCCGACATTTATGGGGTGGTGCCACGAAACCTGATCACAAATGGTGCAC,GTTATTGGACAGTGACGATGGAGTGATTGCTGGTGCAGGCCGCCAGCACCACCACCACCAAGTCAACATGTCGGACATTTATGGGGTGGTGCCACGAAACCTGATCACAAATGGTGCAC,ATTATTGGACAATGACGATGGAGTGATTGCTGGCCCAGTCCGCCAGCACCACCACCACCAAGTCAACATGTCGGACATTTATGGGGTGGTGCCACGAAACCTGATCACAAATGGTGCAC,GTTATTGGACAGTGACGATGGAGTGGTTGCTGGTCCAGTCCGCCAGCACCACCACCACCAAGTCGACATGTCCGACATTTATGGGGTGGTGCCACAAAACCTGCTCACAAATGGTACAC,ATTATTGGACAGTGACGATGGAGTGATTGCTGGCCCAGTCCGCCAGCACCACCACCACCAAGTCAACATGTCGGACATTTATGGGGTGGTGCCACGAAACCTGATCACAAATGGTGCAC,ATTATTGGACAGTGACGATGGGGTGGTTGCTGGTGCAGGCCGCCAGCACCACCACCACCAAGTCGACATGTCCGACATTTATGGGGTGGTGCCACGAAACCTGATCACAAATGGTGCAC,ATTATTGGACAATGACGATGGGGTGGTTGCTGGCCCAGTCCGCCAGCACCACCACCACCAAGTCGACATGTCCGACATTTATGGGGTGGTGCCACGAAACCTGATCACAAATGGTGCAC,ATTATTGGACAGTGACGATGGGGTGATTGCTGGCCCAGTCCGCCAGCACCACCACCACCAAGTCAACATGTCCGACATTTATGGGGTGGTGCCACGAAACCTGATCACAAATGGTGCAC,GTTATTGGACAGTGACGATGGAGTGATTGCTGGCGCAGTCCGCCAGCACCACCACCACCAAGTCGACATGTCCGACATTTATGGGGTGGTGCCACAAAACCTGCTCACAAATGGTACAC,GTTATTGGACAATGACGATGGAGTGGTTGCTGGTGCAGGCCGCCAGCACCACCACCACCAAGTCGACATGTCGGACATTTATGGGGTGGTGCCACGAAACCTGATCACAAATGGTGCAC,GTTATTGGACAATGACGATGGAGTGATTGCTGGTGCAGGCCGCCAGCACCACCACCACCAAGTCGACATGTCCGACATTTATGGGGTGGTGCCACAAAACCTGCTCACAAATGGTACAC,GTTATTGGACAGTGACGATGGGGTGGTTGCTGGTGCAGGCCGCCAGCACCACCACCACCAAGTCGACATGTCCGACATTTATGGGGTGGTGCCACGAAACCTGATCACAAATGGTGCAC,ATTATTGGACAATGACGATGGGGTGATTGCTGGCCCAGTCCGCCAGCACCACCACCACCAAGTCAACATGTCGGACATTTATGGGGTGGTGCCACGAAACCTGATCACAAATGGTGCAC,GTTATTGGACAGTGACGATGGGGTGATTGCTGGCGCAGGCCGCCAGCACCACCACCACCAAGTCGACATGTCCGACATTTATGGGGTGGTGCCACAAAACCTGCTCACAAATGGTACAC,ATTATTGGACAGTGACGATGGAGTGATTGCTGGTGCAGGCCGCCAGCACCACCACCACCAAGTCGACATGTCGGACATTTATGGGGTGGTGCCACAAAACCTGCTCACAAATGGTACAC,GTTATTGGACAATGACGATGGAGTGATTGCTGGTGCAGGCCGCCAGCACCACCACCACCAAGTCGACATGTCGGACATTTATGGGGTGGTGCCACAAAACCTGCTCACAAATGGTACAC,ATTATTGGACAATGACGATGGAGTGATTGCTGGTGCAGGCCGCCAGCACCACCACCACCAAGTCGACATGTCGGACATTTATGGGGTGGTGCCACAAAACCTGCTCACAAATGGTACAC,GTTATTGGACAGTGACGATGGAGTGGTTGCTGGTCCAGGCCGCCAGCACCACCACCACCAAGTCGACATGTCCGACATTTATGGGGTGGTGCCACGAAACCTGATCACAAATGGTGCAC,GTTATTGGACAGTGACGATGGGGTGGTTGCTGGCCCAGTCCGCCAGCACCACCACCACCAAGTCGACATGTCGGACATTTATGGGGTGGTGCCACAAAACCTGCTCACAAATGGTACAC,ATTATTGGACAATGACGATGGGGTGATTGCTGGCCCAGTCCGCCAGCACCACCACCACCAAGTCGACATGTCCGACATTTATGGGGTGGTGCCACGAAACCTGATCACAAATGGTGCAC,GTTATTGGACAGTGACGATGGGGTGATTGCTGGTCCAGTCCGCCAGCACCACCACCACCAAGTCGACATGTCCGACATTTATGGGGTGGTGCCACAAAACCTGCTCACAAATGGTACAC,GTTATTGGACAGTGACGATGGAGTGATTGCTGGTGCAGGCCGCCAGCACCACCACCACCAAGTCGACATGTCCGACATTTATGGGGTGGTGCCACAAAACCTGCTCACAAATGGTGCAC,GTTATTGGACAATGACGATGGAGTGATTGCTGGTCCAGGCCGCCAGCACCACCACCACCAAGTCAACATGTCGGACATTTATGGGGTGGTGCCACGAAACCTGATCACAAATGGTGCAC,ATTATTGGACAGTGACGATGGGGTGATTGCTGGTCCAGTCCGCCAGCACCACCACCACCAAGTCGACATGTCCGACATTTATGGGGTGGTGCCACAAAACCTGCTCACAAATGGTACAC,GTTATTGGACAGTGACGATGGAGTGGTTGCTGGCGCAGTCCGCCAGCACCACCACCACCAAGTCGACATGTCCGACATTTATGGGGTGGTGCCACAAAACCTGCTCACAAATGGTACAC,GTTATTGGACAATGACGATGGAGTGGTTGCTGGCCCAGTCCGCCAGCACCACCACCACCAAGTCGACATGTCCGACATTTATGGGGTGGTGCCACAAAACCTGCTCACAAATGGTACAC,ATTATTGGACAGTGACGATGGGGTGATTGCTGGTGCAGTCCGCCAGCACCACCACCACCAAGTCGACATGTCCGACATTTATGGGGTGGTGCCACAAAACCTGCTCACAAATGGTACAC,ATTATTGGACAGTGACGATGGAGTGGTTGCTGGCCCAGGCCGCCAGCACCACCACCACCAAGTCAACATGTCGGACATTTATGGGGTGGTGCCACGAAACCTGATCACAAATGGTGCAC,GTTATTGGACAGTGACGATGGAGTGATTGCTGGTGCAGTCCGCCAGCACCACCACCACCAAGTCAACATGTCCGACATTTATGGGGTGGTGCCACGAAACCTGATCACAAATGGTGCAC,ATTATTGGACAGTGACGATGGGGTGGTTGCTGGCCCAGTCCGCCAGCACCACCACCACCAAGTCAACATGTCGGACATTTATGGGGTGGTGCCACGAAACCTGATCACAAATGGTGCAC,ATTATTGGACAATGACGATGGAGTGGTTGCTGGCGCAGTCCGCCAGCACCACCACCACCAAGTCAACATGTCGGACATTTATGGGGTGGTGCCACGAAACCTGATCACAAATGGTGCAC,GTTATTGGACAATGACGATGGGGTGGTTGCTGGCCCAGTCCGCCAGCACCACCACCACCAAGTCGACATGTCGGACATTTATGGGGTGGTGCCACAAAACCTGCTCACAAATGGTACAC,ATTATTGGACAGTGACGATGGGGTGGTTGCTGGTCCAGTCCGCCAGCACCACCACCACCAAGTCGACATGTCCGACATTTATGGGGTGGTGCCACGAAACCTGATCACAAATGGTGCAC,ATTATTGGACAGTGACGATGGGGTGGTTGCTGGCCCAGTCCGCCAGCACCACCACCACCAAGTCGACATGTCGGACATTTATGGGGTGGTGCCACAAAACCTGCTCACAAATGGTACAC,GTTATTGGACAGTGACGATGGGGTGGTTGCTGGCGCAGGCCGCCAGCACCACCACCACCAAGTCAACATGTCGGACATTTATGGGGTGGTGCCACGAAACCTGATCACAAATGGTGCAC,ATTATTGGACAGTGACGATGGGGTGGTTGCTGGCGCAGTCCGCCAGCACCACCACCACCAAGTCGACATGTCCGACATTTATGGGGTGGTGCCACGAAACCTGATCACAAATGGTGCAC,GTTATTGGACAGTGACGATGGAGTGGTTGCTGGTGCAGTCCGCCAGCACCACCACCACCAAGTCGACATGTCGGACATTTATGGGGTGGTGCCACGAAACCTGATCACAAATGGTGCAC,ATTATTGGACAATGACGATGGGGTGATTGCTGGCCCAGGCCGCCAGCACCACCACCACCAAGTCAACATGTCCGACATTTATGGGGTGGTGCCACGAAACCTGATCACAAATGGTGCAC,GTTATTGGACAATGACGATGGAGTGATTGCTGGCGCAGGCCGCCAGCACCACCACCACCAAGTCAACATGTCGGACATTTATGGGGTGGTGCCACGAAACCTGATCACAAATGGTGCAC,GTTATTGGACAATGACGATGGGGTGATTGCTGGTGCAGGCCGCCAGCACCACCACCACCAAGTCAACATGTCGGACATTTATGGGGTGGTGCCACGAAACCTGATCACAAATGGTGCAC,ATTATTGGACAATGACGATGGAGTGATTGCTGGTCCAGTCCGCCAGCACCACCACCACCAAGTCGACATGTCCGACATTTATGGGGTGGTGCCACGAAACCTGATCACAAATGGTGCAC,ATTATTGGACAATGACGATGGGGTGGTTGCTGGCCCAGGCCGCCAGCACCACCACCACCAAGTCGACATGTCGGACATTTATGGGGTGGTGCCACGAAACCTGATCACAAATGGTGCAC,GTTATTGGACAGTGACGATGGAGTGGTTGCTGGTGCAGGCCGCCAGCACCACCACCACCAAGTCGACATGTCCGACATTTATGGGGTGGTGCCACGAAACCTGATCACAAATGGTGCAC,ATTATTGGACAATGACGATGGGGTGGTTGCTGGCCCAGTCCGCCAGCACCACCACCACCAAGTCGACATGTCGGACATTTATGGGGTGGTGCCACGAAACCTGATCACAAATGGCGCAC,ATTATTGGACAATGACGATGGGGTGATTGCTGGCGCAGTCCGCCAGCACCACCACCACCAAGTCAACATGTCGGACATTTATGGGGTGGTGCCACGAAACCTGATCACAAATGGTGCAC,ATTATTGGACAGTGACGATGGAGTGATTGCTGGCGCAGTCCGCCAGCACCACCACCACCAAGTCGACATGTCCGACATTTATGGGGTGGTGCCACAAAACCTGCTCACAAATGGTACAC,GTTATTGGACAATGACGATGGGGTGATTGCTGGCGCAGGCCGCCAGCACCACCACCACCAAGTCGACATGTCCGACATTTATGGGGTGGTGCCACAAAACCTGCTCACAAATGGTACAC,ATTATTGGACAATGACGATGGAGTGGTTGCTGGTGCAGGCCGCCAGCACCACCACCACCAAGTCGACATGTCCGACATTTATGGGGTGGTGCCACAAAACCTGCTCACAAATGGTACAC,GTTATTGGACAGTGACGATGGGGTGGTTGCTGGCCCAGGCCGCCAGCACCACCACCACCAAGTCGACATGTCCGACATTTATGGGGTGGTGCCACAAAACCTGCTCACAAATGGTACAC,ATTATTGGACAATGACGATGGAGTGGTTGCTGGCGCAGTCCGCCAGCACCACCACCACCAAGTCGACATGTCCGACATTTATGGGGTGGTGCCACAAAACCTGCTCACAAATGGTACAC,GTTATTGGACAGTGACGATGGAGTGGTTGCTGGTGCAGGCCGCCAGCACCACCACCACCAAGTCAACATGTCGGACATTTATGGGGTGGTGCCACGAAACCTGATCACAAATGGTGCAC,GTTATTGGACAGTGACGATGGGGTGATTGCTGGTGCAGGCCGCCAGCACCACCACCACCAAGTCGACATGTCCGACATTTATGGGGTGGTGCCACAAAACCTGCTCACAAATGGTACAC,GTTATTGGACAATGACGATGGAGTGGTTGCTGGCGCAGTCCGCCAGCACCACCACCACCAAGTCGACATGTCGGACATTTATGGGGTGGTGCCACAAAACCTGCTCACAAATGGTACAC,ATTATTGGACAGTGACGATGGGGTGGTTGCTGGCCCAGGCCGCCAGCACCACCACCACCAAGTCAACATGTCGGACATTTATGGGGTGGTGCCACGAAACCTGATCACAAATGGTGCAC,GTTATTGGACAATGACGATGGGGTGATTGCTGGTCCAGTCCGCCAGCACCACCACCACCAAGTCGACATGTCCGACATTTATGGGGTGGTGCCACAAAACCTGCTCACAAATGGTACAC,ATTATTGGACAATGACGATGGGGTGGTTGCTGGCCCAGGCCGCCAGCACCACCACCACCAAGTCAACATGTCGGACATTTATGGGGTGGTGCCACGAAACCTGATCACAAATGGCGCAC,ATTATTGGACAGTGACGATGGGGTGGTTGCTGGCCCAGTCCGCCAGCACCACCACCACCAAGTCGACATGTCCGACATTTATGGGGTGGTGCCACAAAACCTGCTCACAAATGGTACAC,GTTATTGGACAGTGACGATGGGGTGATTGCTGGTGCAGGCCGCCAGCACCACCACCACCAAGTCGACATGTCCGACATTTATGGGGTGGTGCCACGAAACCTGATCACAAATGGTGCAC,ATTATTGGACAGTGACGATGGAGTGGTTGCTGGTCCAGGCCGCCAGCACCACCACCACCAAGTCGACATGTCGGACATTTATGGGGTGGTGCCACGAAACCTGATCACAAATGGTGCAC,GTTATTGGACAATGACGATGGAGTGATTGCTGGTGCAGGCCGCCAGCACCACCACCACCAAGTCGACATGTCCGACATTTATGGGGTGGTGCCACGAAACCTGATCACAAATGGTGCAC,GTTATTGGACAGTGACGATGGAGTGGTTGCTGGTCCAGGCCGCCAGCACCACCACCACCAAGTCGACATGTCGGACATTTATGGGGTGGTGCCACGAAACCTGATCACAAATGGTGCAC,GTTATTGGACAATGACGATGGGGTGATTGCTGGTGCAGTCCGCCAGCACCACCACCACCAAGTCAACATGTCCGACATTTATGGGGTGGTGCCACGAAACCTGATCACAAATGGTGCAC,GTTATTGGACAATGACGATGGGGTGATTGCTGGTGCAGTCCGCCAGCACCACCACCACCAAGTCGACATGTCCGACATTTATGGGGTGGTGCCACGAAACCTGATCACAAATGGTGCAC,GTTATTGGACAGTGACGATGGAGTGATTGCTGGCCCAGTCCGCCAGCACCACCACCACCAAGTCAACATGTCCGACATTTATGGGGTGGTGCCACGAAACCTGATCACAAATGGTGCAC,GTTATTGGACAATGACGATGGGGTGATTGCTGGCGCAGTCCGCCAGCACCACCACCACCAAGTCAACATGTCCGACATTTATGGGGTGGTGCCACGAAACCTGATCACAAATGGTGCAC,GTTATTGGACAATGACGATGGGGTGATTGCTGGCGCAGTCCGCCAGCACCACCACCACCAAGTCAACATGTCGGACATTTATGGGGTGGTGCCACGAAACCTGATCACAAATGGTGCAC,ATTATTGGACAGTGACGATGGGGTGGTTGCTGGTCCAGGCCGCCAGCACCACCACCACCAAGTCGACATGTCGGACATTTATGGGGTGGTGCCACGAAACCTGATCACAAATGGTGCAC,ATTATTGGACAGTGACGATGGAGTGGTTGCTGGCCCAGTCCGCCAGCACCACCACCACCAAGTCGACATGTCCGACATTTATGGGGTGGTGCCACGAAACCTGATCACAAATGGTGCAC,GTTATTGGACAGTGACGATGGGGTGATTGCTGGTCCAGGCCGCCAGCACCACCACCACCAAGTCGACATGTCCGACATTTATGGGGTGGTGCCACGAAACCTGATCACAAATGGTGCAC,ATTATTGGACAATGACGATGGGGTGGTTGCTGGTGCAGGCCGCCAGCACCACCACCACCAAGTCGACATGTCGGACATTTATGGGGTGGTGCCACGAAACCTGATCACAAATGGTGCAC,ATTATTGGACAATGACGATGGGGTGGTTGCTGGTGCAGTCCGCCAGCACCACCACCACCAAGTCGACATGTCCGACATTTATGGGGTGGTGCCACGAAACCTGATCACAAATGGTGCAC,ATTATTGGACAGTGACGATGGGGTGGTTGCTGGCCCAGTCCGCCAGCACCACCACCACCAAGTCAACATGTCGGACATTTATGGGGTGGTGCCACGAAACCTGATCACAAATGGCGCAC,GTTATTGGACAGTGACGATGGAGTGATTGCTGGCCCAGGCCGCCAGCACCACCACCACCAAGTCAACATGTCGGACATTTATGGGGTGGTGCCACGAAACCTGATCACAAATGGTGCAC,GTTATTGGACAATGACGATGGAGTGATTGCTGGCGCAGGCCGCCAGCACCACCACCACCAAGTCGACATGTCCGACATTTATGGGGTGGTGCCACGAAACCTGATCACAAATGGTGCAC,ATTATTGGACAATGACGATGGGGTGATTGCTGGCGCAGTCCGCCAGCACCACCACCACCAAGTCAACATGTCCGACATTTATGGGGTGGTGCCACGAAACCTGATCACAAATGGTGCAC,GTTATTGGACAATGACGATGGAGTGGTTGCTGGTCCAGGCCGCCAGCACCACCACCACCAAGTCGACATGTCCGACATTTATGGGGTGGTGCCACAAAACCTGCTCACAAATGGTACAC,ATTATTGGACAGTGACGATGGGGTGGTTGCTGGCCCAGGCCGCCAGCACCACCACCACCAAGTCGACATGTCCGACATTTATGGGGTGGTGCCACAAAACCTGCTCACAAATGGTACAC,GTTATTGGACAATGACGATGGGGTGGTTGCTGGTCCAGGCCGCCAGCACCACCACCACCAAGTCGACATGTCCGACATTTATGGGGTGGTGCCACAAAACCTGCTCACAAATGGTACAC,GTTATTGGACAGTGACGATGGGGTGGTTGCTGGTGCAGGCCGCCAGCACCACCACCACCAAGTCGACATGTCCGACATTTATGGGGTGGTGCCACAAAACCTGCTCACAAATGGTACAC,GTTATTGGACAATGACGATGGAGTGATTGCTGGTGCAGTCCGCCAGCACCACCACCACCAAGTCGACATGTCCGACATTTATGGGGTGGTGCCACAAAACCTGCTCACAAATGGTACAC,GTTATTGGACAGTGACGATGGGGTGGTTGCTGGTCCAGGCCGCCAGCACCACCACCACCAAGTCGACATGTCCGACATTTATGGGGTGGTGCCACAAAACCTGCTCACAAATGGTACAC,GTTATTGGACAATGACGATGGAGTGGTTGCTGGTGCAGGCCGCCAGCACCACCACCACCAAGTCGACATGTCCGACATTTATGGGGTGGTGCCACAAAACCTGCTCACAAATGGTACAC,GTTATTGGACAGTGACGATGGGGTGGTTGCTGGCGCAGTCCGCCAGCACCACCACCACCAAGTCGACATGTCCGACATTTATGGGGTGGTGCCACAAAACCTGCTCACAAATGGTACAC,GTTATTGGACAGTGACGATGGGGTGGTTGCTGGTCCAGTCCGCCAGCACCACCACCACCAAGTCGACATGTCCGACATTTATGGGGTGGTGCCACAAAACCTGCTCACAAATGGTACAC,GTTATTGGACAATGACGATGGGGTGATTGCTGGCGCAGGCCGCCAGCACCACCACCACCAAGTCGACATGTCCGACATTTATGGGGTGGTGCCACGAAACCTGATCACAAATGGTGCAC,ATTATTGGACAGTGACGATGGAGTGGTTGCTGGTCCAGTCCGCCAGCACCACCACCACCAAGTCAACATGTCGGACATTTATGGGGTGGTGCCACGAAACCTGATCACAAATGGTGCAC,ATTATTGGACAATGACGATGGAGTGGTTGCTGGTGCAGTCCGCCAGCACCACCACCACCAAGTCGACATGTCCGACATTTATGGGGTGGTGCCACGAAACCTGATCACAAATGGTGCAC,GTTATTGGACAGTGACGATGGGGTGGTTGCTGGTCCAGTCCGCCAGCACCACCACCACCAAGTCGACATGTCGGACATTTATGGGGTGGTGCCACGAAACCTGATCACAAATGGTGCAC,GTTATTGGACAATGACGATGGGGTGATTGCTGGCGCAGTCCGCCAGCACCACCACCACCAAGTCGACATGTCCGACATTTATGGGGTGGTGCCACGAAACCTGATCACAAATGGTGCAC,ATTATTGGACAGTGACGATGGGGTGATTGCTGGCCCAGGCCGCCAGCACCACCACCACCAAGTCGACATGTCGGACATTTATGGGGTGGTGCCACGAAACCTGATCACAAATGGTGCAC,GTTATTGGACAATGACGATGGAGTGGTTGCTGGTGCAGTCCGCCAGCACCACCACCACCAAGTCAACATGTCCGACATTTATGGGGTGGTGCCACGAAACCTGATCACAAATGGTGCAC,GTTATTGGACAGTGACGATGGGGTGGTTGCTGGCGCAGTCCGCCAGCACCACCACCACCAAGTCAACATGTCGGACATTTATGGGGTGGTGCCACGAAACCTGATCACAAATGGTGCAC,GTTATTGGACAGTGACGATGGGGTGATTGCTGGCCCAGGCCGCCAGCACCACCACCACCAAGTCAACATGTCGGACATTTATGGGGTGGTGCCACGAAACCTGATCACAAATGGTGCAC,ATTATTGGACAGTGACGATGGAGTGGTTGCTGGTCCAGGCCGCCAGCACCACCACCACCAAGTCGACATGTCCGACATTTATGGGGTGGTGCCACGAAACCTGATCACAAATGGTGCAC,GTTATTGGACAATGACGATGGAGTGGTTGCTGGCCCAGGCCGCCAGCACCACCACCACCAAGTCGACATGTCGGACATTTATGGGGTGGTGCCACGAAACCTGATCACAAATGGTGCAC,ATTATTGGACAGTGACGATGGAGTGGTTGCTGGTCCAGGCCGCCAGCACCACCACCACCAAGTCAACATGTCGGACATTTATGGGGTGGTGCCACGAAACCTGATCACAAATGGTGCAC,GTTATTGGACAGTGACGATGGAGTGATTGCTGGTGCAGTCCGCCAGCACCACCACCACCAAGTCGACATGTCCGACATTTATGGGGTGGTGCCACAAAACCTGCTCACAAATGGTACAC,GTTATTGGACAATGACGATGGAGTGATTGCTGGCGCAGTCCGCCAGCACCACCACCACCAAGTCAACATGTCCGACATTTATGGGGTGGTGCCACGAAACCTGATCACAAATGGTGCAC,ATTATTGGACAATGACGATGGGGTGATTGCTGGCGCAGGCCGCCAGCACCACCACCACCAAGTCAACATGTCCGACATTTATGGGGTGGTGCCACGAAACCTGATCACAAATGGTGCAC,ATTATTGGACAGTGACGATGGAGTGGTTGCTGGTGCAGGCCGCCAGCACCACCACCACCAAGTCGACATGTCCGACATTTATGGGGTGGTGCCACGAAACCTGATCACAAATGGTGCAC,ATTATTGGACAATGACGATGGAGTGGTTGCTGGCCCAGTCCGCCAGCACCACCACCACCAAGTCAACATGTCGGACATTTATGGGGTGGTGCCACGAAACCTGATCACAAATGGTGCAC,ATTATTGGACAGTGACGATGGGGTGATTGCTGGTCCAGTCCGCCAGCACCACCACCACCAAGTCAACATGTCCGACATTTATGGGGTGGTGCCACGAAACCTGATCACAAATGGTGCAC,GTTATTGGACAATGACGATGGAGTGGTTGCTGGCGCAGGCCGCCAGCACCACCACCACCAAGTCGACATGTCGGACATTTATGGGGTGGTGCCACGAAACCTGATCACAAATGGTGCAC,GTTATTGGACAATGACGATGGAGTGATTGCTGGTGCAGTCCGCCAGCACCACCACCACCAAGTCGACATGTCCGACATTTATGGGGTGGTGCCACGAAACCTGATCACAAATGGTGCAC,GTTATTGGACAGTGACGATGGAGTGATTGCTGGCGCAGGCCGCCAGCACCACCACCACCAAGTCGACATGTCCGACATTTATGGGGTGGTGCCACGAAACCTGATCACAAATGGTGCAC,GTTATTGGACAATGACGATGGGGTGATTGCTGGTGCAGGCCGCCAGCACCACCACCACCAAGTCGACATGTCGGACATTTATGGGGTGGTGCCACAAAACCTGCTCACAAATGGTACAC,ATTATTGGACAATGACGATGGGGTGGTTGCTGGTGCAGGCCGCCAGCACCACCACCACCAAGTCAACATGTCGGACATTTATGGGGTGGTGCCACGAAACCTGATCACAAATGGTGCAC,GTTATTGGACAGTGACGATGGGGTGGTTGCTGGCGCAGGCCGCCAGCACCACCACCACCAAGTCGACATGTCCGACATTTATGGGGTGGTGCCACAAAACCTGCTCACAAATGGTACAC,ATTATTGGACAATGACGATGGAGTGATTGCTGGTGCAGGCCGCCAGCACCACCACCACCAAGTCGACATGTCCGACATTTATGGGGTGGTGCCACAAAACCTGCTCACAAATGGTACAC,GTTATTGGACAATGACGATGGGGTGGTTGCTGGCCCAGTCCGCCAGCACCACCACCACCAAGTCAACATGTCGGACATTTATGGGGTGGTGCCACGAAACCTGATCACAAATGGCGCAC,ATTATTGGACAATGACGATGGAGTGATTGCTGGTGCAGTCCGCCAGCACCACCACCACCAAGTCGACATGTCCGACATTTATGGGGTGGTGCCACGAAACCTGATCACAAATGGTGCAC,GTTATTGGACAGTGACGATGGAGTGATTGCTGGTGCAGTCCGCCAGCACCACCACCACCAAGTCGACATGTCCGACATTTATGGGGTGGTGCCACGAAACCTGATCACAAATGGTGCAC,ATTATTGGACAATGACGATGGGGTGGTTGCTGGCCCAGTCCGCCAGCACCACCACCACCAAGTCAACATGTCGGACATTTATGGGGTGGTGCCACAAAACCTGATCACAAATGGCGCAC,ATTATTGGACAGTGACGATGGGGTGATTGCTGGTGCAGTCCGCCAGCACCACCACCACCAAGTCAACATGTCCGACATTTATGGGGTGGTGCCACGAAACCTGATCACAAATGGTGCAC,GTTATTGGACAGTGACGATGGAGTGGTTGCTGGCGCAGTCCGCCAGCACCACCACCACCAAGTCAACATGTCGGACATTTATGGGGTGGTGCCACGAAACCTGATCACAAATGGTGCAC,GTTATTGGACAGTGACGATGGGGTGATTGCTGGTGCAGGCCGCCAGCACCACCACCACCAAGTCAACATGTCCGACATTTATGGGGTGGTGCCACGAAACCTGATCACAAATGGTGCAC,GTTATTGGACAGTGACGATGGGGTGATTGCTGGTGCAGTCCGCCAGCACCACCACCACCAAGTCGACATGTCGGACATTTATGGGGTGGTGCCACAAAACCTGCTCACAAATGGTACAC,ATTATTGGACAATGACGATGGAGTGGTTGCTGGTGCAGTCCGCCAGCACCACCACCACCAAGTCAACATGTCCGACATTTATGGGGTGGTGCCACGAAACCTGATCACAAATGGTGCAC,ATTATTGGACAGTGACGATGGAGTGGTTGCTGGCCCAGGCCGCCAGCACCACCACCACCAAGTCGACATGTCGGACATTTATGGGGTGGTGCCACGAAACCTGATCACAAATGGTGCAC,GTTATTGGACAGTGACGATGGAGTGGTTGCTGGTCCAGTCCGCCAGCACCACCACCACCAAGTCGACATGTCGGACATTTATGGGGTGGTGCCACAAAACCTGCTCACAAATGGTACAC,GTTATTGGACAATGACGATGGAGTGGTTGCTGGTGCAGGCCGCCAGCACCACCACCACCAAGTCGACATGTCCGACATTTATGGGGTGGTGCCACGAAACCTGATCACAAATGGTGCAC,ATTATTGGACAGTGACGATGGGGTGGTTGCTGGTCCAGTCCGCCAGCACCACCACCACCAAGTCGACATGTCGGACATTTATGGGGTGGTGCCACAAAACCTGCTCACAAATGGTACAC,GTTATTGGACAATGACGATGGGGTGGTTGCTGGTCCAGTCCGCCAGCACCACCACCACCAAGTCAACATGTCGGACATTTATGGGGTGGTGCCACGAAACCTGATCACAAATGGTGCAC,GTTATTGGACAATGACGATGGGGTGATTGCTGGCCCAGTCCGCCAGCACCACCACCACCAAGTCAACATGTCGGACATTTATGGGGTGGTGCCACGAAACCTGATCACAAATGGTGCAC,GTTATTGGACAGTGACGATGGGGTGGTTGCTGGCGCAGGCCGCCAGCACCACCACCACCAAGTCAACATGTCCGACATTTATGGGGTGGTGCCACGAAACCTGATCACAAATGGTGCAC,GTTATTGGACAATGACGATGGAGTGATTGCTGGCGCAGGCCGCCAGCACCACCACCACCAAGTCGACATGTCGGACATTTATGGGGTGGTGCCACAAAACCTGCTCACAAATGGTACAC,GTTATTGGACAGTGACGATGGGGTGATTGCTGGCCCAGGCCGCCAGCACCACCACCACCAAGTCGACATGTCGGACATTTATGGGGTGGTGCCACGAAACCTGATCACAAATGGTGCAC,ATTATTGGACAATGACGATGGAGTGATTGCTGGTGCAGGCCGCCAGCACCACCACCACCAAGTCGACATGTCCGACATTTATGGGGTGGTGCCACGAAACCTGATCACAAATGGTGCAC,ATTATTGGACAGTGACGATGGAGTGATTGCTGGCGCAGGCCGCCAGCACCACCACCACCAAGTCGACATGTCGGACATTTATGGGGTGGTGCCACGAAACCTGATCACAAATGGTGCAC,ATTATTGGACAGTGACGATGGGGTGATTGCTGGCCCAGTCCGCCAGCACCACCACCACCAAGTCAACATGTCGGACATTTATGGGGTGGTGCCACGAAACCTGATCACAAATGGTGCAC,ATTATTGGACAATGACGATGGAGTGATTGCTGGTCCAGGCCGCCAGCACCACCACCACCAAGTCGACATGTCCGACATTTATGGGGTGGTGCCACGAAACCTGATCACAAATGGTGCAC,ATTATTGGACAGTGACGATGGAGTGGTTGCTGGCCCAGTCCGCCAGCACCACCACCACCAAGTCGACATGTCGGACATTTATGGGGTGGTGCCACAAAACCTGCTCACAAATGGTACAC,ATTATTGGACAGTGACGATGGGGTGGTTGCTGGTGCAGTCCGCCAGCACCACCACCACCAAGTCGACATGTCCGACATTTATGGGGTGGTGCCACGAAACCTGATCACAAATGGTGCAC,GTTATTGGACAATGACGATGGGGTGATTGCTGGCCCAGGCCGCCAGCACCACCACCACCAAGTCGACATGTCGGACATTTATGGGGTGGTGCCACGAAACCTGATCACAAATGGTGCAC,GTTATTGGACAGTGACGATGGAGTGATTGCTGGTGCAGGCCGCCAGCACCACCACCACCAAGTCGACATGTCGGACATTTATGGGGTGGTGCCACGAAACCTGATCACAAATGGTGCAC,GTTATTGGACAGTGACGATGGAGTGGTTGCTGGTCCAGTCCGCCAGCACCACCACCACCAAGTCGACATGTCGGACATTTATGGGGTGGTGCCACGAAACCTGATCACAAATGGTGCAC,ATTATTGGACAATGACGATGGAGTGATTGCTGGCGCAGGCCGCCAGCACCACCACCACCAAGTCAACATGTCCGACATTTATGGGGTGGTGCCACGAAACCTGATCACAAATGGTGCAC,ATTATTGGACAATGACGATGGGGTGGTTGCTGGCCCAGGCCGCCAGCACCACCACCACCAAGTCAACATGTCGGACATTTATGGGGTGGTGCCACGAAACCTGATCACAAATGGTGCAC,GTTATTGGACAGTGACGATGGGGTGGTTGCTGGCCCAGGCCGCCAGCACCACCACCACCAAGTCAACATGTCGGACATTTATGGGGTGGTGCCACGAAACCTGATCACAAATGGTGCAC,GTTATTGGACAATGACGATGGGGTGGTTGCTGGCCCAGGCCGCCAGCACCACCACCACCAAGTCAACATGTCGGACATTTATGGGGTGGTGCCACGAAACCTGATCACAAATGGTGCAC,ATTATTGGACAATGACGATGGGGTGATTGCTGGTGCAGTCCGCCAGCACCACCACCACCAAGTCGACATGTCCGACATTTATGGGGTGGTGCCACGAAACCTGATCACAAATGGTGCAC,ATTATTGGACAATGACGATGGAGTGATTGCTGGCCCAGTCCGCCAGCACCACCACCACCAAGTCAACATGTCCGACATTTATGGGGTGGTGCCACGAAACCTGATCACAAATGGTGCAC,GTTATTGGACAGTGACGATGGGGTGGTTGCTGGCCCAGTCCGCCAGCACCACCACCACCAAGTCAACATGTCGGACATTTATGGGGTGGTGCCACGAAACCTGATCACAAATGGTGCAC,GTTATTGGACAGTGACGATGGAGTGGTTGCTGGCGCAGGCCGCCAGCACCACCACCACCAAGTCGACATGTCGGACATTTATGGGGTGGTGCCACAAAACCTGCTCACAAATGGTACAC,ATTATTGGACAGTGACGATGGGGTGATTGCTGGTCCAGGCCGCCAGCACCACCACCACCAAGTCGACATGTCGGACATTTATGGGGTGGTGCCACAAAACCTGCTCACAAATGGTACAC,GTTATTGGACAGTGACGATGGAGTGGTTGCTGGCCCAGTCCGCCAGCACCACCACCACCAAGTCGACATGTCGGACATTTATGGGGTGGTGCCACAAAACCTGCTCACAAATGGTACAC,GTTATTGGACAGTGACGATGGAGTGATTGCTGGCCCAGTCCGCCAGCACCACCACCACCAAGTCGACATGTCGGACATTTATGGGGTGGTGCCACAAAACCTGCTCACAAATGGTACAC,ATTATTGGACAGTGACGATGGAGTGATTGCTGGCCCAGTCCGCCAGCACCACCACCACCAAGTCGACATGTCCGACATTTATGGGGTGGTGCCACGAAACCTGATCACAAATGGTGCAC,ATTATTGGACAATGACGATGGAGTGGTTGCTGGCCCAGTCCGCCAGCACCACCACCACCAAGTCGACATGTCCGACATTTATGGGGTGGTGCCACAAAACCTGCTCACAAATGGTACAC,GTTATTGGACAGTGACGATGGAGTGGTTGCTGGTGCAGGCCGCCAGCACCACCACCACCAAGTCGACATGTCCGACATTTATGGGGTGGTGCCACAAAACCTGCTCACAAATGGTACAC,GTTATTGGACAATGACGATGGAGTGGTTGCTGGCGCAGGCCGCCAGCACCACCACCACCAAGTCGACATGTCCGACATTTATGGGGTGGTGCCACAAAACCTGCTCACAAATGGTACAC,GTTATTGGACAGTGACGATGGAGTGATTGCTGGCGCAGTCCGCCAGCACCACCACCACCAAGTCGACATGTCGGACATTTATGGGGTGGTGCCACAAAACCTGCTCACAAATGGTACAC,ATTATTGGACAGTGACGATGGAGTGGTTGCTGGCGCAGGCCGCCAGCACCACCACCACCAAGTCGACATGTCCGACATTTATGGGGTGGTGCCACAAAACCTGCTCACAAATGGTACAC,ATTATTGGACAATGACGATGGGGTGGTTGCTGGTCCAGGCCGCCAGCACCACCACCACCAAGTCGACATGTCCGACATTTATGGGGTGGTGCCACAAAACCTGCTCACAAATGGTACAC,ATTATTGGACAATGACGATGGGGTGATTGCTGGTCCAGGCCGCCAGCACCACCACCACCAAGTCGACATGTCCGACATTTATGGGGTGGTGCCACAAAACCTGCTCACAAATGGTACAC,GTTATTGGACAATGACGATGGGGTGATTGCTGGCGCAGTCCGCCAGCACCACCACCACCAAGTCGACATGTCCGACATTTATGGGGTGGTGCCACAAAACCTGCTCACAAATGGTACAC,GTTATTGGACAGTGACGATGGGGTGGTTGCTGGTCCAGGCCGCCAGCACCACCACCACCAAGTCGACATGTCGGACATTTATGGGGTGGTGCCACGAAACCTGATCACAAATGGCACAC,ATTATTGGACAATGACGATGGGGTGATTGCTGGCGCAGTCCGCCAGCACCACCACCACCAAGTCGACATGTCCGACATTTATGGGGTGGTGCCACAAAACCTGCTCACAAATGGTACAC,ATTATTGGACAATGACGATGGGGTGGTTGCTGGTCCAGTCCGCCAGCACCACCACCACCAAGTCAACATGTCGGACATTTATGGGGTGGTGCCACGAAACCTGATCACAAATGGCGCAC,GTTATTGGACAGTGACGATGGAGTGGTTGCTGGTGCAGGCCGCCAGCACCACCACCACCAAGTCAACATGTCGGACATTTATGGGGTGGTGCCACAAAACCTGCTCACAAATGGTACAC,GTTATTGGACAATGACGATGGAGTGGTTGCTGGCCCAGGCCGCCAGCACCACCACCACCAAGTCGACATGTCCGACATTTATGGGGTGGTGCCACAAAACCTGCTCACAAATGGTACAC,ATTATTGGACAGTGACGATGGAGTGGTTGCTGGTGCAGTCCGCCAGCACCACCACCACCAAGTCAACATGTCCGACATTTATGGGGTGGTGCCACGAAACCTGATCACAAATGGTGCAC,ATTATTGGACAATGACGATGGAGTGATTGCTGGCGCAGTCCGCCAGCACCACCACCACCAAGTCAACATGTCCGACATTTATGGGGTGGTGCCACAAAACCTGCTCACAAATGGTGCAC,GTTATTGGACAGTGACGATGGAGTGATTGCTGGCGCAGGCCGCCAGCACCACCACCACCAAGTCAACATGTCCGACATTTATGGGGTGGTGCCACAAAACCTGCTCACAAATGGTACAC,ATTATTGGACAGTGACGATGGGGTGGTTGCTGGTGCAGGCCGCCAGCACCACCACCACCAAGTCAACATGTCCGACATTTATGGGGTGGTGCCACAAAACCTGCTCACAAATGGTACAC,ATTATTGGACAATGACGATGGGGTGGTTGCTGGCCCAGTCCGCCAGCACCACCACCACCAAGTCAACATGTCGGACATTTATGGGGTGGTGCCACGAAACCTGATCACAAATGGCACAC,GTTATTGGACAATGACGATGGGGTGATTGCTGGCCCAGGCCGCCAGCACCACCACCACCAAGTCGACATGTCCGACATTTATGGGGTGGTGCCACAAAACCTGCTCACAAATGGTACAC,GTTATTGGACAATGACGATGGAGTGGTTGCTGGCGCAGGCCGCCAGCACCACCACCACCAAGTCAACATGTCGGACATTTATGGGGTGGTGCCACAAAACCTGCTCACAAATGGTACAC,ATTATTGGACAATGACGATGGGGTGGTTGCTGGTCCAGTCCGCCAGCACCACCACCACCAAGTCGACATGTCCGACATTTATGGGGTGGTGCCACAAAACCTGCTCACAAATGGTACAC,ATTATTGGACAGTGACGATGGGGTGGTTGCTGGTGCAGGCCGCCAGCACCACCACCACCAAGTCGACATGTCCGACATTTATGGGGTGGTGCCACAAAACCTGCTCACAAATGGTACAC,GTTATTGGACAGTGACGATGGGGTGGTTGCTGGTCCAGGCCGCCAGCACCACCACCACCAAGTCGACATGTCGGACATTTATGGGGTGGTGCCACAAAACCTGCTCACAAATGGTACAC,ATTATTGGACAATGACGATGGAGTGATTGCTGGCCCAGTCCGCCAGCACCACCACCACCAAGTCGACATGTCCGACATTTATGGGGTGGTGCCACAAAACCTGCTCACAAATGGTACAC,GTTATTGGACAGTGACGATGGAGTGATTGCTGGCCCAGTCCGCCAGCACCACCACCACCAAGTCGACATGTCCGACATTTATGGGGTGGTGCCACAAAACCTGCTCACAAATGGTACAC,ATTATTGGACAGTGACGATGGAGTGATTGCTGGTGCAGTCCGCCAGCACCACCACCACCAAGTCGACATGTCCGACATTTATGGGGTGGTGCCACAAAACCTGCTCACAAATGGTACAC,GTTATTGGACAATGACGATGGAGTGATTGCTGGCGCAGTCCGCCAGCACCACCACCACCAAGTCGACATGTCCGACATTTATGGGGTGGTGCCACAAAACCTGCTCACAAATGGTACAC,ATTATTGGACAGTGACGATGGGGTGATTGCTGGCGCAGTCCGCCAGCACCACCACCACCAAGTCGACATGTCCGACATTTATGGGGTGGTGCCACAAAACCTGCTCACAAATGGTACAC,GTTATTGGACAGTGACGATGGAGTGATTGCTGGCCCAGTCCGCCAGCACCACCACCACCAAGTCGACATGTCGGACATTTATGGGGTGGTGCCACGAAACCTGCTCACAAATGGCACAC,GTTATTGGACAGTGACGATGGAGTGATTGCTGGCCCAGTCCGCCAGCACCACCACCACCAAGTCGACATGTCCGACATTTATGGGGTGGTGCCACGAAACCTGATCACAAATGGTGCAC,GTTATTGGACAGTGACGATGGGGTGATTGCTGGCGCAGTCCGCCAGCACCACCACCACCAAGTCAACATGTCGGACATTTATGGGGTGGTGCCACAAAACCTGCTCACAAATGGTACAC,ATTATTGGACAGTGACGATGGAGTGATTGCTGGCGCAGGCCGCCAGCACCACCACCACCAAGTCGACATGTCCGACATTTATGGGGTGGTGCCACGAAACCTGATCACAAATGGTGCAC,GTTATTGGACAATGACGATGGAGTGATTGCTGGCCCAGGCCGCCAGCACCACCACCACCAAGTCAACATGTCGGACATTTATGGGGTGGTGCCACGAAACCTGATCACAAATGGTGCAC,ATTATTGGACAATGACGATGGAGTGATTGCTGGCGCAGTCCGCCAGCACCACCACCACCAAGTCGACATGTCCGACATTTATGGGGTGGTGCCACGAAACCTGATCACAAATGGTGCAC,ATTATTGGACAATGACGATGGAGTGGTTGCTGGCCCAGGCCGCCAGCACCACCACCACCAAGTCGACATGTCGGACATTTATGGGGTGGTGCCACGAAACCTGATCACAAATGGTGCAC,GTTATTGGACAATGACGATGGAGTGGTTGCTGGCGCAGTCCGCCAGCACCACCACCACCAAGTCGACATGTCGGACATTTATGGGGTGGTGCCACGAAACCTGATCACAAATGGTGCAC,GTTATTGGACAATGACGATGGGGTGGTTGCTGGTGCAGTCCGCCAGCACCACCACCACCAAGTCAACATGTCGGACATTTATGGGGTGGTGCCACGAAACCTGATCACAAATGGTGCAC,ATTATTGGACAGTGACGATGGAGTGATTGCTGGTGCAGTCCGCCAGCACCACCACCACCAAGTCGACATGTCGGACATTTATGGGGTGGTGCCACGAAACCTGATCACAAATGGTGCAC,GTTATTGGACAGTGACGATGGAGTGATTGCTGGTCCAGTCCGCCAGCACCACCACCACCAAGTCGACATGTCGGACATTTATGGGGTGGTGCCACAAAACCTGCTCACAAATGGTACAC,ATTATTGGACAATGACGATGGAGTGGTTGCTGGCCCAGGCCGCCAGCACCACCACCACCAAGTCGACATGTCGGACATTTATGGGGTGGTGCCACAAAACCTGCTCACAAATGGTACAC,ATTATTGGACAATGACGATGGGGTGATTGCTGGTCCAGGCCGCCAGCACCACCACCACCAAGTCGACATGTCCGACATTTATGGGGTGGTGCCACGAAACCTGATCACAAATGGTGCAC,ATTATTGGACAATGACGATGGAGTGATTGCTGGCGCAGTCCGCCAGCACCACCACCACCAAGTCAACATGTCGGACATTTATGGGGTGGTGCCACGAAACCTGATCACAAATGGTGCAC,ATTATTGGACAGTGACGATGGGGTGATTGCTGGCGCAGGCCGCCAGCACCACCACCACCAAGTCGACATGTCCGACATTTATGGGGTGGTGCCACGAAACCTGATCACAAATGGTGCAC,GTTATTGGACAGTGACGATGGGGTGGTTGCTGGTCCAGGCCGCCAGCACCACCACCACCAAGTCGACATGTCCGACATTTATGGGGTGGTGCCACGAAACCTGATCACAAATGGTGCAC,ATTATTGGACAATGACGATGGAGTGATTGCTGGTGCAGGCCGCCAGCACCACCACCACCAAGTCAACATGTCGGACATTTATGGGGTGGTGCCACGAAACCTGATCACAAATGGTGCAC,ATTATTGGACAATGACGATGGAGTGATTGCTGGTCCAGTCCGCCAGCACCACCACCACCAAGTCGACATGTCGGACATTTATGGGGTGGTGCCACGAAACCTGATCACAAATGGTGCAC,GTTATTGGACAATGACGATGGGGTGGTTGCTGGTGCAGGCCGCCAGCACCACCACCACCAAGTCAACATGTCGGACATTTATGGGGTGGTGCCACGAAACCTGATCACAAATGGTGCAC,GTTATTGGACAGTGACGATGGAGTGATTGCTGGCGCAGTCCGCCAGCACCACCACCACCAAGTCAACATGTCGGACATTTATGGGGTGGTGCCACGAAACCTGATCACAAATGGTGCAC,ATTATTGGACAGTGACGATGGGGTGGTTGCTGGTGCAGGCCGCCAGCACCACCACCACCAAGTCGACATGTCGGACATTTATGGGGTGGTGCCACAAAACCTGCTCACAAATGGTACAC,ATTATTGGACAATGACGATGGGGTGGTTGCTGGTCCAGGCCGCCAGCACCACCACCACCAAGTCGACATGTCCGACATTTATGGGGTGGTGCCACGAAACCTGATCACAAATGGTGCAC,GTTATTGGACAGTGACGATGGAGTGATTGCTGGCGCAGGCCGCCAGCACCACCACCACCAAGTCAACATGTCGGACATTTATGGGGTGGTGCCACGAAACCTGATCACAAATGGTGCAC,GTTATTGGACAGTGACGATGGGGTGGTTGCTGGTCCAGGCCGCCAGCACCACCACCACCAAGTCAACATGTCGGACATTTATGGGGTGGTGCCACGAAACCTGATCACAAATGGTGCAC,ATTATTGGACAATGACGATGGGGTGATTGCTGGCGCAGGCCGCCAGCACCACCACCACCAAGTCGACATGTCCGACATTTATGGGGTGGTGCCACGAAACCTGATCACAAATGGTGCAC,GTTATTGGACAATGACGATGGGGTGGTTGCTGGTCCAGTCCGCCAGCACCACCACCACCAAGTCAACATGTCCGACATTTATGGGGTGGTGCCACGAAACCTGATCACAAATGGTGCAC,ATTATTGGACAATGACGATGGGGTGATTGCTGGTCCAGTCCGCCAGCACCACCACCACCAAGTCAACATGTCGGACATTTATGGGGTGGTGCCACGAAACCTGATCACAAATGGTGCAC,GTTATTGGACAATGACGATGGAGTGATTGCTGGTGCAGTCCGCCAGCACCACCACCACCAAGTCAACATGTCCGACATTTATGGGGTGGTGCCACGAAACCTGATCACAAATGGTGCAC,ATTATTGGACAATGACGATGGAGTGGTTGCTGGCCCAGTCCGCCAGCACCACCACCACCAAGTCGACATGTCGGACATTTATGGGGTGGTGCCACGAAACCTGATCACAAATGGTGCAC,ATTATTGGACAGTGACGATGGAGTGATTGCTGGTGCAGTCCGCCAGCACCACCACCACCAAGTCAACATGTCCGACATTTATGGGGTGGTGCCACGAAACCTGATCACAAATGGTGCAC,ATTATTGGACAGTGACGATGGGGTGATTGCTGGTGCAGGCCGCCAGCACCACCACCACCAAGTCAACATGTCCGACATTTATGGGGTGGTGCCACGAAACCTGATCACAAATGGTGCAC,GTTATTGGACAATGACGATGGGGTGGTTGCTGGTCCAGGCCGCCAGCACCACCACCACCAAGTCGACATGTCCGACATTTATGGGGTGGTGCCACGAAACCTGATCACAAATGGTGCAC,GTTATTGGACAATGACGATGGGGTGGTTGCTGGCCCAGGCCGCCAGCACCACCACCACCAAGTCGACATGTCGGACATTTATGGGGTGGTGCCACGAAACCTGATCACAAATGGTGCAC,GTTATTGGACAGTGACGATGGGGTGGTTGCTGGTCCAGTCCGCCAGCACCACCACCACCAAGTCAACATGTCGGACATTTATGGGGTGGTGCCACGAAACCTGATCACAAATGGTGCAC,ATTATTGGACAGTGACGATGGGGTGGTTGCTGGTCCAGTCCGCCAGCACCACCACCACCAAGTCAACATGTCGGACATTTATGGGGTGGTGCCACGAAACCTGATCACAAATGGTGCAC,ATTATTGGACAGTGACGATGGAGTGATTGCTGGTCCAGTCCGCCAGCACCACCACCACCAAGTCAACATGTCGGACATTTATGGGGTGGTGCCACGAAACCTGATCACAAATGGTGCAC,ATTATTGGACAGTGACGATGGGGTGGTTGCTGGTCCAGTCCGCCAGCACCACCACCACCAAGTCGACATGTCGGACATTTATGGGGTGGTGCCACGAAACCTGATCACAAATGGTGCAC,GTTATTGGACAGTGACGATGGAGTGGTTGCTGGCGCAGTCCGCCAGCACCACCACCACCAAGTCGACATGTCCGACATTTATGGGGTGGTGCCACGAAACCTGATCACAAATGGTGCAC,GTTATTGGACAGTGACGATGGAGTGATTGCTGGCGCAGGCCGCCAGCACCACCACCACCAAGTCAACATGTCCGACATTTATGGGGTGGTGCCACGAAACCTGATCACAAATGGTGCAC,ATTATTGGACAGTGACGATGGAGTGGTTGCTGGCGCAGTCCGCCAGCACCACCACCACCAAGTCGACATGTCGGACATTTATGGGGTGGTGCCACAAAACCTGCTCACAAATGGTACAC,ATTATTGGACAATGACGATGGGGTGATTGCTGGTCCAGGCCGCCAGCACCACCACCACCAAGTCGACATGTCCGACATTTATGGGGTGGTGCCACGAAACCTGATCACAAATGGTACAC,GTTATTGGACAATGACGATGGGGTGGTTGCTGGTCCAGGCCGCCAGCACCACCACCACCAAGTCGACATGTCGGACATTTATGGGGTGGTGCCACAAAACCTGCTCACAAATGGTACAC,ATTATTGGACAGTGACGATGGAGTGATTGCTGGCGCAGTCCGCCAGCACCACCACCACCAAGTCGACATGTCGGACATTTATGGGGTGGTGCCACAAAACCTGCTCACAAATGGTACAC,ATTATTGGACAATGACGATGGGGTGGTTGCTGGCCCAGTCCGCCAGCACCACCACCACCAAGTCAACATGTCCGACATTTATGGGGTGGTGCCACGAAACCTGATCACAAATGGTGCAC,GTTATTGGACAGTGACGATGGGGTGGTTGCTGGTGCAGGCCGCCAGCACCACCACCACCAAGTCGACATGTCGGACATTTATGGGGTGGTGCCACGAAACCTGATCACAAATGGTGCAC,GTTATTGGACAATGACGATGGGGTGATTGCTGGTCCAGGCCGCCAGCACCACCACCACCAAGTCGACATGTCGGACATTTATGGGGTGGTGCCACAAAACCTGCTCACAAATGGTACAC,GTTATTGGACAGTGACGATGGAGTGGTTGCTGGCCCAGTCCGCCAGCACCACCACCACCAAGTCGACATGTCCGACATTTATGGGGTGGTGCCACAAAACCTGCTCACAAATGGTACAC,GTTATTGGACAGTGACGATGGGGTGGTTGCTGGTGCAGGCCGCCAGCACCACCACCACCAAGTCAACATGTCCGACATTTATGGGGTGGTGCCACAAAACCTGCTCACAAATGGTACAC,ATTATTGGACAATGACGATGGGGTGATTGCTGGCGCAGTCCGCCAGCACCACCACCACCAAGTCAACATGTCGGACATTTATGGGGTGGTGCCACAAAACCTGCTCACAAATGGTACAC,GTTATTGGACAGTGACGATGGAGTGATTGCTGGTCCAGGCCGCCAGCACCACCACCACCAAGTCGACATGTCGGACATTTATGGGGTGGTGCCACGAAACCTGATCACAAATGGCGCAC,GTTATTGGACAGTGACGATGGAGTGATTGCTGGTCCAGTCCGCCAGCACCACCACCACCAAGTCGACATGTCCGACATTTATGGGGTGGTGCCACAAAACCTGCTCACAAATGGTACAC,GTTATTGGACAGTGACGATGGAGTGATTGCTGGTGCAGGCCGCCAGCACCACCACCACCAAGTCGACATGTCCGACATTTATGGGGTGGTGCCACAAAACCTGCTCACAAATGGCGCAC,ATTATTGGACAATGACGATGGAGTGGTTGCTGGCCCAGTCCGCCAGCACCACCACCACCAAGTCAACATGTCGGACATTTATGGGGTGGTGCCACGAAACCTGATCACAAATGGCGCAC,GTTATTGGACAGTGACGATGGAGTGGTTGCTGGCCCAGGCCGCCAGCACCACCACCACCAAGTCAACATGTCGGACATTTATGGGGTGGTGCCACGAAACCTGATCACAAATGGTGCAC,ATTATTGGACAGTGACGATGGAGTGATTGCTGGTGCAGTCCGCCAGCACCACCACCACCAAGTCGACATGTCCGACATTTATGGGGTGGTGCCACGAAACCTGATCACAAATGGTGCAC,ATTATTGGACAATGACGATGGGGTGATTGCTGGTCCAGTCCGCCAGCACCACCACCACCAAGTCGACATGTCCGACATTTATGGGGTGGTGCCACAAAACCTGCTCACAAATGGTACAC,ATTATTGGACAATGACGATGGGGTGATTGCTGGCCCAGTCCGCCAGCACCACCACCACCAAGTCAACATGTCCGACATTTATGGGGTGGTGCCACAAAACCTGATCACAAATGGCACAC,GTTATTGGACAATGACGATGGGGTGGTTGCTGGCGCAGTCCGCCAGCACCACCACCACCAAGTCGACATGTCCGACATTTATGGGGTGGTGCCACAAAACCTGCTCACAAATGGTACAC,ATTATTGGACAGTGACGATGGGGTGGTTGCTGGCGCAGGCCGCCAGCACCACCACCACCAAGTCAACATGTCGGACATTTATGGGGTGGTGCCACGAAACCTGATCACAAATGGCGCAC,GTTATTGGACAGTGACGATGGAGTGATTGCTGGCGCAGGCCGCCAGCACCACCACCACCAAGTCAACATGTCCGACATTTATGGGGTGGTGCCACAAAACCTGCTCACAAATGGTGCAC,GTTATTGGACAATGACGATGGAGTGATTGCTGGTGCAGTCCGCCAGCACCACCACCACCAAGTCAACATGTCCGACATTTATGGGGTGGTGCCACAAAACCTGATCACAAATGGCGCAC,ATTATTGGACAGTGACGATGGGGTGGTTGCTGGCGCAGGCCGCCAGCACCACCACCACCAAGTCGACATGTCCGACATTTATGGGGTGGTGCCACAAAACCTGCTCACAAATGGTACAC,ATTATTGGACAATGACGATGGGGTGGTTGCTGGCGCAGTCCGCCAGCACCACCACCACCAAGTCAACATGTCGGACATTTATGGGGTGGTGCCACGAAACCTGATCACAAATGGCGCAC,GTTATTGGACAGTGACGATGGAGTGGTTGCTGGTGCAGGCCGCCAGCACCACCACCACCAAGTCGACATGTCCGACATTTATGGGGTGGTGCCACAAAACCTGCTCACAAATGGCACAC,GTTATTGGACAATGACGATGGAGTGGTTGCTGGTCCAGTCCGCCAGCACCACCACCACCAAGTCGACATGTCCGACATTTATGGGGTGGTGCCACAAAACCTGCTCACAAATGGTACAC,GTTATTGGACAATGACGATGGAGTGATTGCTGGCCCAGTCCGCCAGCACCACCACCACCAAGTCGACATGTCGGACATTTATGGGGTGGTGCCACAAAACCTGCTCACAAATGGTACAC,GTTATTGGACAGTGACGATGGAGTGGTTGCTGGCCCAGGCCGCCAGCACCACCACCACCAAGTCAACATGTCCGACATTTATGGGGTGGTGCCACAAAACCTGCTCACAAATGGTACAC,ATTATTGGACAATGACGATGGGGTGGTTGCTGGTCCAGTCCGCCAGCACCACCACCACCAAGTCGACATGTCGGACATTTATGGGGTGGTGCCACAAAACCTGCTCACAAATGGTACAC,GTTATTGGACAATGACGATGGGGTGATTGCTGGCGCAGTCCGCCAGCACCACCACCACCAAGTCAACATGTCGGACATTTATGGGGTGGTGCCACAAAACCTGATCACAAATGGCACAC,GTTATTGGACAGTGACGATGGGGTGATTGCTGGCGCAGGCCGCCAGCACCACCACCACCAAGTCAACATGTCGGACATTTATGGGGTGGTGCCACAAAACCTGCTCACAAATGGTACAC,GTTATTGGACAGTGACGATGGAGTGATTGCTGGTCCAGGCCGCCAGCACCACCACCACCAAGTCGACATGTCCGACATTTATGGGGTGGTGCCACAAAACCTGCTCACAAATGGTACAC,ATTATTGGACAGTGACGATGGGGTGATTGCTGGTGCAGGCCGCCAGCACCACCACCACCAAGTCGACATGTCCGACATTTATGGGGTGGTGCCACAAAACCTGCTCACAAATGGTACAC,GTTATTGGACAGTGACGATGGGGTGATTGCTGGTCCAGTCCGCCAGCACCACCACCACCAAGTCAACATGTCGGACATTTATGGGGTGGTGCCACAAAACCTGCTCACAAATGGTACAC,GTTATTGGACAGTGACGATGGGGTGATTGCTGGTGCAGTCCGCCAGCACCACCACCACCAAGTCGACATGTCCGACATTTATGGGGTGGTGCCACAAAACCTGCTCACAAATGGTACAC,ATTATTGGACAGTGACGATGGAGTGGTTGCTGGTCCAGGCCGCCAGCACCACCACCACCAAGTCGACATGTCCGACATTTATGGGGTGGTGCCACAAAACCTGCTCACAAATGGTACAC,ATTATTGGACAGTGACGATGGAGTGGTTGCTGGTCCAGTCCGCCAGCACCACCACCACCAAGTCGACATGTCCGACATTTATGGGGTGGTGCCACAAAACCTGCTCACAAATGGTACAC,GTTATTGGACAATGACGATGGAGTGGTTGCTGGCGCAGTCCGCCAGCACCACCACCACCAAGTCGACATGTCCGACATTTATGGGGTGGTGCCACAAAACCTGCTCACAAATGGTACAC,ATTATTGGACAGTGACGATGGGGTGATTGCTGGCCCAGTCCGCCAGCACCACCACCACCAAGTCGACATGTCCGACATTTATGGGGTGGTGCCACAAAACCTGCTCACAAATGGTACAC,GTTATTGGACAGTGACGATGGAGTGGTTGCTGGTCCAGTCCGCCAGCACCACCACCACCAAGTCAACATGTCGGACATTTATGGGGTGGTGCCACAAAACCTGCTCACAAATGGTACAC,GTTATTGGACAATGACGATGGGGTGGTTGCTGGCGCAGGCCGCCAGCACCACCACCACCAAGTCGACATGTCCGACATTTATGGGGTGGTGCCACGAAACCTGATCACAAATGGTGCAC,ATTATTGGACAATGACGATGGGGTGATTGCTGGTCCAGTCCGCCAGCACCACCACCACCAAGTCGACATGTCGGACATTTATGGGGTGGTGCCACAAAACCTGCTCACAAATGGTACAC,GTTATTGGACAGTGACGATGGAGTGATTGCTGGCGCAGGCCGCCAGCACCACCACCACCAAGTCAACATGTCGGACATTTATGGGGTGGTGCCACGAAACCTGATCACAAATGGCGCAC,GTTATTGGACAGTGACGATGGAGTGATTGCTGGCGCAGGCCGCCAGCACCACCACCACCAAGTCGACATGTCCGACATTTATGGGGTGGTGCCACAAAACCTGCTCACAAATGGCGCAC,ATTATTGGACAATGACGATGGGGTGATTGCTGGTGCAGGCCGCCAGCACCACCACCACCAAGTCGACATGTCGGACATTTATGGGGTGGTGCCACAAAACCTGCTCACAAATGGTACAC,GTTATTGGACAGTGACGATGGAGTGATTGCTGGTGCAGTCCGCCAGCACCACCACCACCAAGTCAACATGTCGGACATTTATGGGGTGGTGCCACGAAACCTGATCACAAATGGTGCAC,GTTATTGGACAGTGACGATGGAGTGATTGCTGGTCCAGTCCGCCAGCACCACCACCACCAAGTCAACATGTCGGACATTTATGGGGTGGTGCCACAAAACCTGCTCACAAATGGTGCAC,ATTATTGGACAATGACGATGGGGTGGTTGCTGGCGCAGGCCGCCAGCACCACCACCACCAAGTCAACATGTCGGACATTTATGGGGTGGTGCCACGAAACCTGATCACAAATGGCGCAC,GTTATTGGACAGTGACGATGGAGTGATTGCTGGTCCAGTCCGCCAGCACCACCACCACCAAGTCAACATGTCGGACATTTATGGGGTGGTGCCACGAAACCTGATCACAAATGGCGCAC,GTTATTGGACAATGACGATGGAGTGATTGCTGGTCCAGTCCGCCAGCACCACCACCACCAAGTCAACATGTCGGACATTTATGGGGTGGTGCCACGAAACCTGATCACAAATGGCGCAC,ATTATTGGACAATGACGATGGGGTGGTTGCTGGCCCAGGCCGCCAGCACCACCACCACCAAGTCGACATGTCCGACATTTATGGGGTGGTGCCACAAAACCTGCTCACAAATGGCACAC,GTTATTGGACAATGACGATGGAGTGATTGCTGGTCCAGTCCGCCAGCACCACCACCACCAAGTCGACATGTCGGACATTTATGGGGTGGTGCCACGAAACCTGATCACAAATGGCGCAC,GTTATTGGACAGTGACGATGGGGTGATTGCTGGCGCAGGCCGCCAGCACCACCACCACCAAGTCGACATGTCCGACATTTATGGGGTGGTGCCACGAAACCTGATCACAAATGGTGCAC,GTTATTGGACAATGACGATGGAGTGATTGCTGGTGCAGTCCGCCAGCACCACCACCACCAAGTCAACATGTCCGACATTTATGGGGTGGTGCCACAAAACCTGCTCACAAATGGTACAC,ATTATTGGACAATGACGATGGAGTGATTGCTGGTCCAGTCCGCCAGCACCACCACCACCAAGTCAACATGTCGGACATTTATGGGGTGGTGCCACGAAACCTGATCACAAATGGTGCAC,ATTATTGGACAGTGACGATGGGGTGGTTGCTGGCCCAGGCCGCCAGCACCACCACCACCAAGTCGACATGTCGGACATTTATGGGGTGGTGCCACGAAACCTGCTCACAAATGGTGCAC,ATTATTGGACAGTGACGATGGGGTGGTTGCTGGCCCAGGCCGCCAGCACCACCACCACCAAGTCGACATGTCGGACATTTATGGGGTGGTGCCACGAAACCTGCTCACAAATGGTACAC,ATTATTGGACAATGACGATGGGGTGGTTGCTGGCGCAGGCCGCCAGCACCACCACCACCAAGTCGACATGTCGGACATTTATGGGGTGGTGCCACAAAACCTGCTCACAAATGGTACAC,GTTATTGGACAGTGACGATGGAGTGATTGCTGGTCCAGGCCGCCAGCACCACCACCACCAAGTCGACATGTCGGACATTTATGGGGTGGTGCCACAAAACCTGCTCACAAATGGTACAC,GTTATTGGACAGTGACGATGGAGTGATTGCTGGTGCAGGCCGCCAGCACCACCACCACCAAGTCGACATGTCGGACATTTATGGGGTGGTGCCACAAAACCTGCTCACAAATGGTACAC,ATTATTGGACAATGACGATGGGGTGGTTGCTGGTCCAGGCCGCCAGCACCACCACCACCAAGTCGACATGTCGGACATTTATGGGGTGGTGCCACAAAACCTGCTCACAAATGGTACAC,GTTATTGGACAGTGACGATGGGGTGATTGCTGGTGCAGGCCGCCAGCACCACCACCACCAAGTCAACATGTCGGACATTTATGGGGTGGTGCCACGAAACCTGATCACAAATGGCGCAC,GTTATTGGACAGTGACGATGGAGTGGTTGCTGGTGCAGGCCGCCAGCACCACCACCACCAAGTCGACATGTCGGACATTTATGGGGTGGTGCCACGAAACCTGCTCACAAATGGTGCAC,ATTATTGGACAATGACGATGGGGTGGTTGCTGGCGCAGTCCGCCAGCACCACCACCACCAAGTCAACATGTCCGACATTTATGGGGTGGTGCCACGAAACCTGATCACAAATGGTGCAC,ATTATTGGACAATGACGATGGGGTGATTGCTGGCCCAGTCCGCCAGCACCACCACCACCAAGTCAACATGTCGGACATTTATGGGGTGGTGCCACGAAACCTGATCACAAATGGCGCAC,ATTATTGGACAATGACGATGGAGTGGTTGCTGGTCCAGTCCGCCAGCACCACCACCACCAAGTCAACATGTCGGACATTTATGGGGTGGTGCCACGAAACCTGATCACAAATGGTGCAC,GTTATTGGACAGTGACGATGGAGTGGTTGCTGGTCCAGGCCGCCAGCACCACCACCACCAAGTCAACATGTCGGACATTTATGGGGTGGTGCCACGAAACCTGATCACAAATGGTGCAC,GTTATTGGACAGTGACGATGGAGTGATTGCTGGTCCAGGCCGCCAGCACCACCACCACCAAGTCGACATGTCGGACATTTATGGGGTGGTGCCACGAAACCTGATCACAAATGGTGCAC,ATTATTGGACAATGACGATGGGGTGGTTGCTGGCCCAGTCCGCCAGCACCACCACCACCAAGTCAACATGTCCGACATTTATGGGGTGGTGCCACGAAACCTGATCACAAATGGCGCAC,GTTATTGGACAGTGACGATGGAGTGATTGCTGGTCCAGGCCGCCAGCACCACCACCACCAAGTCGACATGTCCGACATTTATGGGGTGGTGCCACAAAACCTGCTCACAAATGGCACAC,ATTATTGGACAATGACGATGGGGTGGTTGCTGGTCCAGGCCGCCAGCACCACCACCACCAAGTCAACATGTCGGACATTTATGGGGTGGTGCCACGAAACCTGATCACAAATGGTACAC,GTTATTGGACAGTGACGATGGAGTGGTTGCTGGCGCAGGCCGCCAGCACCACCACCACCAAGTCGACATGTCCGACATTTATGGGGTGGTGCCACGAAACCTGATCACAAATGGCGCAC,GTTATTGGACAATGACGATGGAGTGGTTGCTGGCGCAGGCCGCCAGCACCACCACCACCAAGTCAACATGTCCGACATTTATGGGGTGGTGCCACAAAACCTGCTCACAAATGGCACAC,GTTATTGGACAGTGACGATGGGGTGATTGCTGGTCCAGGCCGCCAGCACCACCACCACCAAGTCAACATGTCCGACATTTATGGGGTGGTGCCACGAAACCTGATCACAAATGGTGCAC,GTTATTGGACAATGACGATGGAGTGATTGCTGGCCCAGTCCGCCAGCACCACCACCACCAAGTCAACATGTCGGACATTTATGGGGTGGTGCCACGAAACCTGATCACAAATGGCGCAC,GTTATTGGACAGTGACGATGGAGTGGTTGCTGGTCCAGGCCGCCAGCACCACCACCACCAAGTCGACATGTCGGACATTTATGGGGTGGTGCCACGAAACCTGCTCACAAATGGTGCAC,GTTATTGGACAATGACGATGGAGTGATTGCTGGCCCAGTCCGCCAGCACCACCACCACCAAGTCAACATGTCCGACATTTATGGGGTGGTGCCACAAAACCTGCTCACAAATGGTACAC,ATTATTGGACAGTGACGATGGGGTGGTTGCTGGTGCAGGCCGCCAGCACCACCACCACCAAGTCGACATGTCGGACATTTATGGGGTGGTGCCACGAAACCTGATCACAAATGGCACAC,GTTATTGGACAGTGACGATGGAGTGATTGCTGGCGCAGGCCGCCAGCACCACCACCACCAAGTCGACATGTCGGACATTTATGGGGTGGTGCCACGAAACCTGATCACAAATGGCACAC,GTTATTGGACAGTGACGATGGGGTGATTGCTGGCGCAGGCCGCCAGCACCACCACCACCAAGTCGACATGTCGGACATTTATGGGGTGGTGCCACGAAACCTGATCACAAATGGCACAC,GTTATTGGACAGTGACGATGGAGTGATTGCTGGTGCAGTCCGCCAGCACCACCACCACCAAGTCGACATGTCCGACATTTATGGGGTGGTGCCACAAAACCTGATCACAAATGGTACAC,ATTATTGGACAATGACGATGGGGTGGTTGCTGGCGCAGTCCGCCAGCACCACCACCACCAAGTCAACATGTCCGACATTTATGGGGTGGTGCCACAAAACCTGCTCACAAATGGTACAC,ATTATTGGACAATGACGATGGGGTGGTTGCTGGCGCAGTCCGCCAGCACCACCACCACCAAGTCAACATGTCCGACATTTATGGGGTGGTGCCACAAAACCTGATCACAAATGGTACAC,GTTATTGGACAGTGACGATGGAGTGATTGCTGGTCCAGGCCGCCAGCACCACCACCACCAAGTCGACATGTCGGACATTTATGGGGTGGTGCCACGAAACCTGCTCACAAATGGCGCAC,ATTATTGGACAATGACGATGGGGTGATTGCTGGCGCAGTCCGCCAGCACCACCACCACCAAGTCAACATGTCCGACATTTATGGGGTGGTGCCACAAAACCTGATCACAAATGGCACAC,ATTATTGGACAATGACGATGGAGTGGTTGCTGGCGCAGTCCGCCAGCACCACCACCACCAAGTCAACATGTCCGACATTTATGGGGTGGTGCCACAAAACCTGCTCACAAATGGTGCAC,GTTATTGGACAGTGACGATGGAGTGATTGCTGGCCCAGGCCGCCAGCACCACCACCACCAAGTCAACATGTCGGACATTTATGGGGTGGTGCCACGAAACCTGCTCACAAATGGCGCAC,ATTATTGGACAATGACGATGGGGTGGTTGCTGGTCCAGGCCGCCAGCACCACCACCACCAAGTCAACATGTCGGACATTTATGGGGTGGTGCCACGAAACCTGATCACAAATGGTGCAC,GTTATTGGACAATGACGATGGAGTGATTGCTGGCGCAGTCCGCCAGCACCACCACCACCAAGTCGACATGTCCGACATTTATGGGGTGGTGCCACGAAACCTGATCACAAATGGTGCAC,GTTATTGGACAGTGACGATGGGGTGATTGCTGGTGCAGGCCGCCAGCACCACCACCACCAAGTCAACATGTCCGACATTTATGGGGTGGTGCCACAAAACCTGCTCACAAATGGTACAC,ATTATTGGACAATGACGATGGAGTGATTGCTGGTCCAGGCCGCCAGCACCACCACCACCAAGTCGACATGTCCGACATTTATGGGGTGGTGCCACAAAACCTGCTCACAAATGGTACAC,ATTATTGGACAATGACGATGGAGTGGTTGCTGGTCCAGGCCGCCAGCACCACCACCACCAAGTCGACATGTCCGACATTTATGGGGTGGTGCCACAAAACCTGCTCACAAATGGTACAC,ATTATTGGACAATGACGATGGGGTGATTGCTGGCGCAGTCCGCCAGCACCACCACCACCAAGTCAACATGTCGGACATTTATGGGGTGGTGCCACAAAACCTGCTCACAAATGGCACAC,GTTATTGGACAGTGACGATGGGGTGATTGCTGGTCCAGTCCGCCAGCACCACCACCACCAAGTCGACATGTCGGACATTTATGGGGTGGTGCCACAAAACCTGATCACAAATGGCACAC,ATTATTGGACAGTGACGATGGAGTGGTTGCTGGCCCAGGCCGCCAGCACCACCACCACCAAGTCGACATGTCGGACATTTATGGGGTGGTGCCACAAAACCTGCTCACAAATGGTACAC,GTTATTGGACAGTGACGATGGGGTGATTGCTGGTGCAGTCCGCCAGCACCACCACCACCAAGTCGACATGTCCGACATTTATGGGGTGGTGCCACAAAACCTGCTCACAAATGGCACAC,GTTATTGGACAATGACGATGGAGTGGTTGCTGGCCCAGGCCGCCAGCACCACCACCACCAAGTCAACATGTCGGACATTTATGGGGTGGTGCCACAAAACCTGCTCACAAATGGTACAC,GTTATTGGACAGTGACGATGGAGTGGTTGCTGGCCCAGGCCGCCAGCACCACCACCACCAAGTCGACATGTCGGACATTTATGGGGTGGTGCCACGAAACCTGATCACAAATGGCGCAC,ATTATTGGACAATGACGATGGGGTGATTGCTGGTGCAGTCCGCCAGCACCACCACCACCAAGTCAACATGTCGGACATTTATGGGGTGGTGCCACAAAACCTGATCACAAATGGCGCAC,GTTATTGGACAGTGACGATGGGGTGATTGCTGGCGCAGTCCGCCAGCACCACCACCACCAAGTCAACATGTCGGACATTTATGGGGTGGTGCCACAAAACCTGCTCACAAATGGCACAC,GTTATTGGACAGTGACGATGGGGTGGTTGCTGGCCCAGTCCGCCAGCACCACCACCACCAAGTCGACATGTCGGACATTTATGGGGTGGTGCCACAAAACCTGATCACAAATGGTACAC,ATTATTGGACAATGACGATGGAGTGGTTGCTGGTGCAGTCCGCCAGCACCACCACCACCAAGTCGACATGTCCGACATTTATGGGGTGGTGCCACAAAACCTGCTCACAAATGGTACAC,GTTATTGGACAATGACGATGGAGTGATTGCTGGTGCAGGCCGCCAGCACCACCACCACCAAGTCAACATGTCCGACATTTATGGGGTGGTGCCACGAAACCTGCTCACAAATGGCACAC,GTTATTGGACAGTGACGATGGAGTGATTGCTGGTGCAGGCCGCCAGCACCACCACCACCAAGTCAACATGTCCGACATTTATGGGGTGGTGCCACGAAACCTGCTCACAAATGGCACAC,ATTATTGGACAATGACGATGGAGTGGTTGCTGGCGCAGGCCGCCAGCACCACCACCACCAAGTCAACATGTCCGACATTTATGGGGTGGTGCCACGAAACCTGCTCACAAATGGTACAC,GTTATTGGACAGTGACGATGGGGTGATTGCTGGTCCAGTCCGCCAGCACCACCACCACCAAGTCGACATGTCGGACATTTATGGGGTGGTGCCACAAAACCTGATCACAAATGGTGCAC,GTTATTGGACAATGACGATGGAGTGGTTGCTGGCGCAGGCCGCCAGCACCACCACCACCAAGTCAACATGTCCGACATTTATGGGGTGGTGCCACGAAACCTGCTCACAAATGGTACAC,ATTATTGGACAGTGACGATGGAGTGATTGCTGGTCCAGTCCGCCAGCACCACCACCACCAAGTCGACATGTCCGACATTTATGGGGTGGTGCCACAAAACCTGATCACAAATGGTACAC,GTTATTGGACAATGACGATGGGGTGGTTGCTGGCGCAGGCCGCCAGCACCACCACCACCAAGTCGACATGTCCGACATTTATGGGGTGGTGCCACAAAACCTGCTCACAAATGGTACAC,GTTATTGGACAATGACGATGGAGTGGTTGCTGGCGCAGGCCGCCAGCACCACCACCACCAAGTCAACATGTCCGACATTTATGGGGTGGTGCCACAAAACCTGCTCACAAATGGTACAC,GTTATTGGACAGTGACGATGGAGTGATTGCTGGTCCAGTCCGCCAGCACCACCACCACCAAGTCAACATGTCGGACATTTATGGGGTGGTGCCACGAAACCTGATCACAAATGGTACAC,GTTATTGGACAGTGACGATGGGGTGGTTGCTGGCGCAGGCCGCCAGCACCACCACCACCAAGTCGACATGTCCGACATTTATGGGGTGGTGCCACAAAACCTGCTCACAAATGGCACAC,GTTATTGGACAGTGACGATGGGGTGATTGCTGGTGCAGGCCGCCAGCACCACCACCACCAAGTCAACATGTCCGACATTTATGGGGTGGTGCCACGAAACCTGATCACAAATGGCGCAC,GTTATTGGACAATGACGATGGAGTGGTTGCTGGCCCAGTCCGCCAGCACCACCACCACCAAGTCGACATGTCGGACATTTATGGGGTGGTGCCACAAAACCTGATCACAAATGGCGCAC,ATTATTGGACAGTGACGATGGGGTGATTGCTGGTGCAGGCCGCCAGCACCACCACCACCAAGTCAACATGTCCGACATTTATGGGGTGGTGCCACGAAACCTGCTCACAAATGGTACAC,ATTATTGGACAATGACGATGGAGTGGTTGCTGGCGCAGGCCGCCAGCACCACCACCACCAAGTCAACATGTCCGACATTTATGGGGTGGTGCCACAAAACCTGCTCACAAATGGTACAC,GTTATTGGACAGTGACGATGGGGTGATTGCTGGCGCAGTCCGCCAGCACCACCACCACCAAGTCGACATGTCCGACATTTATGGGGTGGTGCCACGAAACCTGCTCACAAATGGTACAC,ATTATTGGACAATGACGATGGGGTGGTTGCTGGTGCAGTCCGCCAGCACCACCACCACCAAGTCGACATGTCCGACATTTATGGGGTGGTGCCACAAAACCTGATCACAAATGGTACAC,GTTATTGGACAGTGACGATGGAGTGATTGCTGGCCCAGGCCGCCAGCACCACCACCACCAAGTCAACATGTCGGACATTTATGGGGTGGTGCCACGAAACCTGATCACAAATGGCGCAC,ATTATTGGACAGTGACGATGGAGTGATTGCTGGTGCAGTCCGCCAGCACCACCACCACCAAGTCAACATGTCGGACATTTATGGGGTGGTGCCACGAAACCTGATCACAAATGGTGCAC,GTTATTGGACAATGACGATGGGGTGGTTGCTGGCCCAGGCCGCCAGCACCACCACCACCAAGTCGACATGTCCGACATTTATGGGGTGGTGCCACGAAACCTGATCACAAATGGTGCAC,GTTATTGGACAGTGACGATGGGGTGGTTGCTGGCGCAGGCCGCCAGCACCACCACCACCAAGTCGACATGTCCGACATTTATGGGGTGGTGCCACGAAACCTGCTCACAAATGGCGCAC,GTTATTGGACAATGACGATGGAGTGGTTGCTGGTGCAGGCCGCCAGCACCACCACCACCAAGTCAACATGTCGGACATTTATGGGGTGGTGCCACGAAACCTGATCACAAATGGTGCAC,GTTATTGGACAGTGACGATGGAGTGATTGCTGGCGCAGGCCGCCAGCACCACCACCACCAAGTCGACATGTCCGACATTTATGGGGTGGTGCCACGAAACCTGCTCACAAATGGTACAC,GTTATTGGACAGTGACGATGGGGTGATTGCTGGTCCAGTCCGCCAGCACCACCACCACCAAGTCGACATGTCGGACATTTATGGGGTGGTGCCACGAAACCTGCTCACAAATGGTACAC,GTTATTGGACAGTGACGATGGAGTGATTGCTGGTGCAGGCCGCCAGCACCACCACCACCAAGTCGACATGTCCGACATTTATGGGGTGGTGCCACGAAACCTGATCACAAATGGTGCAC,ATTATTGGACAATGACGATGGGGTGATTGCTGGCCCAGGCCGCCAGCACCACCACCACCAAGTCAACATGTCGGACATTTATGGGGTGGTGCCACGAAACCTGATCACAAATGGTGCAC,GTTATTGGACAGTGACGATGGAGTGGTTGCTGGCGCAGGCCGCCAGCACCACCACCACCAAGTCAACATGTCCGACATTTATGGGGTGGTGCCACGAAACCTGCTCACAAATGGTGCAC,GTTATTGGACAGTGACGATGGAGTGGTTGCTGGCGCAGGCCGCCAGCACCACCACCACCAAGTCGACATGTCCGACATTTATGGGGTGGTGCCACAAAACCTGATCACAAATGGTACAC,ATTATTGGACAATGACGATGGGGTGATTGCTGGCCCAGTCCGCCAGCACCACCACCACCAAGTCGACATGTCCGACATTTATGGGGTGGTGCCACGAAACCTGATCACAAATGGTACAC,GTTATTGGACAATGACGATGGAGTGATTGCTGGTCCAGTCCGCCAGCACCACCACCACCAAGTCGACATGTCCGACATTTATGGGGTGGTGCCACAAAACCTGCTCACAAATGGTACAC,GTTATTGGACAGTGACGATGGGGTGATTGCTGGTCCAGTCCGCCAGCACCACCACCACCAAGTCGACATGTCGGACATTTATGGGGTGGTGCCACAAAACCTGCTCACAAATGGCACAC,ATTATTGGACAGTGACGATGGAGTGGTTGCTGGTCCAGGCCGCCAGCACCACCACCACCAAGTCAACATGTCGGACATTTATGGGGTGGTGCCACGAAACCTGATCACAAATGGTACAC,ATTATTGGACAGTGACGATGGGGTGATTGCTGGCGCAGGCCGCCAGCACCACCACCACCAAGTCGACATGTCCGACATTTATGGGGTGGTGCCACAAAACCTGCTCACAAATGGTACAC,ATTATTGGACAATGACGATGGAGTGATTGCTGGTCCAGGCCGCCAGCACCACCACCACCAAGTCAACATGTCGGACATTTATGGGGTGGTGCCACAAAACCTGCTCACAAATGGTACAC,GTTATTGGACAATGACGATGGAGTGATTGCTGGTCCAGGCCGCCAGCACCACCACCACCAAGTCGACATGTCCGACATTTATGGGGTGGTGCCACAAAACCTGCTCACAAATGGTACAC,GTTATTGGACAGTGACGATGGGGTGATTGCTGGTGCAGGCCGCCAGCACCACCACCACCAAGTCAACATGTCGGACATTTATGGGGTGGTGCCACAAAACCTGCTCACAAATGGTACAC,ATTATTGGACAGTGACGATGGGGTGGTTGCTGGCGCAGTCCGCCAGCACCACCACCACCAAGTCAACATGTCGGACATTTATGGGGTGGTGCCACAAAACCTGCTCACAAATGGCACAC,ATTATTGGACAGTGACGATGGAGTGGTTGCTGGCGCAGGCCGCCAGCACCACCACCACCAAGTCGACATGTCCGACATTTATGGGGTGGTGCCACGAAACCTGATCACAAATGGTGCAC,GTTATTGGACAGTGACGATGGGGTGATTGCTGGTGCAGGCCGCCAGCACCACCACCACCAAGTCAACATGTCGGACATTTATGGGGTGGTGCCACGAAACCTGCTCACAAATGGTACAC,ATTATTGGACAGTGACGATGGGGTGATTGCTGGCGCAGGCCGCCAGCACCACCACCACCAAGTCGACATGTCGGACATTTATGGGGTGGTGCCACAAAACCTGCTCACAAATGGTACAC,GTTATTGGACAGTGACGATGGGGTGATTGCTGGCCCAGTCCGCCAGCACCACCACCACCAAGTCAACATGTCCGACATTTATGGGGTGGTGCCACAAAACCTGCTCACAAATGGTACAC,GTTATTGGACAGTGACGATGGAGTGATTGCTGGCGCAGGCCGCCAGCACCACCACCACCAAGTCAACATGTCGGACATTTATGGGGTGGTGCCACAAAACCTGATCACAAATGGCGCAC,GTTATTGGACAATGACGATGGGGTGGTTGCTGGTCCAGTCCGCCAGCACCACCACCACCAAGTCGACATGTCGGACATTTATGGGGTGGTGCCACAAAACCTGCTCACAAATGGTACAC,ATTATTGGACAATGACGATGGGGTGATTGCTGGCCCAGTCCGCCAGCACCACCACCACCAAGTCGACATGTCCGACATTTATGGGGTGGTGCCACAAAACCTGCTCACAAATGGTACAC,GTTATTGGACAATGACGATGGGGTGATTGCTGGCCCAGTCCGCCAGCACCACCACCACCAAGTCGACATGTCCGACATTTATGGGGTGGTGCCACAAAACCTGCTCACAAATGGTACAC,GTTATTGGACAATGACGATGGAGTGGTTGCTGGTCCAGTCCGCCAGCACCACCACCACCAAGTCGACATGTCCGACATTTATGGGGTGGTGCCACGAAACCTGCTCACAAATGGTACAC,ATTATTGGACAGTGACGATGGGGTGATTGCTGGCGCAGGCCGCCAGCACCACCACCACCAAGTCAACATGTCGGACATTTATGGGGTGGTGCCACAAAACCTGATCACAAATGGCGCAC,ATTATTGGACAGTGACGATGGAGTGGTTGCTGGTGCAGGCCGCCAGCACCACCACCACCAAGTCGACATGTCCGACATTTATGGGGTGGTGCCACAAAACCTGCTCACAAATGGTACAC,ATTATTGGACAGTGACGATGGGGTGATTGCTGGCCCAGTCCGCCAGCACCACCACCACCAAGTCAACATGTCGGACATTTATGGGGTGGTGCCACAAAACCTGCTCACAAATGGCACAC,ATTATTGGACAATGACGATGGAGTGGTTGCTGGCGCAGTCCGCCAGCACCACCACCACCAAGTCGACATGTCGGACATTTATGGGGTGGTGCCACAAAACCTGCTCACAAATGGTACAC,ATTATTGGACAGTGACGATGGGGTGATTGCTGGCGCAGGCCGCCAGCACCACCACCACCAAGTCAACATGTCGGACATTTATGGGGTGGTGCCACGAAACCTGATCACAAATGGCGCAC,ATTATTGGACAATGACGATGGGGTGATTGCTGGTGCAGGCCGCCAGCACCACCACCACCAAGTCGACATGTCCGACATTTATGGGGTGGTGCCACAAAACCTGCTCACAAATGGTACAC,ATTATTGGACAGTGACGATGGGGTGGTTGCTGGTCCAGGCCGCCAGCACCACCACCACCAAGTCGACATGTCCGACATTTATGGGGTGGTGCCACAAAACCTGCTCACAAATGGTACAC,GTTATTGGACAGTGACGATGGAGTGATTGCTGGTGCAGGCCGCCAGCACCACCACCACCAAGTCAACATGTCCGACATTTATGGGGTGGTGCCACAAAACCTGCTCACAAATGGTACAC,GTTATTGGACAGTGACGATGGGGTGATTGCTGGTCCAGTCCGCCAGCACCACCACCACCAAGTCAACATGTCCGACATTTATGGGGTGGTGCCACGAAACCTGCTCACAAATGGCGCAC,GTTATTGGACAGTGACGATGGGGTGATTGCTGGTCCAGGCCGCCAGCACCACCACCACCAAGTCAACATGTCCGACATTTATGGGGTGGTGCCACGAAACCTGATCACAAATGGTACAC,GTTATTGGACAATGACGATGGGGTGGTTGCTGGCCCAGTCCGCCAGCACCACCACCACCAAGTCAACATGTCCGACATTTATGGGGTGGTGCCACAAAACCTGCTCACAAATGGTACAC,GTTATTGGACAGTGACGATGGGGTGATTGCTGGTCCAGGCCGCCAGCACCACCACCACCAAGTCAACATGTCCGACATTTATGGGGTGGTGCCACAAAACCTGCTCACAAATGGTACAC,GTTATTGGACAGTGACGATGGGGTGATTGCTGGCCCAGGCCGCCAGCACCACCACCACCAAGTCGACATGTCGGACATTTATGGGGTGGTGCCACAAAACCTGCTCACAAATGGTACAC,GTTATTGGACAGTGACGATGGAGTGATTGCTGGCGCAGGCCGCCAGCACCACCACCACCAAGTCGACATGTCGGACATTTATGGGGTGGTGCCACAAAACCTGATCACAAATGGTACAC,GTTATTGGACAGTGACGATGGGGTGGTTGCTGGCCCAGTCCGCCAGCACCACCACCACCAAGTCAACATGTCCGACATTTATGGGGTGGTGCCACAAAACCTGCTCACAAATGGTACAC,GTTATTGGACAGTGACGATGGAGTGGTTGCTGGCCCAGGCCGCCAGCACCACCACCACCAAGTCGACATGTCCGACATTTATGGGGTGGTGCCACAAAACCTGATCACAAATGGTACAC,GTTATTGGACAGTGACGATGGGGTGGTTGCTGGTCCAGTCCGCCAGCACCACCACCACCAAGTCGACATGTCGGACATTTATGGGGTGGTGCCACGAAACCTGCTCACAAATGGCGCAC,GTTATTGGACAATGACGATGGAGTGGTTGCTGGTCCAGTCCGCCAGCACCACCACCACCAAGTCAACATGTCGGACATTTATGGGGTGGTGCCACGAAACCTGCTCACAAATGGTGCAC,GTTATTGGACAGTGACGATGGAGTGGTTGCTGGCGCAGGCCGCCAGCACCACCACCACCAAGTCGACATGTCGGACATTTATGGGGTGGTGCCACAAAACCTGATCACAAATGGTACAC,GTTATTGGACAATGACGATGGGGTGATTGCTGGCCCAGGCCGCCAGCACCACCACCACCAAGTCGACATGTCCGACATTTATGGGGTGGTGCCACGAAACCTGCTCACAAATGGCGCAC,GTTATTGGACAGTGACGATGGGGTGATTGCTGGTCCAGGCCGCCAGCACCACCACCACCAAGTCAACATGTCGGACATTTATGGGGTGGTGCCACAAAACCTGCTCACAAATGGTACAC,GTTATTGGACAATGACGATGGAGTGGTTGCTGGCCCAGTCCGCCAGCACCACCACCACCAAGTCGACATGTCCGACATTTATGGGGTGGTGCCACAAAACCTGATCACAAATGGTGCAC,GTTATTGGACAATGACGATGGAGTGGTTGCTGGTCCAGGCCGCCAGCACCACCACCACCAAGTCAACATGTCCGACATTTATGGGGTGGTGCCACAAAACCTGCTCACAAATGGTACAC,ATTATTGGACAGTGACGATGGAGTGGTTGCTGGTCCAGGCCGCCAGCACCACCACCACCAAGTCGACATGTCCGACATTTATGGGGTGGTGCCACGAAACCTGCTCACAAATGGTGCAC,ATTATTGGACAGTGACGATGGAGTGGTTGCTGGTGCAGTCCGCCAGCACCACCACCACCAAGTCAACATGTCGGACATTTATGGGGTGGTGCCACAAAACCTGATCACAAATGGTACAC,GTTATTGGACAGTGACGATGGGGTGATTGCTGGTCCAGGCCGCCAGCACCACCACCACCAAGTCGACATGTCCGACATTTATGGGGTGGTGCCACAAAACCTGCTCACAAATGGCACAC,GTTATTGGACAGTGACGATGGAGTGGTTGCTGGCGCAGTCCGCCAGCACCACCACCACCAAGTCAACATGTCGGACATTTATGGGGTGGTGCCACAAAACCTGCTCACAAATGGTACAC,ATTATTGGACAGTGACGATGGGGTGATTGCTGGTCCAGGCCGCCAGCACCACCACCACCAAGTCGACATGTCCGACATTTATGGGGTGGTGCCACGAAACCTGATCACAAATGGTACAC,GTTATTGGACAGTGACGATGGAGTGGTTGCTGGTGCAGTCCGCCAGCACCACCACCACCAAGTCAACATGTCGGACATTTATGGGGTGGTGCCACAAAACCTGCTCACAAATGGTACAC,ATTATTGGACAATGACGATGGAGTGGTTGCTGGTGCAGTCCGCCAGCACCACCACCACCAAGTCAACATGTCGGACATTTATGGGGTGGTGCCACAAAACCTGCTCACAAATGGTACAC,GTTATTGGACAGTGACGATGGAGTGGTTGCTGGCGCAGTCCGCCAGCACCACCACCACCAAGTCGACATGTCGGACATTTATGGGGTGGTGCCACAAAACCTGCTCACAAATGGCGCAC,GTTATTGGACAGTGACGATGGGGTGATTGCTGGCCCAGGCCGCCAGCACCACCACCACCAAGTCGACATGTCCGACATTTATGGGGTGGTGCCACGAAACCTGCTCACAAATGGTACAC,ATTATTGGACAGTGACGATGGGGTGATTGCTGGTCCAGGCCGCCAGCACCACCACCACCAAGTCAACATGTCCGACATTTATGGGGTGGTGCCACAAAACCTGCTCACAAATGGTACAC,GTTATTGGACAATGACGATGGGGTGATTGCTGGCCCAGGCCGCCAGCACCACCACCACCAAGTCGACATGTCGGACATTTATGGGGTGGTGCCACAAAACCTGCTCACAAATGGTACAC,ATTATTGGACAGTGACGATGGAGTGGTTGCTGGCCCAGTCCGCCAGCACCACCACCACCAAGTCAACATGTCCGACATTTATGGGGTGGTGCCACAAAACCTGCTCACAAATGGTACAC,ATTATTGGACAATGACGATGGGGTGATTGCTGGTCCAGTCCGCCAGCACCACCACCACCAAGTCAACATGTCCGACATTTATGGGGTGGTGCCACAAAACCTGCTCACAAATGGCACAC,GTTATTGGACAGTGACGATGGGGTGGTTGCTGGCCCAGGCCGCCAGCACCACCACCACCAAGTCAACATGTCGGACATTTATGGGGTGGTGCCACAAAACCTGCTCACAAATGGTACAC,ATTATTGGACAGTGACGATGGAGTGGTTGCTGGTGCAGTCCGCCAGCACCACCACCACCAAGTCAACATGTCGGACATTTATGGGGTGGTGCCACAAAACCTGCTCACAAATGGTACAC,ATTATTGGACAATGACGATGGAGTGATTGCTGGCGCAGGCCGCCAGCACCACCACCACCAAGTCGACATGTCCGACATTTATGGGGTGGTGCCACAAAACCTGCTCACAAATGGTACAC,ATTATTGGACAGTGACGATGGAGTGGTTGCTGGTGCAGTCCGCCAGCACCACCACCACCAAGTCGACATGTCCGACATTTATGGGGTGGTGCCACAAAACCTGCTCACAAATGGTACAC,ATTATTGGACAATGACGATGGGGTGATTGCTGGTGCAGTCCGCCAGCACCACCACCACCAAGTCGACATGTCCGACATTTATGGGGTGGTGCCACAAAACCTGCTCACAAATGGTACAC,GTTATTGGACAATGACGATGGAGTGGTTGCTGGTGCAGGCCGCCAGCACCACCACCACCAAGTCGACATGTCGGACATTTATGGGGTGGTGCCACGAAACCTGATCACAAATGGCACAC,GTTATTGGACAGTGACGATGGAGTGGTTGCTGGTGCAGGCCGCCAGCACCACCACCACCAAGTCAACATGTCCGACATTTATGGGGTGGTGCCACAAAACCTGCTCACAAATGGTACAC,GTTATTGGACAGTGACGATGGGGTGATTGCTGGTCCAGTCCGCCAGCACCACCACCACCAAGTCAACATGTCCGACATTTATGGGGTGGTGCCACAAAACCTGCTCACAAATGGTACAC,ATTATTGGACAGTGACGATGGAGTGATTGCTGGCGCAGTCCGCCAGCACCACCACCACCAAGTCGACATGTCGGACATTTATGGGGTGGTGCCACGAAACCTGATCACAAATGGTACAC,GTTATTGGACAATGACGATGGGGTGGTTGCTGGTCCAGGCCGCCAGCACCACCACCACCAAGTCAACATGTCCGACATTTATGGGGTGGTGCCACAAAACCTGCTCACAAATGGCACAC,GTTATTGGACAGTGACGATGGAGTGATTGCTGGCGCAGTCCGCCAGCACCACCACCACCAAGTCAACATGTCCGACATTTATGGGGTGGTGCCACAAAACCTGCTCACAAATGGTACAC,GTTATTGGACAGTGACGATGGAGTGGTTGCTGGTCCAGGCCGCCAGCACCACCACCACCAAGTCGACATGTCGGACATTTATGGGGTGGTGCCACGAAACCTGATCACAAATGGCGCAC,GTTATTGGACAGTGACGATGGGGTGGTTGCTGGTCCAGGCCGCCAGCACCACCACCACCAAGTCAACATGTCGGACATTTATGGGGTGGTGCCACAAAACCTGCTCACAAATGGTACAC,GTTATTGGACAATGACGATGGGGTGATTGCTGGCGCAGTCCGCCAGCACCACCACCACCAAGTCAACATGTCCGACATTTATGGGGTGGTGCCACAAAACCTGCTCACAAATGGTACAC,GTTATTGGACAGTGACGATGGAGTGGTTGCTGGTCCAGGCCGCCAGCACCACCACCACCAAGTCGACATGTCGGACATTTATGGGGTGGTGCCACAAAACCTGCTCACAAATGGTACAC,GTTATTGGACAATGACGATGGAGTGATTGCTGGCGCAGGCCGCCAGCACCACCACCACCAAGTCAACATGTCCGACATTTATGGGGTGGTGCCACAAAACCTGATCACAAATGGTACAC,GTTATTGGACAATGACGATGGGGTGGTTGCTGGTCCAGTCCGCCAGCACCACCACCACCAAGTCGACATGTCCGACATTTATGGGGTGGTGCCACAAAACCTGATCACAAATGGTACAC,ATTATTGGACAGTGACGATGGAGTGGTTGCTGGTCCAGGCCGCCAGCACCACCACCACCAAGTCGACATGTCCGACATTTATGGGGTGGTGCCACGAAACCTGCTCACAAATGGTACAC,GTTATTGGACAATGACGATGGAGTGGTTGCTGGCCCAGGCCGCCAGCACCACCACCACCAAGTCAACATGTCGGACATTTATGGGGTGGTGCCACAAAACCTGATCACAAATGGTACAC,GTTATTGGACAGTGACGATGGGGTGATTGCTGGTGCAGTCCGCCAGCACCACCACCACCAAGTCAACATGTCCGACATTTATGGGGTGGTGCCACAAAACCTGCTCACAAATGGTACAC,GTTATTGGACAGTGACGATGGAGTGGTTGCTGGCCCAGTCCGCCAGCACCACCACCACCAAGTCAACATGTCGGACATTTATGGGGTGGTGCCACAAAACCTGCTCACAAATGGCACAC,ATTATTGGACAATGACGATGGGGTGGTTGCTGGCCCAGGCCGCCAGCACCACCACCACCAAGTCGACATGTCCGACATTTATGGGGTGGTGCCACAAAACCTGCTCACAAATGGTACAC,GTTATTGGACAGTGACGATGGAGTGATTGCTGGTGCAGTCCGCCAGCACCACCACCACCAAGTCGACATGTCGGACATTTATGGGGTGGTGCCACGAAACCTGATCACAAATGGCGCAC,GTTATTGGACAATGACGATGGGGTGGTTGCTGGCCCAGGCCGCCAGCACCACCACCACCAAGTCAACATGTCCGACATTTATGGGGTGGTGCCACGAAACCTGCTCACAAATGGCACAC,GTTATTGGACAGTGACGATGGAGTGATTGCTGGTGCAGTCCGCCAGCACCACCACCACCAAGTCGACATGTCGGACATTTATGGGGTGGTGCCACAAAACCTGATCACAAATGGTGCAC,GTTATTGGACAGTGACGATGGGGTGGTTGCTGGCCCAGGCCGCCAGCACCACCACCACCAAGTCAACATGTCCGACATTTATGGGGTGGTGCCACGAAACCTGCTCACAAATGGTACAC,ATTATTGGACAATGACGATGGAGTGATTGCTGGTGCAGTCCGCCAGCACCACCACCACCAAGTCGACATGTCGGACATTTATGGGGTGGTGCCACAAAACCTGATCACAAATGGCACAC,GTTATTGGACAATGACGATGGGGTGATTGCTGGTGCAGGCCGCCAGCACCACCACCACCAAGTCGACATGTCCGACATTTATGGGGTGGTGCCACAAAACCTGCTCACAAATGGTACAC,ATTATTGGACAATGACGATGGAGTGATTGCTGGCGCAGTCCGCCAGCACCACCACCACCAAGTCAACATGTCCGACATTTATGGGGTGGTGCCACAAAACCTGCTCACAAATGGTACAC,GTTATTGGACAATGACGATGGGGTGGTTGCTGGTCCAGGCCGCCAGCACCACCACCACCAAGTCAACATGTCCGACATTTATGGGGTGGTGCCACAAAACCTGCTCACAAATGGTACAC,GTTATTGGACAATGACGATGGGGTGGTTGCTGGTCCAGGCCGCCAGCACCACCACCACCAAGTCGACATGTCCGACATTTATGGGGTGGTGCCACAAAACCTGCTCACAAATGGCACAC,GTTATTGGACAATGACGATGGGGTGGTTGCTGGTCCAGGCCGCCAGCACCACCACCACCAAGTCAACATGTCGGACATTTATGGGGTGGTGCCACGAAACCTGCTCACAAATGGTACAC,GTTATTGGACAATGACGATGGGGTGGTTGCTGGCGCAGGCCGCCAGCACCACCACCACCAAGTCGACATGTCGGACATTTATGGGGTGGTGCCACAAAACCTGCTCACAAATGGTACAC,ATTATTGGACAATGACGATGGAGTGGTTGCTGGCGCAGGCCGCCAGCACCACCACCACCAAGTCGACATGTCCGACATTTATGGGGTGGTGCCACGAAACCTGATCACAAATGGTGCAC,ATTATTGGACAGTGACGATGGAGTGATTGCTGGCGCAGGCCGCCAGCACCACCACCACCAAGTCGACATGTCCGACATTTATGGGGTGGTGCCACAAAACCTGCTCACAAATGGTACAC,GTTATTGGACAATGACGATGGGGTGATTGCTGGTCCAGTCCGCCAGCACCACCACCACCAAGTCAACATGTCGGACATTTATGGGGTGGTGCCACAAAACCTGCTCACAAATGGTGCAC,GTTATTGGACAGTGACGATGGAGTGGTTGCTGGCGCAGGCCGCCAGCACCACCACCACCAAGTCGACATGTCCGACATTTATGGGGTGGTGCCACGAAACCTGATCACAAATGGCACAC,ATTATTGGACAGTGACGATGGAGTGGTTGCTGGCGCAGGCCGCCAGCACCACCACCACCAAGTCGACATGTCGGACATTTATGGGGTGGTGCCACGAAACCTGCTCACAAATGGTACAC,GTTATTGGACAATGACGATGGGGTGATTGCTGGTCCAGGCCGCCAGCACCACCACCACCAAGTCGACATGTCCGACATTTATGGGGTGGTGCCACAAAACCTGCTCACAAATGGTACAC,ATTATTGGACAGTGACGATGGAGTGGTTGCTGGCGCAGTCCGCCAGCACCACCACCACCAAGTCGACATGTCCGACATTTATGGGGTGGTGCCACAAAACCTGCTCACAAATGGTACAC,GTTATTGGACAGTGACGATGGGGTGGTTGCTGGTGCAGGCCGCCAGCACCACCACCACCAAGTCAACATGTCGGACATTTATGGGGTGGTGCCACAAAACCTGCTCACAAATGGTACAC,GTTATTGGACAATGACGATGGAGTGATTGCTGGCCCAGTCCGCCAGCACCACCACCACCAAGTCGACATGTCCGACATTTATGGGGTGGTGCCACAAAACCTGCTCACAAATGGTACAC,GTTATTGGACAGTGACGATGGAGTGGTTGCTGGTCCAGTCCGCCAGCACCACCACCACCAAGTCGACATGTCCGACATTTATGGGGTGGTGCCACGAAACCTGCTCACAAATGGTACAC,GTTATTGGACAATGACGATGGAGTGATTGCTGGTCCAGTCCGCCAGCACCACCACCACCAAGTCAACATGTCCGACATTTATGGGGTGGTGCCACAAAACCTGCTCACAAATGGTACAC,ATTATTGGACAATGACGATGGAGTGGTTGCTGGTCCAGTCCGCCAGCACCACCACCACCAAGTCGACATGTCCGACATTTATGGGGTGGTGCCACAAAACCTGCTCACAAATGGTACAC,ATTATTGGACAATGACGATGGGGTGATTGCTGGCGCAGGCCGCCAGCACCACCACCACCAAGTCGACATGTCCGACATTTATGGGGTGGTGCCACAAAACCTGCTCACAAATGGCACAC,GTTATTGGACAGTGACGATGGGGTGATTGCTGGTGCAGTCCGCCAGCACCACCACCACCAAGTCAACATGTCGGACATTTATGGGGTGGTGCCACAAAACCTGCTCACAAATGGTACAC,ATTATTGGACAATGACGATGGGGTGGTTGCTGGCCCAGTCCGCCAGCACCACCACCACCAAGTCAACATGTCGGACATTTATGGGGTGGTGCCACAAAACCTGCTCACAAATGGTACAC,ATTATTGGACAGTGACGATGGGGTGGTTGCTGGTCCAGTCCGCCAGCACCACCACCACCAAGTCGACATGTCGGACATTTATGGGGTGGTGCCACGAAACCTGCTCACAAATGGTACAC,GTTATTGGACAATGACGATGGAGTGATTGCTGGCGCAGGCCGCCAGCACCACCACCACCAAGTCGACATGTCCGACATTTATGGGGTGGTGCCACAAAACCTGCTCACAAATGGTACAC,GTTATTGGACAGTGACGATGGGGTGGTTGCTGGCCCAGTCCGCCAGCACCACCACCACCAAGTCAACATGTCGGACATTTATGGGGTGGTGCCACAAAACCTGCTCACAAATGGTACAC,GTTATTGGACAGTGACGATGGAGTGATTGCTGGTCCAGTCCGCCAGCACCACCACCACCAAGTCAACATGTCCGACATTTATGGGGTGGTGCCACAAAACCTGCTCACAAATGGCACAC,GTTATTGGACAGTGACGATGGGGTGGTTGCTGGCGCAGGCCGCCAGCACCACCACCACCAAGTCGACATGTCGGACATTTATGGGGTGGTGCCACGAAACCTGATCACAAATGGTGCAC,ATTATTGGACAGTGACGATGGGGTGATTGCTGGTCCAGGCCGCCAGCACCACCACCACCAAGTCGACATGTCCGACATTTATGGGGTGGTGCCACAAAACCTGCTCACAAATGGTACAC,GTTATTGGACAATGACGATGGAGTGGTTGCTGGTGCAGTCCGCCAGCACCACCACCACCAAGTCGACATGTCCGACATTTATGGGGTGGTGCCACAAAACCTGCTCACAAATGGTACAC,ATTATTGGACAATGACGATGGGGTGATTGCTGGCGCAGGCCGCCAGCACCACCACCACCAAGTCGACATGTCGGACATTTATGGGGTGGTGCCACAAAACCTGCTCACAAATGGTACAC,ATTATTGGACAGTGACGATGGAGTGATTGCTGGCCCAGGCCGCCAGCACCACCACCACCAAGTCAACATGTCGGACATTTATGGGGTGGTGCCACGAAACCTGATCACAAATGGTGCAC,ATTATTGGACAATGACGATGGAGTGATTGCTGGCGCAGGCCGCCAGCACCACCACCACCAAGTCGACATGTCCGACATTTATGGGGTGGTGCCACGAAACCTGATCACAAATGGTGCAC,GTTATTGGACAATGACGATGGGGTGGTTGCTGGCCCAGGCCGCCAGCACCACCACCACCAAGTCAACATGTCCGACATTTATGGGGTGGTGCCACGAAACCTGATCACAAATGGTGCAC,ATTATTGGACAATGACGATGGGGTGGTTGCTGGTCCAGTCCGCCAGCACCACCACCACCAAGTCAACATGTCGGACATTTATGGGGTGGTGCCACGAAACCTGATCACAAATGGTGCAC,ATTATTGGACAGTGACGATGGAGTGATTGCTGGCCCAGGCCGCCAGCACCACCACCACCAAGTCAACATGTCCGACATTTATGGGGTGGTGCCACGAAACCTGATCACAAATGGTGCAC,GTTATTGGACAGTGACGATGGAGTGGTTGCTGGCGCAGTCCGCCAGCACCACCACCACCAAGTCAACATGTCGGACATTTATGGGGTGGTGCCACAAAACCTGCTCACAAATGGCGCAC,GTTATTGGACAATGACGATGGGGTGGTTGCTGGTGCAGTCCGCCAGCACCACCACCACCAAGTCGACATGTCGGACATTTATGGGGTGGTGCCACGAAACCTGATCACAAATGGTGCAC,GTTATTGGACAATGACGATGGGGTGGTTGCTGGCCCAGTCCGCCAGCACCACCACCACCAAGTCAACATGTCCGACATTTATGGGGTGGTGCCACGAAACCTGATCACAAATGGTGCAC,ATTATTGGACAATGACGATGGGGTGATTGCTGGCCCAGGCCGCCAGCACCACCACCACCAAGTCGACATGTCCGACATTTATGGGGTGGTGCCACGAAACCTGATCACAAATGGTACAC,GTTATTGGACAGTGACGATGGGGTGATTGCTGGTGCAGGCCGCCAGCACCACCACCACCAAGTCGACATGTCGGACATTTATGGGGTGGTGCCACGAAACCTGATCACAAATGGTGCAC,ATTATTGGACAATGACGATGGAGTGGTTGCTGGCCCAGTCCGCCAGCACCACCACCACCAAGTCAACATGTCCGACATTTATGGGGTGGTGCCACGAAACCTGATCACAAATGGTGCAC,GTTATTGGACAGTGACGATGGAGTGGTTGCTGGTCCAGTCCGCCAGCACCACCACCACCAAGTCAACATGTCGGACATTTATGGGGTGGTGCCACGAAACCTGATCACAAATGGTGCAC,GTTATTGGACAATGACGATGGAGTGATTGCTGGCGCAGTCCGCCAGCACCACCACCACCAAGTCAACATGTCCGACATTTATGGGGTGGTGCCACGAAACCTGCTCACAAATGGTGCAC,ATTATTGGACAATGACGATGGAGTGATTGCTGGCGCAGTCCGCCAGCACCACCACCACCAAGTCAACATGTCCGACATTTATGGGGTGGTGCCACAAAACCTGATCACAAATGGTGCAC,GTTATTGGACAGTGACGATGGGGTGGTTGCTGGTCCAGGCCGCCAGCACCACCACCACCAAGTCGACATGTCGGACATTTATGGGGTGGTGCCACGAAACCTGATCACAAATGGTGCAC,ATTATTGGACAATGACGATGGAGTGATTGCTGGCGCAGTCCGCCAGCACCACCACCACCAAGTCAACATGTCCGACATTTATGGGGTGGTGCCACGAAACCTGATCACAAATGGTGCAC,GTTATTGGACAGTGACGATGGGGTGATTGCTGGTGCAGTCCGCCAGCACCACCACCACCAAGTCAACATGTCCGACATTTATGGGGTGGTGCCACGAAACCTGATCACAAATGGTGCAC,ATTATTGGACAGTGACGATGGGGTGATTGCTGGTCCAGGCCGCCAGCACCACCACCACCAAGTCAACATGTCGGACATTTATGGGGTGGTGCCACGAAACCTGATCACAAATGGTGCAC,GTTATTGGACAGTGACGATGGAGTGGTTGCTGGCCCAGTCCGCCAGCACCACCACCACCAAGTCGACATGTCGGACATTTATGGGGTGGTGCCACAAAACCTGCTCACAAATGGTGCAC,ATTATTGGACAGTGACGATGGAGTGGTTGCTGGCCCAGTCCGCCAGCACCACCACCACCAAGTCGACATGTCGGACATTTATGGGGTGGTGCCACGAAACCTGATCACAAATGGTGCAC,ATTATTGGACAGTGACGATGGAGTGGTTGCTGGCCCAGGCCGCCAGCACCACCACCACCAAGTCAACATGTCGGACATTTATGGGGTGGTGCCACGAAACCTGCTCACAAATGGCACAC,GTTATTGGACAATGACGATGGGGTGATTGCTGGTGCAGGCCGCCAGCACCACCACCACCAAGTCAACATGTCCGACATTTATGGGGTGGTGCCACGAAACCTGATCACAAATGGTGCAC,ATTATTGGACAGTGACGATGGGGTGATTGCTGGTGCAGGCCGCCAGCACCACCACCACCAAGTCAACATGTCGGACATTTATGGGGTGGTGCCACGAAACCTGATCACAAATGGTGCAC,GTTATTGGACAATGACGATGGAGTGGTTGCTGGCCCAGTCCGCCAGCACCACCACCACCAAGTCGACATGTCCGACATTTATGGGGTGGTGCCACGAAACCTGATCACAAATGGTGCAC,ATTATTGGACAGTGACGATGGAGTGGTTGCTGGCCCAGTCCGCCAGCACCACCACCACCAAGTCGACATGTCCGACATTTATGGGGTGGTGCCACAAAACCTGCTCACAAATGGTACAC,ATTATTGGACAATGACGATGGAGTGGTTGCTGGCGCAGGCCGCCAGCACCACCACCACCAAGTCGACATGTCCGACATTTATGGGGTGGTGCCACGAAACCTGATCACAAATGGTACAC,ATTATTGGACAATGACGATGGAGTGATTGCTGGCGCAGGCCGCCAGCACCACCACCACCAAGTCGACATGTCGGACATTTATGGGGTGGTGCCACAAAACCTGCTCACAAATGGTACAC,ATTATTGGACAATGACGATGGAGTGATTGCTGGTGCAGTCCGCCAGCACCACCACCACCAAGTCGACATGTCGGACATTTATGGGGTGGTGCCACAAAACCTGCTCACAAATGGTACAC,GTTATTGGACAGTGACGATGGGGTGGTTGCTGGCCCAGGCCGCCAGCACCACCACCACCAAGTCGACATGTCGGACATTTATGGGGTGGTGCCACAAAACCTGCTCACAAATGGTACAC,GTTATTGGACAGTGACGATGGAGTGGTTGCTGGCGCAGGCCGCCAGCACCACCACCACCAAGTCAACATGTCGGACATTTATGGGGTGGTGCCACAAAACCTGCTCACAAATGGTACAC,GTTATTGGACAATGACGATGGAGTGGTTGCTGGCCCAGGCCGCCAGCACCACCACCACCAAGTCGACATGTCGGACATTTATGGGGTGGTGCCACAAAACCTGCTCACAAATGGTACAC,ATTATTGGACAATGACGATGGGGTGATTGCTGGTCCAGGCCGCCAGCACCACCACCACCAAGTCAACATGTCGGACATTTATGGGGTGGTGCCACGAAACCTGATCACAAATGGTGCAC,GTTATTGGACAGTGACGATGGAGTGATTGCTGGCCCAGGCCGCCAGCACCACCACCACCAAGTCGACATGTCGGACATTTATGGGGTGGTGCCACAAAACCTGCTCACAAATGGTACAC,GTTATTGGACAGTGACGATGGAGTGGTTGCTGGTGCAGTCCGCCAGCACCACCACCACCAAGTCGACATGTCGGACATTTATGGGGTGGTGCCACAAAACCTGCTCACAAATGGTACAC,ATTATTGGACAATGACGATGGGGTGATTGCTGGCCCAGGCCGCCAGCACCACCACCACCAAGTCGACATGTCGGACATTTATGGGGTGGTGCCACAAAACCTGCTCACAAATGGTACAC,ATTATTGGACAATGACGATGGAGTGATTGCTGGCGCAGGCCGCCAGCACCACCACCACCAAGTCGACATGTCGGACATTTATGGGGTGGTGCCACGAAACCTGATCACAAATGGCGCAC,ATTATTGGACAGTGACGATGGAGTGGTTGCTGGCGCAGTCCGCCAGCACCACCACCACCAAGTCGACATGTCCGACATTTATGGGGTGGTGCCACGAAACCTGATCACAAATGGTGCAC,GTTATTGGACAGTGACGATGGGGTGGTTGCTGGTCCAGTCCGCCAGCACCACCACCACCAAGTCAACATGTCCGACATTTATGGGGTGGTGCCACAAAACCTGATCACAAATGGTACAC,ATTATTGGACAATGACGATGGGGTGGTTGCTGGTGCAGTCCGCCAGCACCACCACCACCAAGTCGACATGTCGGACATTTATGGGGTGGTGCCACAAAACCTGCTCACAAATGGTACAC,ATTATTGGACAATGACGATGGAGTGATTGCTGGTGCAGTCCGCCAGCACCACCACCACCAAGTCAACATGTCCGACATTTATGGGGTGGTGCCACGAAACCTGATCACAAATGGTGCAC,ATTATTGGACAATGACGATGGAGTGATTGCTGGTCCAGGCCGCCAGCACCACCACCACCAAGTCAACATGTCGGACATTTATGGGGTGGTGCCACGAAACCTGATCACAAATGGTGCAC,ATTATTGGACAGTGACGATGGAGTGATTGCTGGCCCAGGCCGCCAGCACCACCACCACCAAGTCGACATGTCCGACATTTATGGGGTGGTGCCACGAAACCTGATCACAAATGGTGCAC,GTTATTGGACAATGACGATGGAGTGGTTGCTGGTCCAGTCCGCCAGCACCACCACCACCAAGTCAACATGTCGGACATTTATGGGGTGGTGCCACGAAACCTGATCACAAATGGTGCAC,GTTATTGGACAATGACGATGGAGTGATTGCTGGTGCAGGCCGCCAGCACCACCACCACCAAGTCAACATGTCGGACATTTATGGGGTGGTGCCACGAAACCTGATCACAAATGGTGCAC,ATTATTGGACAGTGACGATGGGGTGGTTGCTGGCCCAGTCCGCCAGCACCACCACCACCAAGTCGACATGTCCGACATTTATGGGGTGGTGCCACGAAACCTGATCACAAATGGTGCAC,GTTATTGGACAGTGACGATGGGGTGGTTGCTGGCCCAGTCCGCCAGCACCACCACCACCAAGTCGACATGTCCGACATTTATGGGGTGGTGCCACGAAACCTGATCACAAATGGTGCAC,GTTATTGGACAATGACGATGGGGTGGTTGCTGGTGCAGTCCGCCAGCACCACCACCACCAAGTCGACATGTCCGACATTTATGGGGTGGTGCCACGAAACCTGATCACAAATGGTGCAC,ATTATTGGACAGTGACGATGGAGTGGTTGCTGGTCCAGTCCGCCAGCACCACCACCACCAAGTCGACATGTCCGACATTTATGGGGTGGTGCCACGAAACCTGATCACAAATGGTGCAC,GTTATTGGACAGTGACGATGGAGTGGTTGCTGGCCCAGGCCGCCAGCACCACCACCACCAAGTCGACATGTCGGACATTTATGGGGTGGTGCCACGAAACCTGCTCACAAATGGTACAC,GTTATTGGACAATGACGATGGGGTGATTGCTGGCGCAGGCCGCCAGCACCACCACCACCAAGTCAACATGTCGGACATTTATGGGGTGGTGCCACGAAACCTGATCACAAATGGTGCAC,GTTATTGGACAATGACGATGGAGTGGTTGCTGGTCCAGGCCGCCAGCACCACCACCACCAAGTCAACATGTCGGACATTTATGGGGTGGTGCCACAAAACCTGCTCACAAATGGTACAC,GTTATTGGACAGTGACGATGGGGTGGTTGCTGGTGCAGGCCGCCAGCACCACCACCACCAAGTCAACATGTCCGACATTTATGGGGTGGTGCCACAAAACCTGATCACAAATGGTGCAC,ATTATTGGACAATGACGATGGGGTGGTTGCTGGTGCAGGCCGCCAGCACCACCACCACCAAGTCAACATGTCCGACATTTATGGGGTGGTGCCACAAAACCTGATCACAAATGGTGCAC,GTTATTGGACAGTGACGATGGAGTGATTGCTGGCCCAGTCCGCCAGCACCACCACCACCAAGTCGACATGTCGGACATTTATGGGGTGGTGCCACGAAACCTGCTCACAAATGGTACAC,GTTATTGGACAATGACGATGGGGTGATTGCTGGTGCAGTCCGCCAGCACCACCACCACCAAGTCGACATGTCCGACATTTATGGGGTGGTGCCACAAAACCTGCTCACAAATGGTACAC,GTTATTGGACAATGACGATGGAGTGATTGCTGGCCCAGTCCGCCAGCACCACCACCACCAAGTCGACATGTCGGACATTTATGGGGTGGTGCCACAAAACCTGATCACAAATGGTACAC,ATTATTGGACAGTGACGATGGAGTGGTTGCTGGCCCAGGCCGCCAGCACCACCACCACCAAGTCGACATGTCCGACATTTATGGGGTGGTGCCACAAAACCTGCTCACAAATGGTACAC,ATTATTGGACAATGACGATGGAGTGATTGCTGGCCCAGTCCGCCAGCACCACCACCACCAAGTCGACATGTCGGACATTTATGGGGTGGTGCCACAAAACCTGCTCACAAATGGTACAC,GTTATTGGACAATGACGATGGAGTGATTGCTGGCCCAGTCCGCCAGCACCACCACCACCAAGTCAACATGTCGGACATTTATGGGGTGGTGCCACAAAACCTGCTCACAAATGGTACAC,GTTATTGGACAATGACGATGGGGTGATTGCTGGTGCAGTCCGCCAGCACCACCACCACCAAGTCGACATGTCGGACATTTATGGGGTGGTGCCACAAAACCTGCTCACAAATGGTACAC,ATTATTGGACAGTGACGATGGAGTGGTTGCTGGCCCAGGCCGCCAGCACCACCACCACCAAGTCAACATGTCCGACATTTATGGGGTGGTGCCACAAAACCTGATCACAAATGGTACAC,GTTATTGGACAATGACGATGGGGTGATTGCTGGTGCAGTCCGCCAGCACCACCACCACCAAGTCGACATGTCGGACATTTATGGGGTGGTGCCACGAAACCTGCTCACAAATGGTACAC,ATTATTGGACAATGACGATGGAGTGATTGCTGGTGCAGTCCGCCAGCACCACCACCACCAAGTCGACATGTCCGACATTTATGGGGTGGTGCCACAAAACCTGCTCACAAATGGTACAC,GTTATTGGACAATGACGATGGGGTGGTTGCTGGCCCAGGCCGCCAGCACCACCACCACCAAGTCAACATGTCGGACATTTATGGGGTGGTGCCACAAAACCTGCTCACAAATGGTACAC,GTTATTGGACAATGACGATGGGGTGGTTGCTGGCCCAGGCCGCCAGCACCACCACCACCAAGTCGACATGTCCGACATTTATGGGGTGGTGCCACAAAACCTGCTCACAAATGGTACAC,ATTATTGGACAGTGACGATGGAGTGGTTGCTGGTCCAGGCCGCCAGCACCACCACCACCAAGTCAACATGTCGGACATTTATGGGGTGGTGCCACAAAACCTGCTCACAAATGGTACAC,GTTATTGGACAGTGACGATGGGGTGATTGCTGGCGCAGTCCGCCAGCACCACCACCACCAAGTCAACATGTCGGACATTTATGGGGTGGTGCCACAAAACCTGATCACAAATGGTACAC,ATTATTGGACAGTGACGATGGAGTGGTTGCTGGCCCAGGCCGCCAGCACCACCACCACCAAGTCAACATGTCGGACATTTATGGGGTGGTGCCACAAAACCTGCTCACAAATGGTACAC,GTTATTGGACAATGACGATGGAGTGGTTGCTGGTCCAGGCCGCCAGCACCACCACCACCAAGTCGACATGTCGGACATTTATGGGGTGGTGCCACAAAACCTGCTCACAAATGGTACAC,GTTATTGGACAATGACGATGGGGTGGTTGCTGGTCCAGGCCGCCAGCACCACCACCACCAAGTCAACATGTCCGACATTTATGGGGTGGTGCCACAAAACCTGATCACAAATGGTACAC,GTTATTGGACAGTGACGATGGGGTGATTGCTGGTGCAGGCCGCCAGCACCACCACCACCAAGTCGACATGTCCGACATTTATGGGGTGGTGCCACAAAACCTGCTCACAAATGGCACAC,GTTATTGGACAGTGACGATGGGGTGATTGCTGGCCCAGGCCGCCAGCACCACCACCACCAAGTCGACATGTCCGACATTTATGGGGTGGTGCCACAAAACCTGCTCACAAATGGTACAC,ATTATTGGACAGTGACGATGGAGTGATTGCTGGCGCAGGCCGCCAGCACCACCACCACCAAGTCAACATGTCGGACATTTATGGGGTGGTGCCACGAAACCTGCTCACAAATGGTACAC,GTTATTGGACAGTGACGATGGGGTGGTTGCTGGCCCAGTCCGCCAGCACCACCACCACCAAGTCGACATGTCGGACATTTATGGGGTGGTGCCACAAAACCTGATCACAAATGGTGCAC,ATTATTGGACAGTGACGATGGAGTGGTTGCTGGCCCAGGCCGCCAGCACCACCACCACCAAGTCGACATGTCGGACATTTATGGGGTGGTGCCACAAAACCTGCTCACAAATGGCACAC,GTTATTGGACAGTGACGATGGAGTGATTGCTGGCGCAGGCCGCCAGCACCACCACCACCAAGTCAACATGTCCGACATTTATGGGGTGGTGCCACAAAACCTGCTCACAAATGGCGCAC,ATTATTGGACAATGACGATGGGGTGGTTGCTGGTCCAGTCCGCCAGCACCACCACCACCAAGTCGACATGTCGGACATTTATGGGGTGGTGCCACGAAACCTGATCACAAATGGTACAC,ATTATTGGACAATGACGATGGGGTGGTTGCTGGTCCAGTCCGCCAGCACCACCACCACCAAGTCGACATGTCGGACATTTATGGGGTGGTGCCACGAAACCTGATCACAAATGGTGCAC,GTTATTGGACAATGACGATGGAGTGATTGCTGGCGCAGGCCGCCAGCACCACCACCACCAAGTCAACATGTCCGACATTTATGGGGTGGTGCCACGAAACCTGATCACAAATGGTGCAC,ATTATTGGACAATGACGATGGGGTGGTTGCTGGTCCAGTCCGCCAGCACCACCACCACCAAGTCGACATGTCCGACATTTATGGGGTGGTGCCACGAAACCTGATCACAAATGGTGCAC,GTTATTGGACAGTGACGATGGAGTGATTGCTGGCGCAGGCCGCCAGCACCACCACCACCAAGTCAACATGTCGGACATTTATGGGGTGGTGCCACGAAACCTGATCACAAATGGTACAC,ATTATTGGACAATGACGATGGAGTGATTGCTGGTCCAGTCCGCCAGCACCACCACCACCAAGTCGACATGTCCGACATTTATGGGGTGGTGCCACAAAACCTGCTCACAAATGGCGCAC,GTTATTGGACAATGACGATGGGGTGATTGCTGGTGCAGTCCGCCAGCACCACCACCACCAAGTCGACATGTCCGACATTTATGGGGTGGTGCCACAAAACCTGATCACAAATGGTGCAC,ATTATTGGACAATGACGATGGGGTGATTGCTGGTGCAGGCCGCCAGCACCACCACCACCAAGTCAACATGTCCGACATTTATGGGGTGGTGCCACGAAACCTGATCACAAATGGCACAC,GTTATTGGACAATGACGATGGGGTGATTGCTGGCGCAGGCCGCCAGCACCACCACCACCAAGTCGACATGTCGGACATTTATGGGGTGGTGCCACGAAACCTGATCACAAATGGTGCAC,GTTATTGGACAGTGACGATGGAGTGGTTGCTGGCCCAGTCCGCCAGCACCACCACCACCAAGTCGACATGTCGGACATTTATGGGGTGGTGCCACGAAACCTGATCACAAATGGTGCAC,ATTATTGGACAGTGACGATGGGGTGGTTGCTGGCCCAGGCCGCCAGCACCACCACCACCAAGTCGACATGTCGGACATTTATGGGGTGGTGCCACGAAACCTGATCACAAATGGTGCAC,GTTATTGGACAGTGACGATGGGGTGGTTGCTGGCCCAGGCCGCCAGCACCACCACCACCAAGTCGACATGTCGGACATTTATGGGGTGGTGCCACGAAACCTGATCACAAATGGTGCAC,ATTATTGGACAGTGACGATGGGGTGATTGCTGGTCCAGGCCGCCAGCACCACCACCACCAAGTCAACATGTCCGACATTTATGGGGTGGTGCCACGAAACCTGATCACAAATGGTGCAC,ATTATTGGACAGTGACGATGGAGTGATTGCTGGCGCAGTCCGCCAGCACCACCACCACCAAGTCAACATGTCGGACATTTATGGGGTGGTGCCACGAAACCTGATCACAAATGGTGCAC,GTTATTGGACAGTGACGATGGGGTGATTGCTGGCCCAGTCCGCCAGCACCACCACCACCAAGTCAACATGTCGGACATTTATGGGGTGGTGCCACAAAACCTGCTCACAAATGGCACAC,ATTATTGGACAGTGACGATGGGGTGGTTGCTGGTCCAGTCCGCCAGCACCACCACCACCAAGTCAACATGTCCGACATTTATGGGGTGGTGCCACGAAACCTGATCACAAATGGTGCAC,ATTATTGGACAGTGACGATGGAGTGATTGCTGGTCCAGTCCGCCAGCACCACCACCACCAAGTCAACATGTCCGACATTTATGGGGTGGTGCCACGAAACCTGATCACAAATGGTGCAC,GTTATTGGACAATGACGATGGGGTGGTTGCTGGCGCAGGCCGCCAGCACCACCACCACCAAGTCGACATGTCGGACATTTATGGGGTGGTGCCACGAAACCTGATCACAAATGGTGCAC,GTTATTGGACAATGACGATGGAGTGGTTGCTGGCCCAGTCCGCCAGCACCACCACCACCAAGTCGACATGTCGGACATTTATGGGGTGGTGCCACGAAACCTGATCACAAATGGTGCAC,ATTATTGGACAATGACGATGGGGTGGTTGCTGGCCCAGTCCGCCAGCACCACCACCACCAAGTCAACATGTCGGACATTTATGGGGTGGTGCCACGAAACCTGCTCACAAATGGCGCAC\t.\tPASS\tAN=88;AC=22,12,0,0,0,0,0,0,0,0,0,0,0,0,0,0,0,0,0,0,0,0,0,0,0,0,0,0,0,0,0,0,0,0,0,0,0,0,0,0,0,0,0,0,0,0,0,0,0,0,0,0,0,0,0,0,0,0,0,0,0,0,0,0,0,0,0,0,0,0,0,0,0,0,0,0,0,0,0,0,0,0,0,0,0,0,0,0,0,0,0,0,0,0,0,0,0,0,0,0,0,0,0,0,0,0,0,0,0,0,0,0,0,0,0,0,0,0,0,0,0,0,0,0,0,0,0,0,0,0,0,0,0,0,0,0,0,0,0,0,0,0,0,0,0,0,0,0,0,0,0,0,0,0,0,0,0,0,0,0,0,0,0,0,0,0,0,0,0,0,0,0,0,0,0,0,0,0,0,0,0,0,0,0,0,0,0,0,0,0,0,0,0,0,0,0,0,0,0,0,0,0,0,0,0,0,0,0,0,0,0,0,0,0,0,0,0,0,0,0,0,0,0,0,0,0,0,0,0,0,0,0,0,0,0,0,0,0,0,0,0,0,0,0,0,0,0,0,0,0,0,0,0,0,0,0,0,0,0,0,0,0,0,0,0,0,0,0,0,0,0,0,0,0,0,0,0,0,0,0,0,0,0,0,0,0,0,0,0,0,0,0,0,0,0,0,0,0,0,0,0,0,0,0,0,0,0,0,0,0,0,0,0,0,0,0,0,0,0,0,0,0,0,0,0,0,0,0,0,0,0,0,0,0,0,0,0,0,0,0,0,0,0,0,0,0,0,0,0,0,0,0,0,0,0,0,0,0,0,0,0,0,0,0,0,0,0,0,0,0,0,0,0,0,0,0,0,0,0,0,0,0,0,0,0,0,0,0,0,0,0,0,0,0,0,0,0,0,0,0,0,0,0,0,0,0,0,0,0,0,0,0,0,0,0,0,0,0,0,0,0,0,0,0,0,0,0,0,0,0,0,0,0,0,0,0,0,0,0,0,0,0,0,0,0,0,0,0,0,0,0,0,0,0,0,0,0,0,0,0,0,0,0,0,0,0,0,0,0,0,0,0,0,0,0,0,0,0,0,0,0,0,0,0,0,0,0,0,0,0,0,0,0,0,0,0,0,0,0,0,0,0,0,0,0,0,0,0,0,0,0,0,0,0,0,0,0,0,0,0,0,0,0,0,0,0,0,0,0,0,0,0,0,0,0,0,0,0,0,0,0,0,0,0,0,0,0,0,0,0,0,0,0,0,0,0,0,0,0,0,0,0,0,0,0,0,0,0,0,0,0,0,0,0,0,0,0,0,0,0,0,0,0,0,0,0,0,0,0,0,0,0;NS=22;DP=619;RCOUNT=847;END=17709;NVAR=13;SNVPOS=1,12,22,26,34,35,39,65,73,96,104,115,116;AFP=0.602,0.244,0.137,0.006,0,0,0,0,0,0,0,0,0,0,0,0,0,0,0,0,0,0,0,0,0,0,0,0,0,0,0,0,0,0,0,0,0,0,0,0,0,0,0,0,0,0,0,0,0,0,0,0,0,0,0,0,0,0,0,0,0,0,0,0,0,0,0,0,0,0,0,0,0,0,0,0,0,0,0,0,0,0,0,0,0,0,0,0,0,0,0,0,0,0,0,0,0,0,0,0,0,0,0,0,0,0,0,0,0,0,0,0,0,0,0,0,0,0,0,0,0,0,0,0,0,0,0,0,0,0,0,0,0,0,0,0,0,0,0,0,0,0,0,0,0,0,0,0,0,0,0,0,0,0,0,0,0,0,0,0,0,0,0,0,0,0,0,0,0,0,0,0,0,0,0,0,0,0,0,0,0,0,0,0,0,0,0,0,0,0,0,0,0,0,0,0,0,0,0,0,0,0,0,0,0,0,0,0,0,0,0,0,0,0,0,0,0,0,0,0,0,0,0,0,0,0,0,0,0,0,0,0,0,0,0,0,0,0,0,0,0,0,0,0,0,0,0,0,0,0,0,0,0,0,0,0,0,0,0,0,0,0,0,0,0,0,0,0,0,0,0,0,0,0,0,0,0,0,0,0,0,0,0,0,0,0,0,0,0,0,0,0,0,0,0,0,0,0,0,0,0,0,0,0,0,0,0,0,0,0,0,0,0,0,0,0,0,0,0,0,0,0,0,0,0,0,0,0,0,0,0,0,0,0,0,0,0,0,0,0,0,0,0,0,0,0,0,0,0,0,0,0,0,0,0,0,0,0,0,0,0,0,0,0,0,0,0,0,0,0,0,0,0,0,0,0,0,0,0,0,0,0,0,0,0,0,0,0,0,0,0,0,0,0,0,0,0,0,0,0,0,0,0,0,0,0,0,0,0,0,0,0,0,0,0,0,0,0,0,0,0,0,0,0,0,0,0,0,0,0,0,0,0,0,0,0,0,0,0,0,0,0,0,0,0,0,0,0,0,0,0,0,0,0,0,0,0,0,0,0,0,0,0,0,0,0,0,0,0,0,0,0,0,0,0,0,0,0,0,0,0,0,0,0,0,0,0,0,0,0,0,0,0,0,0,0,0,0,0,0,0,0,0,0,0,0,0,0,0,0,0,0,0,0,0,0,0,0,0,0,0,0,0,0,0,0,0,0,0,0,0,0,0,0,0,0,0,0,0,0,0,0,0,0,0,0,0,0,0,0,0,0,0,0,0,0,0,0,0,0,0,0,0,0,0,0,0,0,0,0,0,0,0,0,0,0,0,0,0,0,0,0,0,0,0,0,0,0,0,0,0,0,0\tGT:GQ:PHQ:DP:RCOUNT:RCALLS:MEC:MECP:GPM:PHPM:MCI:AFP\t0/0/1/2:28:28:30:43:383:2:0.005:0.998:0.998:0:0.5,0.25,0.25,0,0,0,0,0,0,0,0,0,0,0,0,0,0,0,0,0,0,0,0,0,0,0,0,0,0,0,0,0,0,0,0,0,0,0,0,0,0,0,0,0,0,0,0,0,0,0,0,0,0,0,0,0,0,0,0,0,0,0,0,0,0,0,0,0,0,0,0,0,0,0,0,0,0,0,0,0,0,0,0,0,0,0,0,0,0,0,0,0,0,0,0,0,0,0,0,0,0,0,0,0,0,0,0,0,0,0,0,0,0,0,0,0,0,0,0,0,0,0,0,0,0,0,0,0,0,0,0,0,0,0,0,0,0,0,0,0,0,0,0,0,0,0,0,0,0,0,0,0,0,0,0,0,0,0,0,0,0,0,0,0,0,0,0,0,0,0,0,0,0,0,0,0,0,0,0,0,0,0,0,0,0,0,0,0,0,0,0,0,0,0,0,0,0,0,0,0,0,0,0,0,0,0,0,0,0,0,0,0,0,0,0,0,0,0,0,0,0,0,0,0,0,0,0,0,0,0,0,0,0,0,0,0,0,0,0,0,0,0,0,0,0,0,0,0,0,0,0,0,0,0,0,0,0,0,0,0,0,0,0,0,0,0,0,0,0,0,0,0,0,0,0,0,0,0,0,0,0,0,0,0,0,0,0,0,0,0,0,0,0,0,0,0,0,0,0,0,0,0,0,0,0,0,0,0,0,0,0,0,0,0,0,0,0,0,0,0,0,0,0,0,0,0,0,0,0,0,0,0,0,0,0,0,0,0,0,0,0,0,0,0,0,0,0,0,0,0,0,0,0,0,0,0,0,0,0,0,0,0,0,0,0,0,0,0,0,0,0,0,0,0,0,0,0,0,0,0,0,0,0,0,0,0,0,0,0,0,0,0,0,0,0,0,0,0,0,0,0,0,0,0,0,0,0,0,0,0,0,0,0,0,0,0,0,0,0,0,0,0,0,0,0,0,0,0,0,0,0,0,0,0,0,0,0,0,0,0,0,0,0,0,0,0,0,0,0,0,0,0,0,0,0,0,0,0,0,0,0,0,0,0,0,0,0,0,0,0,0,0,0,0,0,0,0,0,0,0,0,0,0,0,0,0,0,0,0,0,0,0,0,0,0,0,0,0,0,0,0,0,0,0,0,0,0,0,0,0,0,0,0,0,0,0,0,0,0,0,0,0,0,0,0,0,0,0,0,0,0,0,0,0,0,0,0,0,0,0,0,0,0,0,0,0,0,0,0,0,0,0,0,0,0,0,0,0,0,0,0,0,0,0,0,0,0,0,0,0,0,0,0,0,0,0,0,0,0,0,0,0,0,0,0,0,0,0,0,0,0,0,0\t0/0/0/1:3:3:22:28:280:2:0.007:0.48:0.48:0:0.62,0.25,0,0,0,0,0,0,0,0.003,0.003,0,0.003,0.003,0.003,0.002,0.002,0.002,0.002,0.002,0.002,0,0,0.002,0.002,0.002,0.002,0,0.002,0.001,0.001,0.001,0.001,0,0.001,0,0,0,0.001,0.001,0.001,0.001,0.001,0.001,0.001,0.001,0,0.001,0.001,0.001,0.001,0,0.001,0,0.001,0.001,0,0.001,0.001,0.001,0.001,0.001,0,0,0,0.001,0,0,0,0,0.001,0.001,0.001,0.001,0.001,0.001,0.001,0.001,0.001,0.001,0.001,0.001,0.001,0.001,0.001,0.001,0,0.001,0,0,0,0,0,0,0,0,0,0,0,0,0.001,0.001,0.001,0.001,0.001,0.001,0.001,0.001,0.001,0.001,0.001,0.001,0.001,0,0,0.001,0.001,0.001,0,0,0,0,0,0,0,0,0,0,0,0,0,0,0,0,0,0,0,0,0,0,0,0,0,0,0,0,0,0,0,0,0,0,0,0,0,0,0,0,0,0,0,0,0,0,0,0,0,0,0,0,0,0,0,0,0,0,0,0,0,0,0,0,0,0,0,0,0,0,0,0,0,0,0,0,0,0,0,0,0,0,0,0,0,0,0,0,0,0,0,0,0,0,0,0,0,0,0,0,0,0,0,0,0,0,0,0,0,0,0,0,0,0,0,0,0,0,0,0,0,0,0,0,0,0,0,0,0,0,0,0,0,0,0,0,0,0,0,0,0,0,0,0,0,0,0,0,0,0,0,0,0,0,0,0,0,0,0,0,0,0,0,0,0,0,0,0,0,0,0,0,0,0,0,0,0,0,0,0,0,0,0,0,0,0,0,0,0,0,0,0,0,0,0,0,0,0,0,0,0,0,0,0,0,0,0,0,0,0,0,0,0,0,0,0,0,0,0,0,0,0,0,0,0,0,0,0,0,0,0,0,0,0,0,0,0,0,0,0,0,0,0,0,0,0,0,0,0,0,0,0,0,0,0,0,0,0,0,0,0,0,0,0,0,0,0,0,0,0,0,0,0,0,0,0,0,0,0,0,0,0,0,0,0,0,0,0,0,0,0,0,0,0,0,0,0,0,0,0,0,0,0,0,0,0,0,0,0,0,0,0,0,0,0,0,0,0,0,0,0,0,0,0,0,0,0,0,0,0,0,0,0,0,0,0,0,0,0,0,0,0,0,0,0,0,0,0,0,0,0,0,0,0,0,0,0,0,0,0,0,0,0,0,0,0,0,0,0,0,0,0,0,0,0,0,0,0,0,0,0,0,0,0,0,0,0,0,0,0,0,0,0,0,0,0,0,0,0,0,0,0,0,0,0,0,0,0,0,0,0,0,0,0,0,0,0,0,0,0,0,0,0,0,0,0,0,0,0,0,0,0,0,0,0,0,0,0,0,0,0,0,0,0,0,0,0,0,0,0,0,0,0,0,0,0,0,0,0,0,0,0,0,0,0,0,0,0,0,0,0,0,0,0,0\t0/0/1/2:60:60:31:41:401:1:0.002:1:1:0:0.5,0.25,0.25,0,0,0,0,0,0,0,0,0,0,0,0,0,0,0,0,0,0,0,0,0,0,0,0,0,0,0,0,0,0,0,0,0,0,0,0,0,0,0,0,0,0,0,0,0,0,0,0,0,0,0,0,0,0,0,0,0,0,0,0,0,0,0,0,0,0,0,0,0,0,0,0,0,0,0,0,0,0,0,0,0,0,0,0,0,0,0,0,0,0,0,0,0,0,0,0,0,0,0,0,0,0,0,0,0,0,0,0,0,0,0,0,0,0,0,0,0,0,0,0,0,0,0,0,0,0,0,0,0,0,0,0,0,0,0,0,0,0,0,0,0,0,0,0,0,0,0,0,0,0,0,0,0,0,0,0,0,0,0,0,0,0,0,0,0,0,0,0,0,0,0,0,0,0,0,0,0,0,0,0,0,0,0,0,0,0,0,0,0,0,0,0,0,0,0,0,0,0,0,0,0,0,0,0,0,0,0,0,0,0,0,0,0,0,0,0,0,0,0,0,0,0,0,0,0,0,0,0,0,0,0,0,0,0,0,0,0,0,0,0,0,0,0,0,0,0,0,0,0,0,0,0,0,0,0,0,0,0,0,0,0,0,0,0,0,0,0,0,0,0,0,0,0,0,0,0,0,0,0,0,0,0,0,0,0,0,0,0,0,0,0,0,0,0,0,0,0,0,0,0,0,0,0,0,0,0,0,0,0,0,0,0,0,0,0,0,0,0,0,0,0,0,0,0,0,0,0,0,0,0,0,0,0,0,0,0,0,0,0,0,0,0,0,0,0,0,0,0,0,0,0,0,0,0,0,0,0,0,0,0,0,0,0,0,0,0,0,0,0,0,0,0,0,0,0,0,0,0,0,0,0,0,0,0,0,0,0,0,0,0,0,0,0,0,0,0,0,0,0,0,0,0,0,0,0,0,0,0,0,0,0,0,0,0,0,0,0,0,0,0,0,0,0,0,0,0,0,0,0,0,0,0,0,0,0,0,0,0,0,0,0,0,0,0,0,0,0,0,0,0,0,0,0,0,0,0,0,0,0,0,0,0,0,0,0,0,0,0,0,0,0,0,0,0,0,0,0,0,0,0,0,0,0,0,0,0,0,0,0,0,0,0,0,0,0,0,0,0,0,0,0,0,0,0,0,0,0,0,0,0,0,0,0,0,0,0,0,0,0,0,0,0,0,0,0,0,0,0,0,0,0,0,0,0,0,0,0,0,0,0,0,0,0,0,0,0,0,0,0,0,0,0,0,0,0,0,0,0,0,0,0,0,0,0,0,0,0,0,0,0,0,0,0,0,0,0,0,0,0,0,0,0,0,0,0,0,0,0,0,0\t0/0/1/2:6:6:14:26:176:0:0:0.752:0.761:0:0.438,0.251,0.252,0,0,0,0,0,0,0,0,0,0,0,0,0,0,0,0,0,0,0,0.002,0,0,0,0,0.001,0,0,0,0,0,0.001,0,0.001,0.001,0.001,0,0,0,0,0,0,0,0,0.001,0,0,0,0,0.001,0,0.001,0,0,0.001,0,0,0,0,0,0,0.001,0,0,0.001,0.001,0.001,0.001,0,0,0,0,0,0,0,0,0,0,0,0,0,0,0,0,0,0,0.001,0.001,0.001,0.001,0.001,0,0.001,0,0,0,0,0.001,0,0,0,0,0,0,0,0,0,0,0,0,0,0,0,0,0,0,0,0,0,0,0,0,0,0,0,0,0,0,0,0,0,0,0,0,0,0,0,0,0,0,0,0,0,0,0,0,0,0,0,0,0,0,0,0,0,0,0,0,0,0,0,0,0,0,0,0,0,0,0,0,0,0,0,0,0,0,0,0,0,0,0,0,0,0,0,0,0,0,0,0,0,0,0,0,0,0,0,0,0,0,0,0,0,0,0,0,0,0,0,0,0,0,0,0,0,0,0,0,0,0,0,0,0,0,0,0,0,0,0,0,0,0,0,0,0,0,0,0,0,0,0,0,0,0,0,0,0,0,0,0,0,0,0,0,0,0,0,0,0,0,0,0,0,0,0,0,0,0,0,0,0,0,0,0,0,0,0,0,0,0,0,0,0,0,0,0,0,0,0,0,0,0,0,0,0,0,0,0,0,0,0,0,0,0,0,0,0,0,0,0,0,0,0,0,0,0,0,0,0,0,0,0,0,0,0,0,0,0,0,0,0,0,0,0,0,0,0,0,0,0,0,0,0,0,0,0,0,0,0,0,0,0,0,0,0,0,0,0,0,0,0,0,0,0,0,0,0,0,0,0,0,0,0,0,0,0,0,0,0,0,0,0,0,0,0,0,0,0,0,0,0,0,0,0,0,0,0,0,0,0,0,0,0,0,0,0,0,0,0,0,0,0,0,0,0,0,0,0,0,0,0,0,0,0,0,0,0,0,0,0,0,0,0,0,0,0,0,0,0,0,0,0,0,0,0,0,0,0,0,0,0,0,0,0,0,0,0,0,0,0,0,0,0,0,0,0,0,0,0,0,0,0,0,0,0,0,0,0,0,0,0,0,0,0,0,0,0,0,0,0,0,0,0,0,0,0,0,0,0,0,0,0,0,0,0,0,0,0,0,0,0,0,0,0,0,0,0,0,0,0,0,0,0,0,0,0,0,0,0,0,0,0,0,0,0,0,0,0,0,0,0,0,0,0,0,0,0,0,0,0,0,0,0,0,0,0,0,0,0,0,0,0,0,0,0,0,0,0,0,0,0,0,0,0,0,0,0,0,0,0,0,0,0,0,0,0,0,0,0,0,0\t0/0/1/2:17:18:25:31:320:0:0:0.982:0.983:0:0.5,0.25,0.246,0,0,0,0,0,0.003,0,0,0,0,0,0,0,0,0,0,0,0,0,0,0,0,0,0,0,0,0,0,0,0,0,0,0,0,0,0,0,0,0,0,0,0,0,0,0,0,0,0,0,0,0,0,0,0,0,0,0,0,0,0,0,0.001,0,0,0,0,0,0,0,0,0,0,0,0,0,0,0,0,0,0,0,0,0,0,0,0,0,0,0,0,0,0,0,0,0,0,0,0,0,0,0,0,0,0,0,0,0,0,0,0,0,0,0,0,0,0,0,0,0,0,0,0,0,0,0,0,0,0,0,0,0,0,0,0,0,0,0,0,0,0,0,0,0,0,0,0,0,0,0,0,0,0,0,0,0,0,0,0,0,0,0,0,0,0,0,0,0,0,0,0,0,0,0,0,0,0,0,0,0,0,0,0,0,0,0,0,0,0,0,0,0,0,0,0,0,0,0,0,0,0,0,0,0,0,0,0,0,0,0,0,0,0,0,0,0,0,0,0,0,0,0,0,0,0,0,0,0,0,0,0,0,0,0,0,0,0,0,0,0,0,0,0,0,0,0,0,0,0,0,0,0,0,0,0,0,0,0,0,0,0,0,0,0,0,0,0,0,0,0,0,0,0,0,0,0,0,0,0,0,0,0,0,0,0,0,0,0,0,0,0,0,0,0,0,0,0,0,0,0,0,0,0,0,0,0,0,0,0,0,0,0,0,0,0,0,0,0,0,0,0,0,0,0,0,0,0,0,0,0,0,0,0,0,0,0,0,0,0,0,0,0,0,0,0,0,0,0,0,0,0,0,0,0,0,0,0,0,0,0,0,0,0,0,0,0,0,0,0,0,0,0,0,0,0,0,0,0,0,0,0,0,0,0,0,0,0,0,0,0,0,0,0,0,0,0,0,0,0,0,0,0,0,0,0,0,0,0,0,0,0,0,0,0,0,0,0,0,0,0,0,0,0,0,0,0,0,0,0,0,0,0,0,0,0,0,0,0,0,0,0,0,0,0,0,0,0,0,0,0,0,0,0,0,0,0,0,0,0,0,0,0,0,0,0,0,0,0,0,0,0,0,0,0,0,0,0,0,0,0,0,0,0,0,0,0,0,0,0,0,0,0,0,0,0,0,0,0,0,0,0,0,0,0,0,0,0,0,0,0,0,0,0,0,0,0,0,0,0,0,0,0,0,0,0,0,0,0,0,0,0,0,0,0,0,0,0,0,0,0,0,0,0,0,0,0,0,0,0,0,0,0,0,0,0,0,0,0,0,0,0,0,0,0,0,0,0,0,0,0,0,0,0,0,0,0,0,0,0,0,0,0,0,0,0,0,0,0,0,0,0\t0/0/1/2:60:60:31:46:408:0:0:1:1:0:0.5,0.25,0.25,0,0,0,0,0,0,0,0,0,0,0,0,0,0,0,0,0,0,0,0,0,0,0,0,0,0,0,0,0,0,0,0,0,0,0,0,0,0,0,0,0,0,0,0,0,0,0,0,0,0,0,0,0,0,0,0,0,0,0,0,0,0,0,0,0,0,0,0,0,0,0,0,0,0,0,0,0,0,0,0,0,0,0,0,0,0,0,0,0,0,0,0,0,0,0,0,0,0,0,0,0,0,0,0,0,0,0,0,0,0,0,0,0,0,0,0,0,0,0,0,0,0,0,0,0,0,0,0,0,0,0,0,0,0,0,0,0,0,0,0,0,0,0,0,0,0,0,0,0,0,0,0,0,0,0,0,0,0,0,0,0,0,0,0,0,0,0,0,0,0,0,0,0,0,0,0,0,0,0,0,0,0,0,0,0,0,0,0,0,0,0,0,0,0,0,0,0,0,0,0,0,0,0,0,0,0,0,0,0,0,0,0,0,0,0,0,0,0,0,0,0,0,0,0,0,0,0,0,0,0,0,0,0,0,0,0,0,0,0,0,0,0,0,0,0,0,0,0,0,0,0,0,0,0,0,0,0,0,0,0,0,0,0,0,0,0,0,0,0,0,0,0,0,0,0,0,0,0,0,0,0,0,0,0,0,0,0,0,0,0,0,0,0,0,0,0,0,0,0,0,0,0,0,0,0,0,0,0,0,0,0,0,0,0,0,0,0,0,0,0,0,0,0,0,0,0,0,0,0,0,0,0,0,0,0,0,0,0,0,0,0,0,0,0,0,0,0,0,0,0,0,0,0,0,0,0,0,0,0,0,0,0,0,0,0,0,0,0,0,0,0,0,0,0,0,0,0,0,0,0,0,0,0,0,0,0,0,0,0,0,0,0,0,0,0,0,0,0,0,0,0,0,0,0,0,0,0,0,0,0,0,0,0,0,0,0,0,0,0,0,0,0,0,0,0,0,0,0,0,0,0,0,0,0,0,0,0,0,0,0,0,0,0,0,0,0,0,0,0,0,0,0,0,0,0,0,0,0,0,0,0,0,0,0,0,0,0,0,0,0,0,0,0,0,0,0,0,0,0,0,0,0,0,0,0,0,0,0,0,0,0,0,0,0,0,0,0,0,0,0,0,0,0,0,0,0,0,0,0,0,0,0,0,0,0,0,0,0,0,0,0,0,0,0,0,0,0,0,0,0,0,0,0,0,0,0,0,0,0,0,0,0,0,0,0,0,0,0,0,0,0,0,0,0,0,0,0,0,0,0,0,0,0,0,0,0,0,0,0,0,0,0,0,0,0,0,0,0,0,0,0,0,0,0,0,0,0,0,0,0\t0/0/0/1:28:28:22:33:291:0:0:0.998:0.998:0:0.75,0.25,0,0,0,0,0,0,0,0,0,0,0,0,0,0,0,0,0,0,0,0,0,0,0,0,0,0,0,0,0,0,0,0,0,0,0,0,0,0,0,0,0,0,0,0,0,0,0,0,0,0,0,0,0,0,0,0,0,0,0,0,0,0,0,0,0,0,0,0,0,0,0,0,0,0,0,0,0,0,0,0,0,0,0,0,0,0,0,0,0,0,0,0,0,0,0,0,0,0,0,0,0,0,0,0,0,0,0,0,0,0,0,0,0,0,0,0,0,0,0,0,0,0,0,0,0,0,0,0,0,0,0,0,0,0,0,0,0,0,0,0,0,0,0,0,0,0,0,0,0,0,0,0,0,0,0,0,0,0,0,0,0,0,0,0,0,0,0,0,0,0,0,0,0,0,0,0,0,0,0,0,0,0,0,0,0,0,0,0,0,0,0,0,0,0,0,0,0,0,0,0,0,0,0,0,0,0,0,0,0,0,0,0,0,0,0,0,0,0,0,0,0,0,0,0,0,0,0,0,0,0,0,0,0,0,0,0,0,0,0,0,0,0,0,0,0,0,0,0,0,0,0,0,0,0,0,0,0,0,0,0,0,0,0,0,0,0,0,0,0,0,0,0,0,0,0,0,0,0,0,0,0,0,0,0,0,0,0,0,0,0,0,0,0,0,0,0,0,0,0,0,0,0,0,0,0,0,0,0,0,0,0,0,0,0,0,0,0,0,0,0,0,0,0,0,0,0,0,0,0,0,0,0,0,0,0,0,0,0,0,0,0,0,0,0,0,0,0,0,0,0,0,0,0,0,0,0,0,0,0,0,0,0,0,0,0,0,0,0,0,0,0,0,0,0,0,0,0,0,0,0,0,0,0,0,0,0,0,0,0,0,0,0,0,0,0,0,0,0,0,0,0,0,0,0,0,0,0,0,0,0,0,0,0,0,0,0,0,0,0,0,0,0,0,0,0,0,0,0,0,0,0,0,0,0,0,0,0,0,0,0,0,0,0,0,0,0,0,0,0,0,0,0,0,0,0,0,0,0,0,0,0,0,0,0,0,0,0,0,0,0,0,0,0,0,0,0,0,0,0,0,0,0,0,0,0,0,0,0,0,0,0,0,0,0,0,0,0,0,0,0,0,0,0,0,0,0,0,0,0,0,0,0,0,0,0,0,0,0,0,0,0,0,0,0,0,0,0,0,0,0,0,0,0,0,0,0,0,0,0,0,0,0,0,0,0,0,0,0,0,0,0,0,0,0,0,0,0,0,0,0,0,0,0,0,0,0,0,0,0,0,0,0,0,0,0,0,0,0,0,0,0,0,0,0,0,0,0,0,0,0,0\t0/0/1/2:27:60:21:26:272:1:0.004:0.998:1:0:0.5,0.25,0.25,0,0,0,0,0,0,0,0,0,0,0,0,0,0,0,0,0,0,0,0,0,0,0,0,0,0,0,0,0,0,0,0,0,0,0,0,0,0,0,0,0,0,0,0,0,0,0,0,0,0,0,0,0,0,0,0,0,0,0,0,0,0,0,0,0,0,0,0,0,0,0,0,0,0,0,0,0,0,0,0,0,0,0,0,0,0,0,0,0,0,0,0,0,0,0,0,0,0,0,0,0,0,0,0,0,0,0,0,0,0,0,0,0,0,0,0,0,0,0,0,0,0,0,0,0,0,0,0,0,0,0,0,0,0,0,0,0,0,0,0,0,0,0,0,0,0,0,0,0,0,0,0,0,0,0,0,0,0,0,0,0,0,0,0,0,0,0,0,0,0,0,0,0,0,0,0,0,0,0,0,0,0,0,0,0,0,0,0,0,0,0,0,0,0,0,0,0,0,0,0,0,0,0,0,0,0,0,0,0,0,0,0,0,0,0,0,0,0,0,0,0,0,0,0,0,0,0,0,0,0,0,0,0,0,0,0,0,0,0,0,0,0,0,0,0,0,0,0,0,0,0,0,0,0,0,0,0,0,0,0,0,0,0,0,0,0,0,0,0,0,0,0,0,0,0,0,0,0,0,0,0,0,0,0,0,0,0,0,0,0,0,0,0,0,0,0,0,0,0,0,0,0,0,0,0,0,0,0,0,0,0,0,0,0,0,0,0,0,0,0,0,0,0,0,0,0,0,0,0,0,0,0,0,0,0,0,0,0,0,0,0,0,0,0,0,0,0,0,0,0,0,0,0,0,0,0,0,0,0,0,0,0,0,0,0,0,0,0,0,0,0,0,0,0,0,0,0,0,0,0,0,0,0,0,0,0,0,0,0,0,0,0,0,0,0,0,0,0,0,0,0,0,0,0,0,0,0,0,0,0,0,0,0,0,0,0,0,0,0,0,0,0,0,0,0,0,0,0,0,0,0,0,0,0,0,0,0,0,0,0,0,0,0,0,0,0,0,0,0,0,0,0,0,0,0,0,0,0,0,0,0,0,0,0,0,0,0,0,0,0,0,0,0,0,0,0,0,0,0,0,0,0,0,0,0,0,0,0,0,0,0,0,0,0,0,0,0,0,0,0,0,0,0,0,0,0,0,0,0,0,0,0,0,0,0,0,0,0,0,0,0,0,0,0,0,0,0,0,0,0,0,0,0,0,0,0,0,0,0,0,0,0,0,0,0,0,0,0,0,0,0,0,0,0,0,0,0,0,0,0,0,0,0,0,0,0,0,0,0,0,0,0,0,0,0,0,0,0,0,0,0,0,0,0,0,0,0,0,0,0\t0/0/1/2:3:3:38:50:497:1:0.002:0.502:0.502:0:0.5,0.126,0.25,0.124,0,0,0,0,0,0,0,0,0,0,0,0,0,0,0,0,0,0,0,0,0,0,0,0,0,0,0,0,0,0,0,0,0,0,0,0,0,0,0,0,0,0,0,0,0,0,0,0,0,0,0,0,0,0,0,0,0,0,0,0,0,0,0,0,0,0,0,0,0,0,0,0,0,0,0,0,0,0,0,0,0,0,0,0,0,0,0,0,0,0,0,0,0,0,0,0,0,0,0,0,0,0,0,0,0,0,0,0,0,0,0,0,0,0,0,0,0,0,0,0,0,0,0,0,0,0,0,0,0,0,0,0,0,0,0,0,0,0,0,0,0,0,0,0,0,0,0,0,0,0,0,0,0,0,0,0,0,0,0,0,0,0,0,0,0,0,0,0,0,0,0,0,0,0,0,0,0,0,0,0,0,0,0,0,0,0,0,0,0,0,0,0,0,0,0,0,0,0,0,0,0,0,0,0,0,0,0,0,0,0,0,0,0,0,0,0,0,0,0,0,0,0,0,0,0,0,0,0,0,0,0,0,0,0,0,0,0,0,0,0,0,0,0,0,0,0,0,0,0,0,0,0,0,0,0,0,0,0,0,0,0,0,0,0,0,0,0,0,0,0,0,0,0,0,0,0,0,0,0,0,0,0,0,0,0,0,0,0,0,0,0,0,0,0,0,0,0,0,0,0,0,0,0,0,0,0,0,0,0,0,0,0,0,0,0,0,0,0,0,0,0,0,0,0,0,0,0,0,0,0,0,0,0,0,0,0,0,0,0,0,0,0,0,0,0,0,0,0,0,0,0,0,0,0,0,0,0,0,0,0,0,0,0,0,0,0,0,0,0,0,0,0,0,0,0,0,0,0,0,0,0,0,0,0,0,0,0,0,0,0,0,0,0,0,0,0,0,0,0,0,0,0,0,0,0,0,0,0,0,0,0,0,0,0,0,0,0,0,0,0,0,0,0,0,0,0,0,0,0,0,0,0,0,0,0,0,0,0,0,0,0,0,0,0,0,0,0,0,0,0,0,0,0,0,0,0,0,0,0,0,0,0,0,0,0,0,0,0,0,0,0,0,0,0,0,0,0,0,0,0,0,0,0,0,0,0,0,0,0,0,0,0,0,0,0,0,0,0,0,0,0,0,0,0,0,0,0,0,0,0,0,0,0,0,0,0,0,0,0,0,0,0,0,0,0,0,0,0,0,0,0,0,0,0,0,0,0,0,0,0,0,0,0,0,0,0,0,0,0,0,0,0,0,0,0,0,0,0,0,0,0,0,0,0,0,0,0,0,0,0,0,0,0,0,0,0,0,0,0,0,0,0,0,0,0,0,0,0,0\t0/0/0/1:60:60:33:46:424:1:0.002:1:1:0:0.75,0.25,0,0,0,0,0,0,0,0,0,0,0,0,0,0,0,0,0,0,0,0,0,0,0,0,0,0,0,0,0,0,0,0,0,0,0,0,0,0,0,0,0,0,0,0,0,0,0,0,0,0,0,0,0,0,0,0,0,0,0,0,0,0,0,0,0,0,0,0,0,0,0,0,0,0,0,0,0,0,0,0,0,0,0,0,0,0,0,0,0,0,0,0,0,0,0,0,0,0,0,0,0,0,0,0,0,0,0,0,0,0,0,0,0,0,0,0,0,0,0,0,0,0,0,0,0,0,0,0,0,0,0,0,0,0,0,0,0,0,0,0,0,0,0,0,0,0,0,0,0,0,0,0,0,0,0,0,0,0,0,0,0,0,0,0,0,0,0,0,0,0,0,0,0,0,0,0,0,0,0,0,0,0,0,0,0,0,0,0,0,0,0,0,0,0,0,0,0,0,0,0,0,0,0,0,0,0,0,0,0,0,0,0,0,0,0,0,0,0,0,0,0,0,0,0,0,0,0,0,0,0,0,0,0,0,0,0,0,0,0,0,0,0,0,0,0,0,0,0,0,0,0,0,0,0,0,0,0,0,0,0,0,0,0,0,0,0,0,0,0,0,0,0,0,0,0,0,0,0,0,0,0,0,0,0,0,0,0,0,0,0,0,0,0,0,0,0,0,0,0,0,0,0,0,0,0,0,0,0,0,0,0,0,0,0,0,0,0,0,0,0,0,0,0,0,0,0,0,0,0,0,0,0,0,0,0,0,0,0,0,0,0,0,0,0,0,0,0,0,0,0,0,0,0,0,0,0,0,0,0,0,0,0,0,0,0,0,0,0,0,0,0,0,0,0,0,0,0,0,0,0,0,0,0,0,0,0,0,0,0,0,0,0,0,0,0,0,0,0,0,0,0,0,0,0,0,0,0,0,0,0,0,0,0,0,0,0,0,0,0,0,0,0,0,0,0,0,0,0,0,0,0,0,0,0,0,0,0,0,0,0,0,0,0,0,0,0,0,0,0,0,0,0,0,0,0,0,0,0,0,0,0,0,0,0,0,0,0,0,0,0,0,0,0,0,0,0,0,0,0,0,0,0,0,0,0,0,0,0,0,0,0,0,0,0,0,0,0,0,0,0,0,0,0,0,0,0,0,0,0,0,0,0,0,0,0,0,0,0,0,0,0,0,0,0,0,0,0,0,0,0,0,0,0,0,0,0,0,0,0,0,0,0,0,0,0,0,0,0,0,0,0,0,0,0,0,0,0,0,0,0,0,0,0,0,0,0,0,0,0,0,0,0,0,0,0,0,0,0,0,0,0,0,0,0,0,0,0,0,0,0,0\t0/0/0/1:9:9:28:41:358:4:0.011:0.864:0.867:0:0.716,0.251,0,0,0.008,0.004,0.004,0.004,0,0,0,0.003,0,0,0,0,0,0,0,0,0,0,0,0,0,0,0,0,0,0,0,0,0,0,0,0,0,0,0,0,0,0,0,0,0,0,0,0,0,0,0,0,0,0,0,0,0,0,0,0,0,0,0.001,0,0,0,0,0,0,0,0,0,0,0,0,0,0,0,0,0,0,0,0,0,0,0,0,0,0,0,0,0,0,0.001,0,0,0,0,0,0,0,0,0,0,0,0,0,0,0,0,0,0,0,0,0,0,0,0,0,0,0,0,0,0,0,0,0,0,0,0,0,0,0,0,0,0,0,0,0,0,0,0,0,0,0,0,0,0,0,0,0,0,0,0,0,0,0,0,0,0,0,0,0,0,0,0,0,0,0,0,0,0,0,0,0,0,0,0,0,0,0,0,0,0,0,0,0,0,0,0,0,0,0,0,0,0,0,0,0,0,0,0,0,0,0,0,0,0,0,0,0,0,0,0,0,0,0,0,0,0,0,0,0,0,0,0,0,0,0,0,0,0,0,0,0,0,0,0,0,0,0,0,0,0,0,0,0,0,0,0,0,0,0,0,0,0,0,0,0,0,0,0,0,0,0,0,0,0,0,0,0,0,0,0,0,0,0,0,0,0,0,0,0,0,0,0,0,0,0,0,0,0,0,0,0,0,0,0,0,0,0,0,0,0,0,0,0,0,0,0,0,0,0,0,0,0,0,0,0,0,0,0,0,0,0,0,0,0,0,0,0,0,0,0,0,0,0,0,0,0,0,0,0,0,0,0,0,0,0,0,0,0,0,0,0,0,0,0,0,0,0,0,0,0,0,0,0,0,0,0,0,0,0,0,0,0,0,0,0,0,0,0,0,0,0,0,0,0,0,0,0,0,0,0,0,0,0,0,0,0,0,0,0,0,0,0,0,0,0,0,0,0,0,0,0,0,0,0,0,0,0,0,0,0,0,0,0,0,0,0,0,0,0,0,0,0,0,0,0,0,0,0,0,0,0,0,0,0,0,0,0,0,0,0,0,0,0,0,0,0,0,0,0,0,0,0,0,0,0,0,0,0,0,0,0,0,0,0,0,0,0,0,0,0,0,0,0,0,0,0,0,0,0,0,0,0,0,0,0,0,0,0,0,0,0,0,0,0,0,0,0,0,0,0,0,0,0,0,0,0,0,0,0,0,0,0,0,0,0,0,0,0,0,0,0,0,0,0,0,0,0,0,0,0,0,0,0,0,0,0,0,0,0,0,0,0,0,0,0,0,0,0,0,0,0,0,0,0,0,0,0,0,0,0,0,0,0,0,0,0,0,0,0,0,0,0,0,0,0,0,0,0,0\t0/0/0/1:16:17:19:27:251:0:0:0.976:0.98:0:0.744,0.251,0,0,0,0,0,0,0,0,0,0,0,0,0,0,0,0,0,0,0,0,0,0,0,0,0,0,0,0,0,0,0,0,0,0,0,0,0,0,0,0,0,0,0,0,0,0,0,0,0,0,0,0,0,0,0,0,0,0,0,0,0,0,0,0,0,0,0,0,0,0,0,0,0,0,0,0,0,0,0,0,0,0,0,0,0,0,0,0,0,0,0,0,0,0,0,0,0,0,0,0,0,0,0,0,0,0,0,0,0,0,0,0,0,0,0,0,0,0,0,0,0,0,0,0,0,0,0,0,0,0,0,0,0,0,0,0,0,0,0,0,0,0,0,0,0,0,0,0,0,0,0,0,0,0,0,0,0,0,0,0,0,0,0,0,0,0,0,0,0,0,0,0,0,0,0,0,0,0,0,0,0,0,0,0,0,0,0,0,0,0,0,0,0,0,0,0,0,0,0,0,0,0,0,0,0,0,0,0,0,0,0,0,0,0,0,0,0,0,0,0,0,0,0,0,0,0,0,0,0,0,0,0,0,0,0,0,0,0,0,0,0,0,0,0,0,0,0,0,0,0,0,0,0,0,0,0,0,0,0,0,0,0,0,0,0,0,0,0,0,0,0,0,0,0,0,0,0,0,0,0,0,0,0,0,0,0,0,0,0,0,0,0,0,0,0,0,0,0,0,0,0,0,0,0,0,0,0,0,0,0,0,0,0,0,0,0,0,0,0,0,0,0,0,0,0,0,0,0,0,0,0,0,0,0,0,0,0,0,0,0,0,0,0,0,0,0,0,0,0,0,0,0,0,0,0,0,0,0,0,0,0,0,0,0,0,0,0,0,0,0,0,0,0,0,0,0,0,0,0,0,0,0,0,0,0,0,0,0,0,0,0,0,0,0,0,0,0,0,0,0,0,0,0,0,0,0,0,0,0,0,0,0,0,0,0,0,0,0,0,0,0,0,0,0,0,0,0,0,0,0,0,0,0,0,0,0,0,0,0,0,0,0,0,0,0,0,0,0,0,0,0,0,0,0,0,0,0,0,0,0,0,0,0,0,0,0,0,0,0,0,0,0,0,0,0,0,0,0,0,0,0,0,0,0,0,0,0,0,0,0,0,0,0,0,0,0,0,0,0,0,0,0,0,0,0,0,0,0,0,0,0,0,0,0,0,0,0,0,0,0,0,0,0,0,0,0,0,0,0,0,0,0,0,0,0,0,0,0,0,0,0,0,0,0,0,0,0,0,0,0,0,0,0,0,0,0,0,0,0,0,0,0,0,0,0,0,0,0,0,0,0,0,0,0,0,0,0,0,0,0,0,0,0,0,0,0,0,0,0,0,0\t0/0/1/2:25:25:27:35:347:0:0:0.996:0.996:0:0.5,0.249,0.25,0,0,0,0,0,0,0,0,0,0,0,0,0,0,0,0,0,0,0,0,0,0,0,0,0,0,0,0,0,0,0,0,0,0,0,0,0,0,0,0,0,0,0,0,0,0,0,0,0,0,0,0,0,0,0,0,0,0,0,0,0,0,0,0,0,0,0,0,0,0,0,0,0,0,0,0,0,0,0,0,0,0,0,0,0,0,0,0,0,0,0,0,0,0,0,0,0,0,0,0,0,0,0,0,0,0,0,0,0,0,0,0,0,0,0,0,0,0,0,0,0,0,0,0,0,0,0,0,0,0,0,0,0,0,0,0,0,0,0,0,0,0,0,0,0,0,0,0,0,0,0,0,0,0,0,0,0,0,0,0,0,0,0,0,0,0,0,0,0,0,0,0,0,0,0,0,0,0,0,0,0,0,0,0,0,0,0,0,0,0,0,0,0,0,0,0,0,0,0,0,0,0,0,0,0,0,0,0,0,0,0,0,0,0,0,0,0,0,0,0,0,0,0,0,0,0,0,0,0,0,0,0,0,0,0,0,0,0,0,0,0,0,0,0,0,0,0,0,0,0,0,0,0,0,0,0,0,0,0,0,0,0,0,0,0,0,0,0,0,0,0,0,0,0,0,0,0,0,0,0,0,0,0,0,0,0,0,0,0,0,0,0,0,0,0,0,0,0,0,0,0,0,0,0,0,0,0,0,0,0,0,0,0,0,0,0,0,0,0,0,0,0,0,0,0,0,0,0,0,0,0,0,0,0,0,0,0,0,0,0,0,0,0,0,0,0,0,0,0,0,0,0,0,0,0,0,0,0,0,0,0,0,0,0,0,0,0,0,0,0,0,0,0,0,0,0,0,0,0,0,0,0,0,0,0,0,0,0,0,0,0,0,0,0,0,0,0,0,0,0,0,0,0,0,0,0,0,0,0,0,0,0,0,0,0,0,0,0,0,0,0,0,0,0,0,0,0,0,0,0,0,0,0,0,0,0,0,0,0,0,0,0,0,0,0,0,0,0,0,0,0,0,0,0,0,0,0,0,0,0,0,0,0,0,0,0,0,0,0,0,0,0,0,0,0,0,0,0,0,0,0,0,0,0,0,0,0,0,0,0,0,0,0,0,0,0,0,0,0,0,0,0,0,0,0,0,0,0,0,0,0,0,0,0,0,0,0,0,0,0,0,0,0,0,0,0,0,0,0,0,0,0,0,0,0,0,0,0,0,0,0,0,0,0,0,0,0,0,0,0,0,0,0,0,0,0,0,0,0,0,0,0,0,0,0,0,0,0,0,0,0,0,0,0,0,0,0,0,0,0,0,0,0,0,0,0,0,0,0,0\t0/0/0/1:25:25:30:37:387:3:0.008:0.996:0.996:0:0.75,0.249,0,0.001,0,0,0,0,0,0,0,0,0,0,0,0,0,0,0,0,0,0,0,0,0,0,0,0,0,0,0,0,0,0,0,0,0,0,0,0,0,0,0,0,0,0,0,0,0,0,0,0,0,0,0,0,0,0,0,0,0,0,0,0,0,0,0,0,0,0,0,0,0,0,0,0,0,0,0,0,0,0,0,0,0,0,0,0,0,0,0,0,0,0,0,0,0,0,0,0,0,0,0,0,0,0,0,0,0,0,0,0,0,0,0,0,0,0,0,0,0,0,0,0,0,0,0,0,0,0,0,0,0,0,0,0,0,0,0,0,0,0,0,0,0,0,0,0,0,0,0,0,0,0,0,0,0,0,0,0,0,0,0,0,0,0,0,0,0,0,0,0,0,0,0,0,0,0,0,0,0,0,0,0,0,0,0,0,0,0,0,0,0,0,0,0,0,0,0,0,0,0,0,0,0,0,0,0,0,0,0,0,0,0,0,0,0,0,0,0,0,0,0,0,0,0,0,0,0,0,0,0,0,0,0,0,0,0,0,0,0,0,0,0,0,0,0,0,0,0,0,0,0,0,0,0,0,0,0,0,0,0,0,0,0,0,0,0,0,0,0,0,0,0,0,0,0,0,0,0,0,0,0,0,0,0,0,0,0,0,0,0,0,0,0,0,0,0,0,0,0,0,0,0,0,0,0,0,0,0,0,0,0,0,0,0,0,0,0,0,0,0,0,0,0,0,0,0,0,0,0,0,0,0,0,0,0,0,0,0,0,0,0,0,0,0,0,0,0,0,0,0,0,0,0,0,0,0,0,0,0,0,0,0,0,0,0,0,0,0,0,0,0,0,0,0,0,0,0,0,0,0,0,0,0,0,0,0,0,0,0,0,0,0,0,0,0,0,0,0,0,0,0,0,0,0,0,0,0,0,0,0,0,0,0,0,0,0,0,0,0,0,0,0,0,0,0,0,0,0,0,0,0,0,0,0,0,0,0,0,0,0,0,0,0,0,0,0,0,0,0,0,0,0,0,0,0,0,0,0,0,0,0,0,0,0,0,0,0,0,0,0,0,0,0,0,0,0,0,0,0,0,0,0,0,0,0,0,0,0,0,0,0,0,0,0,0,0,0,0,0,0,0,0,0,0,0,0,0,0,0,0,0,0,0,0,0,0,0,0,0,0,0,0,0,0,0,0,0,0,0,0,0,0,0,0,0,0,0,0,0,0,0,0,0,0,0,0,0,0,0,0,0,0,0,0,0,0,0,0,0,0,0,0,0,0,0,0,0,0,0,0,0,0,0,0,0,0,0,0,0,0,0,0,0,0,0,0,0,0,0,0,0\t0/0/0/1:60:60:39:58:511:0:0:1:1:0:0.75,0.25,0,0,0,0,0,0,0,0,0,0,0,0,0,0,0,0,0,0,0,0,0,0,0,0,0,0,0,0,0,0,0,0,0,0,0,0,0,0,0,0,0,0,0,0,0,0,0,0,0,0,0,0,0,0,0,0,0,0,0,0,0,0,0,0,0,0,0,0,0,0,0,0,0,0,0,0,0,0,0,0,0,0,0,0,0,0,0,0,0,0,0,0,0,0,0,0,0,0,0,0,0,0,0,0,0,0,0,0,0,0,0,0,0,0,0,0,0,0,0,0,0,0,0,0,0,0,0,0,0,0,0,0,0,0,0,0,0,0,0,0,0,0,0,0,0,0,0,0,0,0,0,0,0,0,0,0,0,0,0,0,0,0,0,0,0,0,0,0,0,0,0,0,0,0,0,0,0,0,0,0,0,0,0,0,0,0,0,0,0,0,0,0,0,0,0,0,0,0,0,0,0,0,0,0,0,0,0,0,0,0,0,0,0,0,0,0,0,0,0,0,0,0,0,0,0,0,0,0,0,0,0,0,0,0,0,0,0,0,0,0,0,0,0,0,0,0,0,0,0,0,0,0,0,0,0,0,0,0,0,0,0,0,0,0,0,0,0,0,0,0,0,0,0,0,0,0,0,0,0,0,0,0,0,0,0,0,0,0,0,0,0,0,0,0,0,0,0,0,0,0,0,0,0,0,0,0,0,0,0,0,0,0,0,0,0,0,0,0,0,0,0,0,0,0,0,0,0,0,0,0,0,0,0,0,0,0,0,0,0,0,0,0,0,0,0,0,0,0,0,0,0,0,0,0,0,0,0,0,0,0,0,0,0,0,0,0,0,0,0,0,0,0,0,0,0,0,0,0,0,0,0,0,0,0,0,0,0,0,0,0,0,0,0,0,0,0,0,0,0,0,0,0,0,0,0,0,0,0,0,0,0,0,0,0,0,0,0,0,0,0,0,0,0,0,0,0,0,0,0,0,0,0,0,0,0,0,0,0,0,0,0,0,0,0,0,0,0,0,0,0,0,0,0,0,0,0,0,0,0,0,0,0,0,0,0,0,0,0,0,0,0,0,0,0,0,0,0,0,0,0,0,0,0,0,0,0,0,0,0,0,0,0,0,0,0,0,0,0,0,0,0,0,0,0,0,0,0,0,0,0,0,0,0,0,0,0,0,0,0,0,0,0,0,0,0,0,0,0,0,0,0,0,0,0,0,0,0,0,0,0,0,0,0,0,0,0,0,0,0,0,0,0,0,0,0,0,0,0,0,0,0,0,0,0,0,0,0,0,0,0,0,0,0,0,0,0,0,0,0,0,0,0,0,0,0,0,0,0,0,0,0\t0/0/1/2:60:60:27:38:346:0:0:1:1:0:0.5,0.25,0.25,0,0,0,0,0,0,0,0,0,0,0,0,0,0,0,0,0,0,0,0,0,0,0,0,0,0,0,0,0,0,0,0,0,0,0,0,0,0,0,0,0,0,0,0,0,0,0,0,0,0,0,0,0,0,0,0,0,0,0,0,0,0,0,0,0,0,0,0,0,0,0,0,0,0,0,0,0,0,0,0,0,0,0,0,0,0,0,0,0,0,0,0,0,0,0,0,0,0,0,0,0,0,0,0,0,0,0,0,0,0,0,0,0,0,0,0,0,0,0,0,0,0,0,0,0,0,0,0,0,0,0,0,0,0,0,0,0,0,0,0,0,0,0,0,0,0,0,0,0,0,0,0,0,0,0,0,0,0,0,0,0,0,0,0,0,0,0,0,0,0,0,0,0,0,0,0,0,0,0,0,0,0,0,0,0,0,0,0,0,0,0,0,0,0,0,0,0,0,0,0,0,0,0,0,0,0,0,0,0,0,0,0,0,0,0,0,0,0,0,0,0,0,0,0,0,0,0,0,0,0,0,0,0,0,0,0,0,0,0,0,0,0,0,0,0,0,0,0,0,0,0,0,0,0,0,0,0,0,0,0,0,0,0,0,0,0,0,0,0,0,0,0,0,0,0,0,0,0,0,0,0,0,0,0,0,0,0,0,0,0,0,0,0,0,0,0,0,0,0,0,0,0,0,0,0,0,0,0,0,0,0,0,0,0,0,0,0,0,0,0,0,0,0,0,0,0,0,0,0,0,0,0,0,0,0,0,0,0,0,0,0,0,0,0,0,0,0,0,0,0,0,0,0,0,0,0,0,0,0,0,0,0,0,0,0,0,0,0,0,0,0,0,0,0,0,0,0,0,0,0,0,0,0,0,0,0,0,0,0,0,0,0,0,0,0,0,0,0,0,0,0,0,0,0,0,0,0,0,0,0,0,0,0,0,0,0,0,0,0,0,0,0,0,0,0,0,0,0,0,0,0,0,0,0,0,0,0,0,0,0,0,0,0,0,0,0,0,0,0,0,0,0,0,0,0,0,0,0,0,0,0,0,0,0,0,0,0,0,0,0,0,0,0,0,0,0,0,0,0,0,0,0,0,0,0,0,0,0,0,0,0,0,0,0,0,0,0,0,0,0,0,0,0,0,0,0,0,0,0,0,0,0,0,0,0,0,0,0,0,0,0,0,0,0,0,0,0,0,0,0,0,0,0,0,0,0,0,0,0,0,0,0,0,0,0,0,0,0,0,0,0,0,0,0,0,0,0,0,0,0,0,0,0,0,0,0,0,0,0,0,0,0,0,0,0,0,0,0,0,0,0,0,0,0,0,0,0,0,0,0\t0/0/1/2:33:60:25:34:326:1:0.003:1:1:0:0.5,0.25,0.25,0,0,0,0,0,0,0,0,0,0,0,0,0,0,0,0,0,0,0,0,0,0,0,0,0,0,0,0,0,0,0,0,0,0,0,0,0,0,0,0,0,0,0,0,0,0,0,0,0,0,0,0,0,0,0,0,0,0,0,0,0,0,0,0,0,0,0,0,0,0,0,0,0,0,0,0,0,0,0,0,0,0,0,0,0,0,0,0,0,0,0,0,0,0,0,0,0,0,0,0,0,0,0,0,0,0,0,0,0,0,0,0,0,0,0,0,0,0,0,0,0,0,0,0,0,0,0,0,0,0,0,0,0,0,0,0,0,0,0,0,0,0,0,0,0,0,0,0,0,0,0,0,0,0,0,0,0,0,0,0,0,0,0,0,0,0,0,0,0,0,0,0,0,0,0,0,0,0,0,0,0,0,0,0,0,0,0,0,0,0,0,0,0,0,0,0,0,0,0,0,0,0,0,0,0,0,0,0,0,0,0,0,0,0,0,0,0,0,0,0,0,0,0,0,0,0,0,0,0,0,0,0,0,0,0,0,0,0,0,0,0,0,0,0,0,0,0,0,0,0,0,0,0,0,0,0,0,0,0,0,0,0,0,0,0,0,0,0,0,0,0,0,0,0,0,0,0,0,0,0,0,0,0,0,0,0,0,0,0,0,0,0,0,0,0,0,0,0,0,0,0,0,0,0,0,0,0,0,0,0,0,0,0,0,0,0,0,0,0,0,0,0,0,0,0,0,0,0,0,0,0,0,0,0,0,0,0,0,0,0,0,0,0,0,0,0,0,0,0,0,0,0,0,0,0,0,0,0,0,0,0,0,0,0,0,0,0,0,0,0,0,0,0,0,0,0,0,0,0,0,0,0,0,0,0,0,0,0,0,0,0,0,0,0,0,0,0,0,0,0,0,0,0,0,0,0,0,0,0,0,0,0,0,0,0,0,0,0,0,0,0,0,0,0,0,0,0,0,0,0,0,0,0,0,0,0,0,0,0,0,0,0,0,0,0,0,0,0,0,0,0,0,0,0,0,0,0,0,0,0,0,0,0,0,0,0,0,0,0,0,0,0,0,0,0,0,0,0,0,0,0,0,0,0,0,0,0,0,0,0,0,0,0,0,0,0,0,0,0,0,0,0,0,0,0,0,0,0,0,0,0,0,0,0,0,0,0,0,0,0,0,0,0,0,0,0,0,0,0,0,0,0,0,0,0,0,0,0,0,0,0,0,0,0,0,0,0,0,0,0,0,0,0,0,0,0,0,0,0,0,0,0,0,0,0,0,0,0,0,0,0,0,0,0,0,0,0,0,0,0,0,0,0,0,0,0,0,0,0,0\t0/0/0/1:26:26:26:35:341:0:0:0.998:0.998:0:0.75,0.249,0,0,0,0,0,0,0,0,0,0,0,0,0,0,0,0,0,0,0,0,0,0,0,0,0,0,0,0,0,0,0,0,0,0,0,0,0,0,0,0,0,0,0,0,0,0,0,0,0,0,0,0,0,0,0,0,0,0,0,0,0,0,0,0,0,0,0,0,0,0,0,0,0,0,0,0,0,0,0,0,0,0,0,0,0,0,0,0,0,0,0,0,0,0,0,0,0,0,0,0,0,0,0,0,0,0,0,0,0,0,0,0,0,0,0,0,0,0,0,0,0,0,0,0,0,0,0,0,0,0,0,0,0,0,0,0,0,0,0,0,0,0,0,0,0,0,0,0,0,0,0,0,0,0,0,0,0,0,0,0,0,0,0,0,0,0,0,0,0,0,0,0,0,0,0,0,0,0,0,0,0,0,0,0,0,0,0,0,0,0,0,0,0,0,0,0,0,0,0,0,0,0,0,0,0,0,0,0,0,0,0,0,0,0,0,0,0,0,0,0,0,0,0,0,0,0,0,0,0,0,0,0,0,0,0,0,0,0,0,0,0,0,0,0,0,0,0,0,0,0,0,0,0,0,0,0,0,0,0,0,0,0,0,0,0,0,0,0,0,0,0,0,0,0,0,0,0,0,0,0,0,0,0,0,0,0,0,0,0,0,0,0,0,0,0,0,0,0,0,0,0,0,0,0,0,0,0,0,0,0,0,0,0,0,0,0,0,0,0,0,0,0,0,0,0,0,0,0,0,0,0,0,0,0,0,0,0,0,0,0,0,0,0,0,0,0,0,0,0,0,0,0,0,0,0,0,0,0,0,0,0,0,0,0,0,0,0,0,0,0,0,0,0,0,0,0,0,0,0,0,0,0,0,0,0,0,0,0,0,0,0,0,0,0,0,0,0,0,0,0,0,0,0,0,0,0,0,0,0,0,0,0,0,0,0,0,0,0,0,0,0,0,0,0,0,0,0,0,0,0,0,0,0,0,0,0,0,0,0,0,0,0,0,0,0,0,0,0,0,0,0,0,0,0,0,0,0,0,0,0,0,0,0,0,0,0,0,0,0,0,0,0,0,0,0,0,0,0,0,0,0,0,0,0,0,0,0,0,0,0,0,0,0,0,0,0,0,0,0,0,0,0,0,0,0,0,0,0,0,0,0,0,0,0,0,0,0,0,0,0,0,0,0,0,0,0,0,0,0,0,0,0,0,0,0,0,0,0,0,0,0,0,0,0,0,0,0,0,0,0,0,0,0,0,0,0,0,0,0,0,0,0,0,0,0,0,0,0,0,0,0,0,0,0,0,0,0,0,0,0,0,0,0,0,0,0,0,0,0,0,0\t0/0/1/2:20:20:34:45:441:0:0:0.991:0.991:0:0.5,0.25,0.248,0,0,0,0,0,0,0,0,0,0,0,0,0,0,0,0,0,0,0.002,0,0,0,0,0,0,0,0,0,0,0,0,0,0,0,0,0,0,0,0,0,0,0,0,0,0,0,0,0,0,0,0,0,0,0,0,0,0,0,0,0,0,0,0,0,0,0,0,0,0,0,0,0,0,0,0,0,0,0,0,0,0,0,0,0,0,0,0,0,0,0,0,0,0,0,0,0,0,0,0,0,0,0,0,0,0,0,0,0,0,0,0,0,0,0,0,0,0,0,0,0,0,0,0,0,0,0,0,0,0,0,0,0,0,0,0,0,0,0,0,0,0,0,0,0,0,0,0,0,0,0,0,0,0,0,0,0,0,0,0,0,0,0,0,0,0,0,0,0,0,0,0,0,0,0,0,0,0,0,0,0,0,0,0,0,0,0,0,0,0,0,0,0,0,0,0,0,0,0,0,0,0,0,0,0,0,0,0,0,0,0,0,0,0,0,0,0,0,0,0,0,0,0,0,0,0,0,0,0,0,0,0,0,0,0,0,0,0,0,0,0,0,0,0,0,0,0,0,0,0,0,0,0,0,0,0,0,0,0,0,0,0,0,0,0,0,0,0,0,0,0,0,0,0,0,0,0,0,0,0,0,0,0,0,0,0,0,0,0,0,0,0,0,0,0,0,0,0,0,0,0,0,0,0,0,0,0,0,0,0,0,0,0,0,0,0,0,0,0,0,0,0,0,0,0,0,0,0,0,0,0,0,0,0,0,0,0,0,0,0,0,0,0,0,0,0,0,0,0,0,0,0,0,0,0,0,0,0,0,0,0,0,0,0,0,0,0,0,0,0,0,0,0,0,0,0,0,0,0,0,0,0,0,0,0,0,0,0,0,0,0,0,0,0,0,0,0,0,0,0,0,0,0,0,0,0,0,0,0,0,0,0,0,0,0,0,0,0,0,0,0,0,0,0,0,0,0,0,0,0,0,0,0,0,0,0,0,0,0,0,0,0,0,0,0,0,0,0,0,0,0,0,0,0,0,0,0,0,0,0,0,0,0,0,0,0,0,0,0,0,0,0,0,0,0,0,0,0,0,0,0,0,0,0,0,0,0,0,0,0,0,0,0,0,0,0,0,0,0,0,0,0,0,0,0,0,0,0,0,0,0,0,0,0,0,0,0,0,0,0,0,0,0,0,0,0,0,0,0,0,0,0,0,0,0,0,0,0,0,0,0,0,0,0,0,0,0,0,0,0,0,0,0,0,0,0,0,0,0,0,0,0,0,0,0,0,0,0,0,0,0,0,0,0,0,0,0,0,0,0,0,0,0,0,0,0,0,0,0,0,0\t0/0/1/2:60:60:37:50:483:0:0:1:1:0:0.5,0.25,0.25,0,0,0,0,0,0,0,0,0,0,0,0,0,0,0,0,0,0,0,0,0,0,0,0,0,0,0,0,0,0,0,0,0,0,0,0,0,0,0,0,0,0,0,0,0,0,0,0,0,0,0,0,0,0,0,0,0,0,0,0,0,0,0,0,0,0,0,0,0,0,0,0,0,0,0,0,0,0,0,0,0,0,0,0,0,0,0,0,0,0,0,0,0,0,0,0,0,0,0,0,0,0,0,0,0,0,0,0,0,0,0,0,0,0,0,0,0,0,0,0,0,0,0,0,0,0,0,0,0,0,0,0,0,0,0,0,0,0,0,0,0,0,0,0,0,0,0,0,0,0,0,0,0,0,0,0,0,0,0,0,0,0,0,0,0,0,0,0,0,0,0,0,0,0,0,0,0,0,0,0,0,0,0,0,0,0,0,0,0,0,0,0,0,0,0,0,0,0,0,0,0,0,0,0,0,0,0,0,0,0,0,0,0,0,0,0,0,0,0,0,0,0,0,0,0,0,0,0,0,0,0,0,0,0,0,0,0,0,0,0,0,0,0,0,0,0,0,0,0,0,0,0,0,0,0,0,0,0,0,0,0,0,0,0,0,0,0,0,0,0,0,0,0,0,0,0,0,0,0,0,0,0,0,0,0,0,0,0,0,0,0,0,0,0,0,0,0,0,0,0,0,0,0,0,0,0,0,0,0,0,0,0,0,0,0,0,0,0,0,0,0,0,0,0,0,0,0,0,0,0,0,0,0,0,0,0,0,0,0,0,0,0,0,0,0,0,0,0,0,0,0,0,0,0,0,0,0,0,0,0,0,0,0,0,0,0,0,0,0,0,0,0,0,0,0,0,0,0,0,0,0,0,0,0,0,0,0,0,0,0,0,0,0,0,0,0,0,0,0,0,0,0,0,0,0,0,0,0,0,0,0,0,0,0,0,0,0,0,0,0,0,0,0,0,0,0,0,0,0,0,0,0,0,0,0,0,0,0,0,0,0,0,0,0,0,0,0,0,0,0,0,0,0,0,0,0,0,0,0,0,0,0,0,0,0,0,0,0,0,0,0,0,0,0,0,0,0,0,0,0,0,0,0,0,0,0,0,0,0,0,0,0,0,0,0,0,0,0,0,0,0,0,0,0,0,0,0,0,0,0,0,0,0,0,0,0,0,0,0,0,0,0,0,0,0,0,0,0,0,0,0,0,0,0,0,0,0,0,0,0,0,0,0,0,0,0,0,0,0,0,0,0,0,0,0,0,0,0,0,0,0,0,0,0,0,0,0,0,0,0,0,0,0,0,0,0,0,0,0,0,0,0,0,0,0,0,0,0,0,0\t0/0/0/1:10:10:30:39:386:3:0.008:0.91:0.91:0:0.73,0.247,0.019,0,0,0,0,0,0,0,0,0,0,0,0,0,0,0,0,0,0,0,0,0,0,0,0,0,0,0,0,0,0,0,0,0,0,0,0,0,0,0,0,0,0,0,0,0,0,0,0,0,0,0,0,0,0,0,0,0,0,0,0,0,0,0,0,0,0,0,0,0,0,0,0,0,0,0,0,0,0,0,0,0,0,0,0,0,0,0,0,0,0,0,0,0,0,0,0,0,0,0,0,0,0,0,0,0,0,0,0,0,0,0,0,0,0,0,0,0,0,0,0,0,0,0,0,0,0,0,0,0,0,0,0,0,0,0,0,0,0,0,0,0,0,0,0,0,0,0,0,0,0,0,0,0,0,0,0,0,0,0,0,0,0,0,0,0,0,0,0,0,0,0,0,0,0,0,0,0,0,0,0,0,0,0,0,0,0,0,0,0,0,0,0,0,0,0,0,0,0,0,0,0,0,0,0,0,0,0,0,0,0,0,0,0,0,0,0,0,0,0,0,0,0,0,0,0,0,0,0,0,0,0,0,0,0,0,0,0,0,0,0,0,0,0,0,0,0,0,0,0,0,0,0,0,0,0,0,0,0,0,0,0,0,0,0,0,0,0,0,0,0,0,0,0,0,0,0,0,0,0,0,0,0,0,0,0,0,0,0,0,0,0,0,0,0,0,0,0,0,0,0,0,0,0,0,0,0,0,0,0,0,0,0,0,0,0,0,0,0,0,0,0,0,0,0,0,0,0,0,0,0,0,0,0,0,0,0,0,0,0,0,0,0,0,0,0,0,0,0,0,0,0,0,0,0,0,0,0,0,0,0,0,0,0,0,0,0,0,0,0,0,0,0,0,0,0,0,0,0,0,0,0,0,0,0,0,0,0,0,0,0,0,0,0,0,0,0,0,0,0,0,0,0,0,0,0,0,0,0,0,0,0,0,0,0,0,0,0,0,0,0,0,0,0,0,0,0,0,0,0,0,0,0,0,0,0,0,0,0,0,0,0,0,0,0,0,0,0,0,0,0,0,0,0,0,0,0,0,0,0,0,0,0,0,0,0,0,0,0,0,0,0,0,0,0,0,0,0,0,0,0,0,0,0,0,0,0,0,0,0,0,0,0,0,0,0,0,0,0,0,0,0,0,0,0,0,0,0,0,0,0,0,0,0,0,0,0,0,0,0,0,0,0,0,0,0,0,0,0,0,0,0,0,0,0,0,0,0,0,0,0,0,0,0,0,0,0,0,0,0,0,0,0,0,0,0,0,0,0,0,0,0,0,0,0,0,0,0,0,0,0,0,0,0,0,0,0,0,0,0,0,0,0,0,0,0,0,0,0,0,0\t0/0/0/1:60:60:30:38:390:0:0:1:1:0:0.75,0.25,0,0,0,0,0,0,0,0,0,0,0,0,0,0,0,0,0,0,0,0,0,0,0,0,0,0,0,0,0,0,0,0,0,0,0,0,0,0,0,0,0,0,0,0,0,0,0,0,0,0,0,0,0,0,0,0,0,0,0,0,0,0,0,0,0,0,0,0,0,0,0,0,0,0,0,0,0,0,0,0,0,0,0,0,0,0,0,0,0,0,0,0,0,0,0,0,0,0,0,0,0,0,0,0,0,0,0,0,0,0,0,0,0,0,0,0,0,0,0,0,0,0,0,0,0,0,0,0,0,0,0,0,0,0,0,0,0,0,0,0,0,0,0,0,0,0,0,0,0,0,0,0,0,0,0,0,0,0,0,0,0,0,0,0,0,0,0,0,0,0,0,0,0,0,0,0,0,0,0,0,0,0,0,0,0,0,0,0,0,0,0,0,0,0,0,0,0,0,0,0,0,0,0,0,0,0,0,0,0,0,0,0,0,0,0,0,0,0,0,0,0,0,0,0,0,0,0,0,0,0,0,0,0,0,0,0,0,0,0,0,0,0,0,0,0,0,0,0,0,0,0,0,0,0,0,0,0,0,0,0,0,0,0,0,0,0,0,0,0,0,0,0,0,0,0,0,0,0,0,0,0,0,0,0,0,0,0,0,0,0,0,0,0,0,0,0,0,0,0,0,0,0,0,0,0,0,0,0,0,0,0,0,0,0,0,0,0,0,0,0,0,0,0,0,0,0,0,0,0,0,0,0,0,0,0,0,0,0,0,0,0,0,0,0,0,0,0,0,0,0,0,0,0,0,0,0,0,0,0,0,0,0,0,0,0,0,0,0,0,0,0,0,0,0,0,0,0,0,0,0,0,0,0,0,0,0,0,0,0,0,0,0,0,0,0,0,0,0,0,0,0,0,0,0,0,0,0,0,0,0,0,0,0,0,0,0,0,0,0,0,0,0,0,0,0,0,0,0,0,0,0,0,0,0,0,0,0,0,0,0,0,0,0,0,0,0,0,0,0,0,0,0,0,0,0,0,0,0,0,0,0,0,0,0,0,0,0,0,0,0,0,0,0,0,0,0,0,0,0,0,0,0,0,0,0,0,0,0,0,0,0,0,0,0,0,0,0,0,0,0,0,0,0,0,0,0,0,0,0,0,0,0,0,0,0,0,0,0,0,0,0,0,0,0,0,0,0,0,0,0,0,0,0,0,0,0,0,0,0,0,0,0,0,0,0,0,0,0,0,0,0,0,0,0,0,0,0,0,0,0,0,0,0,0,0,0,0,0,0,0,0,0,0,0,0,0,0,0,0,0,0,0,0,0,0,0,0,0,0,0,0\n"
     ]
    }
   ],
   "source": [
    "zcat assemble.AFP.full.vcf.gz | grep \"locus001\""
   ]
  },
  {
   "cell_type": "markdown",
   "id": "4d8a22f9-21d5-4565-8fe1-c47af095d3dd",
   "metadata": {
    "tags": []
   },
   "source": [
    "## Re-calling genotypes with `mchap call` (two-step approach)\n",
    "\n",
    "*For more background information on* `mchap call` *see the online [documentation](https://github.com/PlantandFoodResearch/MCHap/blob/master/docs/call.rst).*\n",
    "\n",
    "Recalling genotypes with `mchap call` has a few advantages:\n",
    "\n",
    "- All genotypes will be complete\n",
    "- Restriction of the prior distribution to a subset of alleles\n",
    "- Can incorporate a prior on allele frequencies\n",
    "\n",
    "This is most effective in a population of related samples"
   ]
  },
  {
   "cell_type": "markdown",
   "id": "aac0af3f-9625-4b1c-93fa-50ec15c85042",
   "metadata": {},
   "source": [
    "### Basic re-calling\n",
    "\n",
    "A simple `mchap call` command:"
   ]
  },
  {
   "cell_type": "code",
   "execution_count": 15,
   "id": "4ef98fd3-4f59-4ec1-ab50-c93d32ca9461",
   "metadata": {},
   "outputs": [],
   "source": [
    "mchap call \\\n",
    "        --bam input/bam/*.loci.bam \\\n",
    "        --haplotypes assemble.vcf.gz \\\n",
    "        --ploidy 4 \\\n",
    "        --inbreeding 0.01 \\\n",
    "        | bgzip > assemble.recall.vcf.gz\n",
    "tabix -p vcf assemble.recall.vcf.gz"
   ]
  },
  {
   "cell_type": "markdown",
   "id": "1c0fa7f0-2639-49dc-b66d-4f4c114a1674",
   "metadata": {},
   "source": [
    "Notes:\n",
    "- The `--haplotypes` argument replaces the `--variants` argument\n",
    "- There is no `--reference` argument\n",
    "- By default, it is assumed that all input alleles are equally frequent (i.e., a flat prior over frequencies)"
   ]
  },
  {
   "cell_type": "markdown",
   "id": "f7395796-6f6b-4fe2-98de-8690a1a1c467",
   "metadata": {},
   "source": [
    "Let's look at `locus001` again:"
   ]
  },
  {
   "cell_type": "code",
   "execution_count": 16,
   "id": "c7b138be-62e4-45e0-b148-71028e5fc0e1",
   "metadata": {},
   "outputs": [
    {
     "name": "stdout",
     "output_type": "stream",
     "text": [
      "chr1\t17591\t\u001b[01;31m\u001b[Klocus001\u001b[m\u001b[K\tGTTATTGGACAGTGACGATGGAGTGATTGCTGGCGCAGGCCGCCAGCACCACCACCACCAAGTCGACATGTCCGACATTTATGGGGTGGTGCCACAAAACCTGCTCACAAATGGTACAC\tATTATTGGACAATGACGATGGGGTGGTTGCTGGCCCAGTCCGCCAGCACCACCACCACCAAGTCAACATGTCGGACATTTATGGGGTGGTGCCACGAAACCTGATCACAAATGGCGCAC,GTTATTGGACAGTGACGATGGAGTGATTGCTGGTGCAGGCCGCCAGCACCACCACCACCAAGTCGACATGTCCGACATTTATGGGGTGGTGCCACAAAACCTGCTCACAAATGGCACAC,ATTATTGGACAATGACGATGGGGTGGTTGCTGGCCCAGTCCGCCAGCACCACCACCACCAAGTCAACATGTCGGACATTTATGGGGTGGTGCCACGAAACCTGATCACAAATGGTGCAC\t.\tPASS\tAN=88;AC=21,13,1;NS=22;DP=619;RCOUNT=847;END=17709;NVAR=13;SNVPOS=1,12,22,26,34,35,39,65,73,96,104,115,116\tGT:GQ:PHQ:DP:RCOUNT:RCALLS:MEC:MECP:GPM:PHPM:MCI\t0/0/1/2:60:60:30:43:383:2:0.005:1:1:0\t0/0/0/1:8:8:22:28:280:2:0.007:0.824:0.824:0\t0/0/1/2:60:60:31:41:401:1:0.002:1:1:0\t0/0/1/2:17:25:14:26:176:0:0:0.979:0.997:0\t0/0/1/2:60:60:25:31:320:0:0:1:1:0\t0/0/1/2:60:60:31:46:408:0:0:1:1:0\t0/0/0/1:60:60:22:33:291:0:0:1:1:0\t0/0/1/2:13:13:21:26:272:1:0.004:0.952:0.954:0\t0/0/2/3:3:3:38:50:497:1:0.002:0.507:0.507:0\t0/0/0/1:60:60:33:46:424:1:0.002:1:1:0\t0/0/0/1:6:6:28:41:358:4:0.011:0.76:0.77:0\t0/0/0/1:20:26:19:27:251:0:0:0.991:0.997:0\t0/0/1/2:60:60:27:35:347:0:0:1:1:0\t0/0/0/1:18:18:30:37:387:3:0.008:0.982:0.982:0\t0/0/0/1:60:60:39:58:511:0:0:1:1:0\t0/0/1/2:60:60:27:38:346:0:0:1:1:0\t0/0/1/2:17:17:25:34:326:1:0.003:0.98:0.98:0\t0/0/0/1:60:60:26:35:341:0:0:1:1:0\t0/0/1/2:60:60:34:45:441:0:0:1:1:0\t0/0/1/2:60:60:37:50:483:0:0:1:1:0\t0/0/1/2:4:4:30:39:386:1:0.003:0.614:0.614:0\t0/0/0/1:60:60:30:38:390:0:0:1:1:0\n"
     ]
    }
   ],
   "source": [
    "zcat assemble.recall.vcf.gz | grep \"locus001\""
   ]
  },
  {
   "cell_type": "markdown",
   "id": "53b8964d-7f35-4c4d-84ac-72c299eeac57",
   "metadata": {},
   "source": [
    "Note that sample `progeny007` has been called with genotype `0/0/2/3` and that allele `3` is not found in any other sample.\n",
    "This is a low-quality call with  `GQ = 3` and `GPM = 0.507`.\n",
    "In the initial assembly, the genotype called for `progeny007` was `0/0/1/2` with `GQ = 3`, `GPM = 0.502`.\n",
    "These posterior probabilities suggest that the genotype call of `progeny007` will be strongly influenced by the **prior distribution**."
   ]
  },
  {
   "cell_type": "markdown",
   "id": "dc131aad-5c40-49a8-a993-8e78b2c0d219",
   "metadata": {},
   "source": [
    "### Specifying prior allele frequencies\n",
    "\n",
    "In this example we use the population posterior allele frequencies from the initial assembly as prior allele frequencies for re-calling genotypes.\n",
    "This assumes that the allele frequencies in a given individual should be proportional to the allele frequencies in the population as a whole.\n",
    "This is a reasonable assumption for closely related samples (e.g., siblings).\n",
    "This is slightly less realistic for the parents, however it is likely to be more realistic than a flat prior:"
   ]
  },
  {
   "cell_type": "code",
   "execution_count": 17,
   "id": "84e164f5-fa39-4881-801c-6d856ae24de9",
   "metadata": {},
   "outputs": [],
   "source": [
    "mchap call \\\n",
    "        --bam input/bam/*.loci.bam \\\n",
    "        --haplotypes assemble.AFP.vcf.gz \\\n",
    "        --ploidy 4 \\\n",
    "        --inbreeding 0.01 \\\n",
    "        --prior-frequencies AFP \\\n",
    "        | bgzip > assemble.AFP.prior.recall.vcf.gz\n",
    "tabix -p vcf assemble.AFP.prior.recall.vcf.gz"
   ]
  },
  {
   "cell_type": "markdown",
   "id": "370312ec-d7b3-4523-99a5-94b4ab7a3048",
   "metadata": {},
   "source": [
    "Notes:\n",
    "\n",
    "- The `--haplotype-frequencies` argument specifies a VCF INFO field to use as population prior frequencies"
   ]
  },
  {
   "cell_type": "markdown",
   "id": "a671e481-7f80-4822-95b2-ead8d7481f4c",
   "metadata": {},
   "source": [
    "Looking at `locus001` again:"
   ]
  },
  {
   "cell_type": "code",
   "execution_count": 18,
   "id": "267a601f-3505-4a79-9474-0981135cec6f",
   "metadata": {},
   "outputs": [
    {
     "name": "stdout",
     "output_type": "stream",
     "text": [
      "chr1\t17591\t\u001b[01;31m\u001b[Klocus001\u001b[m\u001b[K\tGTTATTGGACAGTGACGATGGAGTGATTGCTGGCGCAGGCCGCCAGCACCACCACCACCAAGTCGACATGTCCGACATTTATGGGGTGGTGCCACAAAACCTGCTCACAAATGGTACAC\tATTATTGGACAATGACGATGGGGTGGTTGCTGGCCCAGTCCGCCAGCACCACCACCACCAAGTCAACATGTCGGACATTTATGGGGTGGTGCCACGAAACCTGATCACAAATGGCGCAC,GTTATTGGACAGTGACGATGGAGTGATTGCTGGTGCAGGCCGCCAGCACCACCACCACCAAGTCGACATGTCCGACATTTATGGGGTGGTGCCACAAAACCTGCTCACAAATGGCACAC,ATTATTGGACAATGACGATGGGGTGGTTGCTGGCCCAGTCCGCCAGCACCACCACCACCAAGTCAACATGTCGGACATTTATGGGGTGGTGCCACGAAACCTGATCACAAATGGTGCAC\t.\tPASS\tAN=88;AC=22,12,0;NS=22;DP=619;RCOUNT=847;END=17709;NVAR=13;SNVPOS=1,12,22,26,34,35,39,65,73,96,104,115,116\tGT:GQ:PHQ:DP:RCOUNT:RCALLS:MEC:MECP:GPM:PHPM:MCI\t0/0/1/2:60:60:30:43:383:2:0.005:1:1:0\t0/0/0/1:24:24:22:28:280:2:0.007:0.996:0.996:0\t0/0/1/2:60:60:31:41:401:1:0.002:1:1:0\t0/0/1/2:23:60:14:26:176:0:0:0.994:1:0\t0/0/1/2:60:60:25:31:320:0:0:1:1:0\t0/0/1/2:60:60:31:46:408:0:0:1:1:0\t0/0/0/1:60:60:22:33:291:0:0:1:1:0\t0/0/1/2:27:28:21:26:272:1:0.004:0.998:0.998:0\t0/0/1/2:16:16:38:50:497:1:0.002:0.976:0.976:0\t0/0/0/1:60:60:33:46:424:1:0.002:1:1:0\t0/0/0/1:20:24:28:41:358:4:0.011:0.989:0.996:0\t0/0/0/1:25:60:19:27:251:0:0:0.996:1:0\t0/0/1/2:60:60:27:35:347:0:0:1:1:0\t0/0/0/1:60:60:30:37:387:3:0.008:1:1:0\t0/0/0/1:60:60:39:58:511:0:0:1:1:0\t0/0/1/2:60:60:27:38:346:0:0:1:1:0\t0/0/1/2:60:60:25:34:326:1:0.003:1:1:0\t0/0/0/1:60:60:26:35:341:0:0:1:1:0\t0/0/1/2:60:60:34:45:441:0:0:1:1:0\t0/0/1/2:60:60:37:50:483:0:0:1:1:0\t0/0/0/1:6:6:30:39:386:3:0.008:0.731:0.731:0\t0/0/0/1:60:60:30:38:390:0:0:1:1:0\n"
     ]
    }
   ],
   "source": [
    "zcat assemble.AFP.prior.recall.vcf.gz | grep \"locus001\""
   ]
  },
  {
   "cell_type": "markdown",
   "id": "f7bbf5c6-f1ff-4f25-bef8-fd66ff04f0b7",
   "metadata": {},
   "source": [
    "The `progeny007` now has genotype `0/0/1/2` with a posterior probability (`GPM`) of `0.976`.\n",
    "In effect we have improved the genotype call of `progeny007` by incorporating information from the population in the form of a prior on allele frequencies.\n",
    "\n",
    "Technically this approach is slightly biased because the prior was calculated using the initial assembly `AFP` of `progeny007` among other samples.\n",
    "This means the reads observed from `progeny007` have been included in both the prior distribution and in the likelihood function.\n",
    "However, this bias will quickly be diluted as the number of samples in the population increases."
   ]
  },
  {
   "cell_type": "markdown",
   "id": "1d1ed0a0-cf93-454f-ba33-9b7d2cbe607c",
   "metadata": {},
   "source": [
    "### Two-step approach with a pooled assembly\n",
    "\n",
    "The data we are working with is from a bi-parental 4x cross.\n",
    "Based on this knowledge we can assume that there are, at most, 8 haplotypes present in the population.\n",
    "Furthermore, assuming negligible selection, the allele frequencies of the population should approximate the combined dosage of the parents.\n",
    "Therefore, we may be able to improve haplotype assembly by \"pooling\" all the sample data into a single pseudo-octoploid sample.\n",
    "We can then re-call individual genotypes based on the alleles found in the pooled assembly.\n",
    "\n",
    "We can pool all samples into a pseudo-sample using the `--sample-pool` argument:"
   ]
  },
  {
   "cell_type": "code",
   "execution_count": 19,
   "id": "17181e13-a16e-4c57-b961-b14ee746523f",
   "metadata": {},
   "outputs": [],
   "source": [
    "mchap assemble \\\n",
    "        --bam input/bam/*.bam \\\n",
    "        --targets input/bed/targets4.bed \\\n",
    "        --variants input/vcf/snvs.vcf.gz \\\n",
    "        --reference input/fasta/chr1.fa.gz \\\n",
    "        --sample-pool POOL \\\n",
    "        --ploidy 8 \\\n",
    "        --report AFP \\\n",
    "        | bgzip > pooled.AFP.vcf.gz\n",
    "tabix -p vcf pooled.AFP.vcf.gz"
   ]
  },
  {
   "cell_type": "markdown",
   "id": "0b79ce82-1f51-4545-bdd0-4da020c6960f",
   "metadata": {},
   "source": [
    "Notes:\n",
    "\n",
    "- The `--sample-pool` parameter takes a name for our pooled \"sample\" in the output VCF file\n",
    "- We set `--ploidy` to `8` to treat this pooled sample as an octoploid\n",
    "- We have omitted  the `--inbreeding` argument, we could still include this but it would be interpreted as the *population* inbreeding coefficient"
   ]
  },
  {
   "cell_type": "markdown",
   "id": "5de2f96e-fa6d-4aef-8ec9-b855a6a563d5",
   "metadata": {},
   "source": [
    "We can then re-call individual genotypes using the alleles found in the pooled sample: "
   ]
  },
  {
   "cell_type": "code",
   "execution_count": 20,
   "id": "76b95ac7-7636-4eb7-a39b-0042a80a39c7",
   "metadata": {},
   "outputs": [],
   "source": [
    "mchap call \\\n",
    "        --bam input/bam/*.loci.bam \\\n",
    "        --haplotypes pooled.AFP.vcf.gz \\\n",
    "        --ploidy 4 \\\n",
    "        --inbreeding 0.01 \\\n",
    "        --prior-frequencies AFP \\\n",
    "        | bgzip > pooled.AFP.prior.recall.vcf.gz\n",
    "tabix -p vcf pooled.AFP.prior.recall.vcf.gz"
   ]
  },
  {
   "cell_type": "markdown",
   "id": "c654cdf7-7be2-47bb-b813-49756a5a7091",
   "metadata": {},
   "source": [
    "The pooled two-step approach is most effective with large, unselected populations.\n",
    "It can be particularly beneficial if your samples have low read depths resulting in poor quality individual assemblies.\n",
    "However, assembling haplotypes at a higher ploidy can also be a cause of lower quality assemblies.\n",
    "Therefore, the best improvement comes from having so many samples that their combined read depth is more than sufficient for assembly at the higher ploidy.\n",
    "An additional advantage of a pooled assembly step with large populations is that it can be substantially faster than many individual assemblies.\n",
    "The example dataset used here is too small to see a substantial improvement."
   ]
  },
  {
   "cell_type": "markdown",
   "id": "9aeb9494-5466-4828-93f3-af0916d3462d",
   "metadata": {},
   "source": [
    "Lets lookl at `locus001` again:"
   ]
  },
  {
   "cell_type": "code",
   "execution_count": 21,
   "id": "998bd3c7-6077-4f84-a7dd-d1a64d14a62f",
   "metadata": {},
   "outputs": [
    {
     "name": "stdout",
     "output_type": "stream",
     "text": [
      "chr1\t17591\t\u001b[01;31m\u001b[Klocus001\u001b[m\u001b[K\tGTTATTGGACAGTGACGATGGAGTGATTGCTGGCGCAGGCCGCCAGCACCACCACCACCAAGTCGACATGTCCGACATTTATGGGGTGGTGCCACAAAACCTGCTCACAAATGGTACAC\tATTATTGGACAATGACGATGGGGTGGTTGCTGGCCCAGTCCGCCAGCACCACCACCACCAAGTCAACATGTCGGACATTTATGGGGTGGTGCCACGAAACCTGATCACAAATGGCGCAC,GTTATTGGACAGTGACGATGGAGTGATTGCTGGTGCAGGCCGCCAGCACCACCACCACCAAGTCGACATGTCCGACATTTATGGGGTGGTGCCACAAAACCTGCTCACAAATGGCACAC\t.\tPASS\tAN=88;AC=22,12;NS=22;DP=619;RCOUNT=847;END=17709;NVAR=13;SNVPOS=1,12,22,26,34,35,39,65,73,96,104,115,116\tGT:GQ:PHQ:DP:RCOUNT:RCALLS:MEC:MECP:GPM:PHPM:MCI\t0/0/1/2:60:60:30:43:383:2:0.005:1:1:0\t0/0/0/1:60:60:22:28:280:2:0.007:1:1:0\t0/0/1/2:60:60:31:41:401:1:0.002:1:1:0\t0/0/1/2:23:60:14:26:176:0:0:0.995:1:0\t0/0/1/2:60:60:25:31:320:0:0:1:1:0\t0/0/1/2:60:60:31:46:408:0:0:1:1:0\t0/0/0/1:60:60:22:33:291:0:0:1:1:0\t0/0/1/2:30:60:21:26:272:1:0.004:0.999:1:0\t0/0/1/2:60:60:38:50:497:1:0.002:1:1:0\t0/0/0/1:60:60:33:46:424:1:0.002:1:1:0\t0/0/0/1:24:60:28:41:358:4:0.011:0.996:1:0\t0/0/0/1:28:60:19:27:251:0:0:0.998:1:0\t0/0/1/2:60:60:27:35:347:0:0:1:1:0\t0/0/0/1:60:60:30:37:387:3:0.008:1:1:0\t0/0/0/1:60:60:39:58:511:0:0:1:1:0\t0/0/1/2:60:60:27:38:346:0:0:1:1:0\t0/0/1/2:60:60:25:34:326:1:0.003:1:1:0\t0/0/0/1:60:60:26:35:341:0:0:1:1:0\t0/0/1/2:60:60:34:45:441:0:0:1:1:0\t0/0/1/2:60:60:37:50:483:0:0:1:1:0\t0/0/0/1:7:7:30:39:386:3:0.008:0.786:0.786:0\t0/0/0/1:60:60:30:38:390:0:0:1:1:0\n"
     ]
    }
   ],
   "source": [
    "zcat pooled.AFP.prior.recall.vcf.gz | grep \"locus001\""
   ]
  },
  {
   "cell_type": "markdown",
   "id": "36528365-dbbf-4994-aac7-7f45f081a9c2",
   "metadata": {},
   "source": [
    "There are now only 3 alleles reported for `locus001` but the re-called genotypes seem to be the same.\n",
    "This reflects that `locus001` seems to be a well-behaved locus for assembly."
   ]
  },
  {
   "cell_type": "markdown",
   "id": "30ca240e-449e-4da4-b20e-fb257d8ea69c",
   "metadata": {},
   "source": [
    "Next we will look at `locus016` which we have not previously seen.\n",
    "We start by checking the non-pooled two-step results:"
   ]
  },
  {
   "cell_type": "code",
   "execution_count": 22,
   "id": "69988d86-1378-4582-a488-33afcf634eb8",
   "metadata": {},
   "outputs": [
    {
     "name": "stdout",
     "output_type": "stream",
     "text": [
      "chr1\t684809\t\u001b[01;31m\u001b[Klocus016\u001b[m\u001b[K\tTCACATATGTTAAGCTATCGACCAATTGGCCAACAACAGGACCAAACAATGCAGTAGAGGCAGATTCGACCACACCGTAAACGGCAGGTAGGAGCAAGGAGTCTGGAAAAATATGAATC\tTCACATATGTTAAGCTATCGACAAATTGGCCAACAACAGGACCAAACAATGCAGTAGAGGCAGATTCGACCACACCGTAAACGGCAGGTAGGAGTAAGGAGTCTGGGAAAATATGAATC,TCACATATGTTAAGCTATCAACCCATTGTCCAACAAGGGGCCCAAACAATGCCGTGGAAGCAGATTCCACCACACCATAAACAGCAGCTAAGAGTAATGAGTCTGGACAAATATCAATC,TCACATATGTTAAGCTATCGACCAATTGGCCAACAACAGGACCAAACAATGCAGTAGAGGCAGATTCGACCACACCGTAAACGGCAGGTAGGAGCAAGGAGTCTAGAAAAATATGAATC,TCACATATGTTAAGCTATCGACCAATTGGCCAACAACGGGACCAAACAATGCAGTAGAGTCAGATTCAACCACACCGTAAACGGCAGGTAGGAGTAAGGAGTCTGGAAAAATATGAATC,TCACATATGTTAAGCTATCGACAAATTGGCCAACAACAGGACCAAGCAATGCAGTAGAGGCAGATTCGACCACACCGTAAACGGCAGGTAGGAGTAAGGAGTCTGGAAAAATATGAATC,TCACATATGTTAAGCTATCAACCCATTGTCCAACAAGAGGCCCAAACAATGCCGTGGAAGCAGATTCCACCACACCATAAACAGCAGCTAAGAGTAATGAGTCTGGACAAATATCAATC,TCACATATGTTAAGCTATCAACCCATTGTCCAACAAGGGGCCCAAACAATGCCGTGGAAGCAGATTCCACCACACCATAAACAGCAGCTAGGAGTAAGGAGTCTGGACAAATATCAATC\t.\tPASS\tAN=88;AC=22,21,11,10,13,1,0;NS=22;DP=3067;RCOUNT=3820;END=684927;NVAR=23;SNVPOS=20,23,24,29,37,38,41,46,53,56,59,60,68,77,83,88,91,95,98,105,107,108,115\tGT:GQ:PHQ:DP:RCOUNT:RCALLS:MEC:MECP:GPM:PHPM:MCI\t1/2/3/5:60:60:144:188:3309:7:0.002:1:1:0\t0/1/2/4:60:60:216:271:4963:4:0.001:1:1:0\t0/1/2/5:60:60:184:225:4211:44:0.01:1:1:0\t0/1/2/5:60:60:118:148:2709:50:0.018:1:1:0\t3/4/5/6:60:60:138:164:3158:39:0.012:1:1:0\t0/1/2/5:60:60:167:214:3828:2:0.001:1:1:0\t1/2/3/4:60:60:103:130:2365:52:0.022:1:1:0\t1/2/4/5:60:60:74:94:1698:5:0.003:1:1:0\t1/2/3/5:60:60:133:162:3047:41:0.013:1:1:0\t1/2/3/4:60:60:126:169:2883:12:0.004:1:1:0\t1/2/3/4:60:60:115:142:2626:5:0.002:1:1:0\t0/1/2/3:9:9:110:141:2530:13:0.005:0.876:0.876:0\t1/1/2/5:60:60:134:170:3079:0:0:1:1:0\t0/1/2/3:60:60:203:250:4645:4:0.001:1:1:0\t0/2/4/5:60:60:91:113:2082:35:0.017:1:1:0\t1/2/3/5:60:60:122:152:2801:56:0.02:1:1:0\t0/1/2/5:60:60:141:170:3228:44:0.014:1:1:0\t0/1/2/4:60:60:139:171:3178:32:0.01:1:1:0\t0/1/2/5:60:60:235:280:5397:24:0.004:1:1:0\t1/2/3/5:60:60:149:188:3421:5:0.001:1:1:0\t1/1/2/4:60:60:103:128:2354:9:0.004:1:1:0\t1/2/3/4:60:60:122:150:2814:1:0:1:1:0\n"
     ]
    }
   ],
   "source": [
    "zcat assemble.AFP.prior.recall.vcf.gz | grep \"locus016\""
   ]
  },
  {
   "cell_type": "markdown",
   "id": "ccfbb17b-1131-4eac-89e8-e10565bc0f06",
   "metadata": {},
   "source": [
    "And now the pooled two-step results:"
   ]
  },
  {
   "cell_type": "code",
   "execution_count": 23,
   "id": "8e570e35-9b94-4072-acd5-49ab4d4fca88",
   "metadata": {},
   "outputs": [
    {
     "name": "stdout",
     "output_type": "stream",
     "text": [
      "chr1\t684809\t\u001b[01;31m\u001b[Klocus016\u001b[m\u001b[K\tTCACATATGTTAAGCTATCGACCAATTGGCCAACAACAGGACCAAACAATGCAGTAGAGGCAGATTCGACCACACCGTAAACGGCAGGTAGGAGCAAGGAGTCTGGAAAAATATGAATC\tTCACATATGTTAAGCTATCGACAAATTGGCCAACAACAGGACCAAACAATGCAGTAGAGGCAGATTCGACCACACCGTAAACGGCAGGTAGGAGTAAGGAGTCTGGGAAAATATGAATC,TCACATATGTTAAGCTATCAACCCATTGTCCAACAAGGGGCCCAAACAATGCCGTGGAAGCAGATTCCACCACACCATAAACAGCAGCTAAGAGTAATGAGTCTGGACAAATATCAATC,TCACATATGTTAAGCTATCGACAAATTGGCCAACAACAGGACCAAGCAATGCAGTAGAGGCAGATTCGACCACACCGTAAACGGCAGGTAGGAGTAAGGAGTCTGGAAAAATATGAATC,TCACATATGTTAAGCTATCGACCAATTGGCCAACAACGGGACCAAACAATGCAGTAGAGTCAGATTCAACCACACCGTAAACGGCAGGTAGGAGTAAGGAGTCTGGAAAAATATGAATC,TCACATATGTTAAGCTATCGACCAATTGGCCAACAACAGGACCAAACAATGCAGTAGAGGCAGATTCGACCACACCGTAAACGGCAGGTAGGAGCAAGGAGTCTAGAAAAATATGAATC\t.\tPASS\tAN=88;AC=22,22,13,10,11;NS=22;DP=3067;RCOUNT=3820;END=684927;NVAR=23;SNVPOS=20,23,24,29,37,38,41,46,53,56,59,60,68,77,83,88,91,95,98,105,107,108,115\tGT:GQ:PHQ:DP:RCOUNT:RCALLS:MEC:MECP:GPM:PHPM:MCI\t1/2/3/5:60:60:144:188:3309:7:0.002:1:1:0\t0/1/2/4:60:60:216:271:4963:4:0.001:1:1:0\t0/1/2/3:60:60:184:225:4211:44:0.01:1:1:0\t0/1/2/3:60:60:118:148:2709:50:0.018:1:1:0\t2/3/4/5:60:60:138:164:3158:42:0.013:1:1:0\t0/1/2/3:60:60:167:214:3828:2:0.001:1:1:0\t1/2/4/5:60:60:103:130:2365:52:0.022:1:1:0\t1/2/3/4:60:60:74:94:1698:5:0.003:1:1:0\t1/2/3/5:60:60:133:162:3047:41:0.013:1:1:0\t1/2/4/5:60:60:126:169:2883:12:0.004:1:1:0\t1/2/4/5:60:60:115:142:2626:5:0.002:1:1:0\t0/1/2/5:60:60:110:141:2530:13:0.005:1:1:0\t1/1/2/3:60:60:134:170:3079:0:0:1:1:0\t0/1/2/5:60:60:203:250:4645:4:0.001:1:1:0\t0/2/3/4:60:60:91:113:2082:35:0.017:1:1:0\t1/2/3/5:60:60:122:152:2801:56:0.02:1:1:0\t0/1/2/3:60:60:141:170:3228:44:0.014:1:1:0\t0/1/2/4:60:60:139:171:3178:32:0.01:1:1:0\t0/1/2/3:60:60:235:280:5397:24:0.004:1:1:0\t1/2/3/5:60:60:149:188:3421:5:0.001:1:1:0\t1/1/2/4:60:60:103:128:2354:9:0.004:1:1:0\t1/2/4/5:60:60:122:150:2814:1:0:1:1:0\n"
     ]
    }
   ],
   "source": [
    "zcat pooled.AFP.prior.recall.vcf.gz | grep \"locus016\""
   ]
  },
  {
   "cell_type": "markdown",
   "id": "aff90cfa-fc80-4b88-8915-baeba6993b82",
   "metadata": {},
   "source": [
    "At this locus there seems to be some minor improvements with a pooled assembly:\n",
    "\n",
    "- alleles `6` and `7` are no longer reported\n",
    "- genotype `3/4/5/6` is now `2/3/4/5` (more congruent with parents)\n"
   ]
  },
  {
   "cell_type": "markdown",
   "id": "d242f200-735d-41df-831f-03d44a1535e5",
   "metadata": {},
   "source": [
    "If we look at `locus012` again we see the pooled result is cleaner although still incongruent:"
   ]
  },
  {
   "cell_type": "code",
   "execution_count": 24,
   "id": "cadff6ae-cf0c-4c7e-9a02-f0c439417427",
   "metadata": {},
   "outputs": [
    {
     "name": "stdout",
     "output_type": "stream",
     "text": [
      "chr1\t568849\t\u001b[01;31m\u001b[Klocus012\u001b[m\u001b[K\tTTGATAGATTGGAAATGAGAGGGGTGAAGGTGCATATTCTCAACATAACACAGCTCTCAGAGTATCGAAAAGACGGTCACCCCTCGATTTATAGAAGGCAATGGGTGGCTTTAACAGAA\tTTGATAGGTTGGAAATGAGAGGGGTGAAGGTGCATATTCTCAACATAACACAGCTCTCAGAGTATCGAAAAGACGGTCACCCCTCGATTTATAGAAGGCAATGGGTGGCTTTAACAGAA,TTGATAGATTGGAAATGAGAGGGGTGAAGGTGCATATTCTCAACATAACACAGCTCTCAGAGTATCGAAAAGACGGTCACCCCTCCATTTACAGAAGGCAATGGGTGGCTTTAACAGAA,TTGATGGATTGGAAATGAGAGGTGTGAAGGTGCATACTCTCAACATAACACAGTTCTCCGAGTATCGAAAAGACGGTCACCCCTCAATTTACAGAAGGCAATGGGTGGCTTTACCAGAA,TTGATAGATTGGAAATGAGAGGGGTGAATGTGCATATTCTCAACATAACACAGCTCTCAGAGTATCGAAAAGACGGTCACCCCTCGATTTACAGAAGGCAATGGGTGGCTTTAACAGAA,TTGATAGGTTGGAAATGAGAGGGGTGAAGGTGCATATTCTCAACATAACACAGCTCTCAGAGTATCGAAAAGACGGTCACCCCTCCATTTACAGAAGGCAATGGGTGGCTTTAACAGAA,TTGATAGATTGGAAATGAGAGGGGTGAAGGTGCATATTGTCAACATAACACAGCTCTCAGAGTATCGAAAAGACGGTCACCCCTCCATTTACAGAAGGCAATGGGTGGCTTTAACAGAA,TTGATGGATTGGAAATGAGAGGTGTGAAGGTGCATACTCTCAACATAACACAGTTCTCCGAGTATCGAAAAGACGGTCACCCCTCGATTTATAGAAGGCAATGGGTGGCTTTAACAGAA,TTGATAGATTGGAAATGAGAGGGGTGAATGTGCATATTCTCAACATAACACAACTTTCAGAGTATCGAAAAGACGGTCACCCCTCGATTTACAGAAGGCAATGGGTGGCTTTAACAGAA,TTGATGGATTGGAAATGAGAGGTGTGAAGGTGCATACTCTCAACATAACACAACTTTCAGAGTATCGAAAAGACGGTCACCCCTCAATTTACAGAAGGCAATGGGTGGCTTTACCAGAA,TTGATGGATTGGAAATGAGAGGTGTGAAGGTGCATACTCTCAACATAACACAGTTCTCCGAGTATCGAAAAGACGGTCACCCCTCAATTTACAGAAGGCAATGGGTGGCTTTAACAGAA,TTGATGGATTGGAAATGAGAGGTGTGAAGGTGCATACTCTCAACATAACACAACTTTCAGAGTATCGAAAAGACGGTCACCCCTCGATTTATAGAAGGCAATGGGTGGCTTTAACAGAA,TTGATGGATTGGAAATGAGAGGTGTGAAGGTGCATACTCTCAACATAACACAGTTCTCAGAGTATCGAAAAGACGGTCACCCCTCGATTTACAGAAGGCAATGGGTGGCTTTAACAGAA,TTGATGGATTGGAAATGAGAGGTGTGAAGGTGCATACTCTCAACATAACACAACTTTCAGAGTATCGAAAAGACGGTCACCCCTCAATTTACAGAAGGCAATGGGTGGCTTTAACAGAA,TTGATAGGTTGGAAATGAGAGGGGTGAAGGTGCATATTCTCAACATAACACAACTTTCAGAGTATCGAAAAGACGGTCACCCCTCCATTTACAGAAGGCAATGGGTGGCTTTAACAGAA,TTGATAGGTTGGAAATGAGAGGGGTGAAGGTGCATACTCTCAACATAACACAACTTTCAGAGTATCGAAAAGACGGTCACCCCTCCATTTACAGAAGGCAATGGGTGGCTTTAACAGAA,TTGATGGATTGGAAATGAGAGGTGTGAAGGTGCATACTCTCAACATAACACAGTTCTCAGAGTATCGAAAAGACGGTCACCCCTCGATTTATAGAAGGCAATGGGTGGCTTTAACAGAA\t.\tPASS\tAN=88;AC=24,12,21,10,7,4,0,4,2,0,3,0,0,1,0,0;REFMASKED;NS=22;DP=1596;RCOUNT=2447;END=568967;NVAR=13;SNVPOS=6,8,23,29,37,39,53,54,56,59,86,92,114\tGT:GQ:PHQ:DP:RCOUNT:RCALLS:MEC:MECP:GPM:PHPM:MCI\t1/3/4/6:60:60:83:131:1077:22:0.02:1:1:0\t1/2/3/5:60:60:127:189:1643:15:0.009:1:1:0\t1/3/5/11:3:3:95:141:1238:1:0.001:0.48:0.48:0\t1/2/3/4:60:60:69:101:896:22:0.025:1:1:0\t1/2/3/14:3:3:57:88:733:6:0.008:0.502:0.502:0\t1/3/4/5:14:14:62:110:806:11:0.014:0.964:0.964:0\t1/1/2/3:3:3:62:85:806:4:0.005:0.473:0.473:0\t1/2/3/6:60:60:36:51:469:0:0:1:1:0\t1/3/5/11:2:2:87:130:1123:0:0:0.362:0.362:0\t1/2/4/9:60:60:76:117:984:23:0.023:1:1:0\t1/2/3/4:60:60:57:100:739:14:0.019:1:1:0\t1/3/4/5:60:60:70:98:908:4:0.004:1:1:0\t1/3/6/11:4:4:64:94:830:0:0:0.614:0.614:0\t1/3/5/8:28:28:90:150:1165:15:0.013:0.998:0.998:0\t1/2/3/4:60:60:56:84:732:14:0.019:1:1:0\t1/2/3/8:5:5:61:98:785:0:0:0.654:0.654:0\t1/2/3/8:3:3:66:103:851:17:0.02:0.494:0.494:0\t1/2/3/4:30:30:58:91:754:18:0.024:0.999:0.999:0\t1/3/5/8:60:60:116:180:1502:19:0.013:1:1:0\t1/1/3/9:1:1:81:116:1050:6:0.006:0.277:0.277:0\t1/3/4/6:60:60:55:84:710:30:0.042:1:1:0\t1/2/3/4:18:18:68:106:883:23:0.026:0.984:0.984:0\n"
     ]
    }
   ],
   "source": [
    "zcat assemble.AFP.prior.recall.vcf.gz | grep \"locus012\""
   ]
  },
  {
   "cell_type": "code",
   "execution_count": 25,
   "id": "88083219-dbe7-449f-aaab-b0d5b7b45892",
   "metadata": {},
   "outputs": [
    {
     "name": "stdout",
     "output_type": "stream",
     "text": [
      "chr1\t568849\t\u001b[01;31m\u001b[Klocus012\u001b[m\u001b[K\tTTGATAGATTGGAAATGAGAGGGGTGAAGGTGCATATTCTCAACATAACACAGCTCTCAGAGTATCGAAAAGACGGTCACCCCTCGATTTATAGAAGGCAATGGGTGGCTTTAACAGAA\tTTGATAGGTTGGAAATGAGAGGGGTGAAGGTGCATATTCTCAACATAACACAGCTCTCAGAGTATCGAAAAGACGGTCACCCCTCGATTTATAGAAGGCAATGGGTGGCTTTAACAGAA,TTGATGGATTGGAAATGAGAGGTGTGAAGGTGCATACTCTCAACATAACACAGTTCTCCGAGTATCGAAAAGACGGTCACCCCTCAATTTACAGAAGGCAATGGGTGGCTTTACCAGAA,TTGATAGGTTGGAAATGAGAGGGGTGAAGGTGCATATTCTCAACATAACACAGCTCTCAGAGTATCGAAAAGACGGTCACCCCTCCATTTACAGAAGGCAATGGGTGGCTTTAACAGAA,TTGATAGATTGGAAATGAGAGGGGTGAATGTGCATATTCTCAACATAACACAGCTCTCAGAGTATCGAAAAGACGGTCACCCCTCGATTTACAGAAGGCAATGGGTGGCTTTAACAGAA,TTGATAGATTGGAAATGAGAGGGGTGAAGGTGCATATTGTCAACATAACACAGCTCTCAGAGTATCGAAAAGACGGTCACCCCTCCATTTACAGAAGGCAATGGGTGGCTTTAACAGAA,TTGATAGATTGGAAATGAGAGGGGTGAAGGTGCATATTCTCAACATAACACAGCTCTCAGAGTATCGAAAAGACGGTCACCCCTCCATTTACAGAAGGCAATGGGTGGCTTTAACAGAA,TTGATAGGTTGGAAATGAGAGGGGTGAAGGTGCATATTCTCAACATAACACAACTTTCAGAGTATCGAAAAGACGGTCACCCCTCGATTTATAGAAGGCAATGGGTGGCTTTAACAGAA\t.\tPASS\tAN=88;AC=23,22,6,11,4,12,10;REFMASKED;NS=22;DP=1596;RCOUNT=2447;END=568967;NVAR=13;SNVPOS=6,8,23,29,37,39,53,54,56,59,86,92,114\tGT:GQ:PHQ:DP:RCOUNT:RCALLS:MEC:MECP:GPM:PHPM:MCI\t1/2/4/5:60:60:83:131:1077:22:0.02:1:1:0\t1/2/3/6:60:60:127:189:1643:15:0.009:1:1:0\t1/2/3/7:60:60:95:141:1238:1:0.001:1:1:0\t1/2/4/6:60:60:69:101:896:22:0.025:1:1:0\t1/2/6/7:60:60:57:88:733:8:0.011:1:1:0\t1/2/3/4:60:60:62:110:806:11:0.014:1:1:0\t1/2/6/7:5:5:62:85:806:0:0:0.658:0.658:0\t1/2/5/6:60:60:36:51:469:0:0:1:1:0\t1/2/3/7:60:60:87:130:1123:0:0:1:1:0\t1/2/6/7:12:12:76:117:984:27:0.027:0.93:0.93:0\t1/2/4/6:60:60:57:100:739:14:0.019:1:1:0\t1/2/3/4:60:60:70:98:908:4:0.004:1:1:0\t1/2/5/7:60:60:64:94:830:0:0:1:1:0\t1/2/3/4:60:60:90:150:1165:20:0.017:1:1:0\t1/2/4/6:60:60:56:84:732:14:0.019:1:1:0\t1/2/6/7:60:60:61:98:785:0:0:1:1:0\t1/2/6/7:60:60:66:103:851:17:0.02:1:1:0\t1/2/4/6:60:60:58:91:754:18:0.024:1:1:0\t1/2/4/7:33:33:116:180:1502:22:0.015:1:1:0\t1/1/2/7:60:60:81:116:1050:6:0.006:1:1:0\t1/2/4/5:8:8:55:84:710:30:0.042:0.858:0.858:0\t1/2/4/6:60:60:68:106:883:23:0.026:1:1:0\n"
     ]
    }
   ],
   "source": [
    "zcat pooled.AFP.prior.recall.vcf.gz | grep \"locus012\""
   ]
  },
  {
   "cell_type": "markdown",
   "id": "b2a6976c-b9b0-42f5-84bf-4b523179323f",
   "metadata": {},
   "source": [
    "Allele `6` is present in many progeny but not found in either parent."
   ]
  },
  {
   "cell_type": "code",
   "execution_count": null,
   "id": "722e11c6-3bd1-4b23-942c-8110e33f387d",
   "metadata": {},
   "outputs": [],
   "source": []
  }
 ],
 "metadata": {
  "kernelspec": {
   "display_name": "Bash",
   "language": "bash",
   "name": "bash"
  },
  "language_info": {
   "codemirror_mode": "shell",
   "file_extension": ".sh",
   "mimetype": "text/x-sh",
   "name": "bash"
  }
 },
 "nbformat": 4,
 "nbformat_minor": 5
}
